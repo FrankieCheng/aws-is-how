{
 "cells": [
  {
   "cell_type": "code",
   "execution_count": 7,
   "metadata": {},
   "outputs": [],
   "source": [
    "import time\n",
    "import os\n",
    "from sagemaker import get_execution_role, session\n",
    "import boto3\n",
    "\n",
    "region = boto3.Session().region_name\n",
    "\n",
    "role = get_execution_role()\n",
    "\n",
    "sm_client = boto3.client('sagemaker', region_name=region)"
   ]
  },
  {
   "cell_type": "code",
   "execution_count": 8,
   "metadata": {},
   "outputs": [
    {
     "name": "stdout",
     "output_type": "stream",
     "text": [
      "ModelPackageGroup Arn : arn:aws-cn:sagemaker:cn-north-1:876820548815:model-package-group/scikit-iris-detector-1636957027\n"
     ]
    }
   ],
   "source": [
    "import time\n",
    "model_package_group_name = \"scikit-iris-detector-\" + str(round(time.time()))\n",
    "model_package_group_input_dict = {\n",
    " \"ModelPackageGroupName\" : model_package_group_name,\n",
    " \"ModelPackageGroupDescription\" : \"Sample model package group\"\n",
    "}\n",
    "\n",
    "create_model_pacakge_group_response = sm_client.create_model_package_group(**model_package_group_input_dict)\n",
    "print('ModelPackageGroup Arn : {}'.format(create_model_pacakge_group_response['ModelPackageGroupArn']))"
   ]
  },
  {
   "cell_type": "code",
   "execution_count": 11,
   "metadata": {},
   "outputs": [],
   "source": [
    "modelpackage_inference_specification =  {\n",
    "    \"InferenceSpecification\": {\n",
    "      \"Containers\": [\n",
    "         {\n",
    "            \"Image\": '390948362332.dkr.ecr.cn-north-1.amazonaws.com.cn/xgboost:1',\n",
    "         }\n",
    "      ],\n",
    "      \"SupportedContentTypes\": [ \"text/csv\" ],\n",
    "      \"SupportedResponseMIMETypes\": [ \"text/csv\" ],\n",
    "   }\n",
    " }\n",
    "# Specify the model source\n",
    "model_url = \"s3://sagemaker-cn-north-1-876820548815/bootcamp-xgboost-churn/output/xgboost-2020-06-10-02-54-55-028/output/model.tar.gz\"\n",
    "\n",
    "# Specify the model data\n",
    "modelpackage_inference_specification[\"InferenceSpecification\"][\"Containers\"][0][\"ModelDataUrl\"]=model_url\n",
    "\n",
    "create_model_package_input_dict = {\n",
    "    \"ModelPackageGroupName\" : model_package_group_name,\n",
    "    \"ModelPackageDescription\" : \"Model to detect 3 different types of irises (Setosa, Versicolour, and Virginica)\",\n",
    "    \"ModelApprovalStatus\" : \"PendingManualApproval\"\n",
    "}\n",
    "create_model_package_input_dict.update(modelpackage_inference_specification)"
   ]
  },
  {
   "cell_type": "code",
   "execution_count": 12,
   "metadata": {},
   "outputs": [
    {
     "name": "stdout",
     "output_type": "stream",
     "text": [
      "ModelPackage Version ARN : arn:aws-cn:sagemaker:cn-north-1:876820548815:model-package/scikit-iris-detector-1636957027/1\n"
     ]
    }
   ],
   "source": [
    "create_mode_package_response = sm_client.create_model_package(**create_model_package_input_dict)\n",
    "model_package_arn = create_mode_package_response[\"ModelPackageArn\"]\n",
    "print('ModelPackage Version ARN : {}'.format(model_package_arn))"
   ]
  },
  {
   "cell_type": "code",
   "execution_count": 13,
   "metadata": {},
   "outputs": [
    {
     "data": {
      "text/plain": [
       "{'ModelPackageSummaryList': [{'ModelPackageGroupName': 'scikit-iris-detector-1636957027',\n",
       "   'ModelPackageVersion': 1,\n",
       "   'ModelPackageArn': 'arn:aws-cn:sagemaker:cn-north-1:876820548815:model-package/scikit-iris-detector-1636957027/1',\n",
       "   'ModelPackageDescription': 'Model to detect 3 different types of irises (Setosa, Versicolour, and Virginica)',\n",
       "   'CreationTime': datetime.datetime(2021, 11, 15, 6, 17, 37, 225000, tzinfo=tzlocal()),\n",
       "   'ModelPackageStatus': 'Completed',\n",
       "   'ModelApprovalStatus': 'PendingManualApproval'}],\n",
       " 'ResponseMetadata': {'RequestId': '2af14f47-7be1-4b63-8758-34f35817321e',\n",
       "  'HTTPStatusCode': 200,\n",
       "  'HTTPHeaders': {'x-amzn-requestid': '2af14f47-7be1-4b63-8758-34f35817321e',\n",
       "   'content-type': 'application/x-amz-json-1.1',\n",
       "   'content-length': '446',\n",
       "   'date': 'Mon, 15 Nov 2021 06:18:02 GMT'},\n",
       "  'RetryAttempts': 0}}"
      ]
     },
     "execution_count": 13,
     "metadata": {},
     "output_type": "execute_result"
    }
   ],
   "source": [
    "sm_client.list_model_packages(ModelPackageGroupName=model_package_group_name)"
   ]
  },
  {
   "cell_type": "code",
   "execution_count": 14,
   "metadata": {},
   "outputs": [
    {
     "data": {
      "text/plain": [
       "{'ModelPackageGroupName': 'scikit-iris-detector-1636957027',\n",
       " 'ModelPackageVersion': 1,\n",
       " 'ModelPackageArn': 'arn:aws-cn:sagemaker:cn-north-1:876820548815:model-package/scikit-iris-detector-1636957027/1',\n",
       " 'ModelPackageDescription': 'Model to detect 3 different types of irises (Setosa, Versicolour, and Virginica)',\n",
       " 'CreationTime': datetime.datetime(2021, 11, 15, 6, 17, 37, 225000, tzinfo=tzlocal()),\n",
       " 'InferenceSpecification': {'Containers': [{'Image': '390948362332.dkr.ecr.cn-north-1.amazonaws.com.cn/xgboost:1',\n",
       "    'ImageDigest': 'sha256:a219d35e7bc4158e972b8e6fa18028b05bdc97a9fe8da2ba16f7e3dc1bc685b4',\n",
       "    'ModelDataUrl': 's3://sagemaker-cn-north-1-876820548815/bootcamp-xgboost-churn/output/xgboost-2020-06-10-02-54-55-028/output/model.tar.gz'}],\n",
       "  'SupportedContentTypes': ['text/csv'],\n",
       "  'SupportedResponseMIMETypes': ['text/csv']},\n",
       " 'ModelPackageStatus': 'Completed',\n",
       " 'ModelPackageStatusDetails': {'ValidationStatuses': [],\n",
       "  'ImageScanStatuses': []},\n",
       " 'CertifyForMarketplace': False,\n",
       " 'ModelApprovalStatus': 'PendingManualApproval',\n",
       " 'CreatedBy': {'UserProfileArn': 'arn:aws-cn:sagemaker:cn-north-1:876820548815:user-profile/d-mplqfaxrafdy/liangrui-demo',\n",
       "  'UserProfileName': 'liangrui-demo',\n",
       "  'DomainId': 'd-mplqfaxrafdy'},\n",
       " 'ResponseMetadata': {'RequestId': '23ebbda9-c8f1-45a1-82fe-7ef96b314400',\n",
       "  'HTTPStatusCode': 200,\n",
       "  'HTTPHeaders': {'x-amzn-requestid': '23ebbda9-c8f1-45a1-82fe-7ef96b314400',\n",
       "   'content-type': 'application/x-amz-json-1.1',\n",
       "   'content-length': '1123',\n",
       "   'date': 'Mon, 15 Nov 2021 06:23:18 GMT'},\n",
       "  'RetryAttempts': 0}}"
      ]
     },
     "execution_count": 14,
     "metadata": {},
     "output_type": "execute_result"
    }
   ],
   "source": [
    "ModelPackageName = sm_client.list_model_packages(ModelPackageGroupName=model_package_group_name)[\"ModelPackageSummaryList\"][0][\"ModelPackageArn\"]\n",
    "sm_client.describe_model_package(ModelPackageName=ModelPackageName)"
   ]
  },
  {
   "cell_type": "code",
   "execution_count": 15,
   "metadata": {},
   "outputs": [],
   "source": [
    "model_package_update_input_dict = {\n",
    "    \"ModelPackageArn\" : ModelPackageName,\n",
    "    \"ModelApprovalStatus\" : \"Approved\"\n",
    "}\n",
    "model_package_update_response = sm_client.update_model_package(**model_package_update_input_dict)"
   ]
  },
  {
   "cell_type": "code",
   "execution_count": 16,
   "metadata": {},
   "outputs": [
    {
     "data": {
      "text/plain": [
       "{'ModelPackageGroupName': 'scikit-iris-detector-1636957027',\n",
       " 'ModelPackageVersion': 1,\n",
       " 'ModelPackageArn': 'arn:aws-cn:sagemaker:cn-north-1:876820548815:model-package/scikit-iris-detector-1636957027/1',\n",
       " 'ModelPackageDescription': 'Model to detect 3 different types of irises (Setosa, Versicolour, and Virginica)',\n",
       " 'CreationTime': datetime.datetime(2021, 11, 15, 6, 17, 37, 225000, tzinfo=tzlocal()),\n",
       " 'InferenceSpecification': {'Containers': [{'Image': '390948362332.dkr.ecr.cn-north-1.amazonaws.com.cn/xgboost:1',\n",
       "    'ImageDigest': 'sha256:a219d35e7bc4158e972b8e6fa18028b05bdc97a9fe8da2ba16f7e3dc1bc685b4',\n",
       "    'ModelDataUrl': 's3://sagemaker-cn-north-1-876820548815/bootcamp-xgboost-churn/output/xgboost-2020-06-10-02-54-55-028/output/model.tar.gz'}],\n",
       "  'SupportedContentTypes': ['text/csv'],\n",
       "  'SupportedResponseMIMETypes': ['text/csv']},\n",
       " 'ModelPackageStatus': 'Completed',\n",
       " 'ModelPackageStatusDetails': {'ValidationStatuses': [],\n",
       "  'ImageScanStatuses': []},\n",
       " 'CertifyForMarketplace': False,\n",
       " 'ModelApprovalStatus': 'Approved',\n",
       " 'CreatedBy': {'UserProfileArn': 'arn:aws-cn:sagemaker:cn-north-1:876820548815:user-profile/d-mplqfaxrafdy/liangrui-demo',\n",
       "  'UserProfileName': 'liangrui-demo',\n",
       "  'DomainId': 'd-mplqfaxrafdy'},\n",
       " 'LastModifiedTime': datetime.datetime(2021, 11, 15, 6, 23, 49, 954000, tzinfo=tzlocal()),\n",
       " 'LastModifiedBy': {'UserProfileArn': 'arn:aws-cn:sagemaker:cn-north-1:876820548815:user-profile/d-mplqfaxrafdy/liangrui-demo',\n",
       "  'UserProfileName': 'liangrui-demo',\n",
       "  'DomainId': 'd-mplqfaxrafdy'},\n",
       " 'ResponseMetadata': {'RequestId': 'b94e232d-02eb-44ed-9c65-c50458b9bd02',\n",
       "  'HTTPStatusCode': 200,\n",
       "  'HTTPHeaders': {'x-amzn-requestid': 'b94e232d-02eb-44ed-9c65-c50458b9bd02',\n",
       "   'content-type': 'application/x-amz-json-1.1',\n",
       "   'content-length': '1333',\n",
       "   'date': 'Mon, 15 Nov 2021 06:24:15 GMT'},\n",
       "  'RetryAttempts': 0}}"
      ]
     },
     "execution_count": 16,
     "metadata": {},
     "output_type": "execute_result"
    }
   ],
   "source": [
    "sm_client.describe_model_package(ModelPackageName=ModelPackageName)"
   ]
  },
  {
   "cell_type": "code",
   "execution_count": 17,
   "metadata": {},
   "outputs": [
    {
     "ename": "NameError",
     "evalue": "name 'sagemaker_session' is not defined",
     "output_type": "error",
     "traceback": [
      "\u001b[0;31m---------------------------------------------------------------------------\u001b[0m",
      "\u001b[0;31mNameError\u001b[0m                                 Traceback (most recent call last)",
      "\u001b[0;32m<ipython-input-17-3c94138b0406>\u001b[0m in \u001b[0;36m<module>\u001b[0;34m\u001b[0m\n\u001b[1;32m      4\u001b[0m model = ModelPackage(role=role, \n\u001b[1;32m      5\u001b[0m                      \u001b[0mmodel_package_arn\u001b[0m\u001b[0;34m=\u001b[0m\u001b[0mmodel_package_arn\u001b[0m\u001b[0;34m,\u001b[0m\u001b[0;34m\u001b[0m\u001b[0;34m\u001b[0m\u001b[0m\n\u001b[0;32m----> 6\u001b[0;31m                      sagemaker_session=sagemaker_session)\n\u001b[0m\u001b[1;32m      7\u001b[0m \u001b[0mmodel\u001b[0m\u001b[0;34m.\u001b[0m\u001b[0mdeploy\u001b[0m\u001b[0;34m(\u001b[0m\u001b[0minitial_instance_count\u001b[0m\u001b[0;34m=\u001b[0m\u001b[0;36m1\u001b[0m\u001b[0;34m,\u001b[0m \u001b[0minstance_type\u001b[0m\u001b[0;34m=\u001b[0m\u001b[0;34m'ml.m5.xlarge'\u001b[0m\u001b[0;34m)\u001b[0m\u001b[0;34m\u001b[0m\u001b[0;34m\u001b[0m\u001b[0m\n",
      "\u001b[0;31mNameError\u001b[0m: name 'sagemaker_session' is not defined"
     ]
    }
   ],
   "source": [
    "from sagemaker import ModelPackage\n",
    "\n",
    "model_package_arn = ModelPackageName\n",
    "model = ModelPackage(role=role, \n",
    "                     model_package_arn=model_package_arn, \n",
    "                     sagemaker_session=sagemaker_session)\n",
    "model.deploy(initial_instance_count=1, instance_type='ml.m5.xlarge')"
   ]
  },
  {
   "cell_type": "code",
   "execution_count": null,
   "metadata": {},
   "outputs": [],
   "source": []
  }
 ],
 "metadata": {
  "instance_type": "ml.t3.medium",
  "kernelspec": {
   "display_name": "Python 3 (Data Science)",
   "language": "python",
   "name": "python3__SAGEMAKER_INTERNAL__arn:aws-cn:sagemaker:cn-north-1:390048526115:image/datascience-1.0"
  },
  "language_info": {
   "codemirror_mode": {
    "name": "ipython",
    "version": 3
   },
   "file_extension": ".py",
   "mimetype": "text/x-python",
   "name": "python",
   "nbconvert_exporter": "python",
   "pygments_lexer": "ipython3",
   "version": "3.7.10"
  }
 },
 "nbformat": 4,
 "nbformat_minor": 4
}
