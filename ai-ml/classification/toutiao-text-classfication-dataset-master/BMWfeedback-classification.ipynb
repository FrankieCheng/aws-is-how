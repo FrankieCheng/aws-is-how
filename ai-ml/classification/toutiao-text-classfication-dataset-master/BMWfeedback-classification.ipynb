{
 "cells": [
  {
   "cell_type": "code",
   "execution_count": 1,
   "metadata": {
    "scrolled": true
   },
   "outputs": [],
   "source": [
    "#对于2018年CIC2rd的反馈数据进行文本分类"
   ]
  },
  {
   "cell_type": "code",
   "execution_count": 8,
   "metadata": {},
   "outputs": [
    {
     "name": "stdout",
     "output_type": "stream",
     "text": [
      "arn:aws-cn:iam::876820548815:role/service-role/AmazonSageMaker-ExecutionRole-20200520T151303\n",
      "ray-ai-ml\n"
     ]
    }
   ],
   "source": [
    "import sagemaker\n",
    "from sagemaker import get_execution_role\n",
    "import json\n",
    "import boto3\n",
    "from random import shuffle\n",
    "import datetime\n",
    "\n",
    "sess = sagemaker.Session()\n",
    "\n",
    "role = get_execution_role()\n",
    "print(role) # This is the role that SageMaker would use to leverage AWS resources (S3, CloudWatch) on your behalf\n",
    "\n",
    "#bucket = sess.default_bucket() # Replace with your own bucket name if needed\n",
    "bucket = 'ray-ai-ml' # Replace with your own bucket name if needed\n",
    "print(bucket)\n",
    "prefix = 'blazingtext/supervised/ticket' #Replace with the prefix under which you want to store the data if needed"
   ]
  },
  {
   "cell_type": "code",
   "execution_count": 107,
   "metadata": {},
   "outputs": [
    {
     "name": "stdout",
     "output_type": "stream",
     "text": [
      "Looking in indexes: https://pypi.tuna.tsinghua.edu.cn/simple\n",
      "Requirement already satisfied: jieba in /home/ec2-user/anaconda3/envs/python3/lib/python3.6/site-packages (0.42.1)\n",
      "\u001b[33mWARNING: You are using pip version 20.0.2; however, version 20.1.1 is available.\n",
      "You should consider upgrading via the '/home/ec2-user/anaconda3/envs/python3/bin/python -m pip install --upgrade pip' command.\u001b[0m\n"
     ]
    }
   ],
   "source": [
    "!pip install -i https://pypi.tuna.tsinghua.edu.cn/simple jieba"
   ]
  },
  {
   "cell_type": "code",
   "execution_count": 108,
   "metadata": {},
   "outputs": [],
   "source": [
    "import jieba\n",
    "import pandas as pd"
   ]
  },
  {
   "cell_type": "code",
   "execution_count": 6,
   "metadata": {},
   "outputs": [
    {
     "name": "stdout",
     "output_type": "stream",
     "text": [
      "{'1001': '云端预开通', '1002': 'Carplay', '1003': 'change', '1004': '云端APP使用', '1005': 'RS', '1006': 'store', '1007': '云端APP显示', '1008': '购买问题', '1009': 'I-CALL', '10010': '远程3D视图', '10011': 'VIN无效', '10012': '收不到验证码', '10013': 'RTTI', '10014': 'wifi', '10015': '云端APP显示RS', '10016': 'CD', '10017': 'BON', '10019': 'APP登陆问题', '10020': 'GPS', '10021': 'Remote无内容', '10022': 'POI'}\n"
     ]
    }
   ],
   "source": [
    "index_to_label = {} \n",
    "with open(\"classes.txt\") as f:\n",
    "    for i,label in enumerate(f.readlines()):\n",
    "        ll = label.strip().split(',')\n",
    "        index_to_label[ll[0]] = ll[1]\n",
    "print(index_to_label)"
   ]
  },
  {
   "cell_type": "code",
   "execution_count": 3,
   "metadata": {},
   "outputs": [
    {
     "name": "stdout",
     "output_type": "stream",
     "text": [
      "1005_!_RS_!_客户罗先生（车主黄先生的家人）致电，表示其i豪华型车辆，之前已经接到互联驾驶通知协议手机号更改成功的通知，但目前使用新协议手机号登陆云端互联APP后，首页不显示远程控制选项了（更改协议手机号之前可以正常使用），针对此问题，烦请互联驾驶部门跟进处理。 签订互联驾驶协议时登记的车主姓名协议手机号码：（原协议手机号） VIN：登陆云端互联密码：手机型号&版本：IOS 最新 云端互联APP版本：最新 联系人： 罗先生 联系电话：\n",
      "1002_!_Carplay_!_ya_gao 2018-11-01 09:35: 客户杨先生通过在线客户平台反馈，表示在2018/9/1在淮安润宝行店内购买的 530Li 尊享型 豪华套装车辆，客户表示互联驾驶已经开通但是还是没有Apple Carplay的选项，已建议客户发送邮件，针对客户问题烦请互联驾驶人员跟进处理。 联系人/协议手机号码： 车主/联系人： 车架号：\n",
      "1001_!_云端预开通_!_ya_gao 2018-11-01 11:18:2018/10/31 21:09:08客户先生致电表示2018年10月在上海绿地宝仕购买的430i，6位确认码已经给到购车经销商，实名制审核已经通过，但最后一步还是显示未激活，，烦请相关部门跟进处理。客户先生再次致电表示互联驾驶一直没有激活，希望可以尽快联系，就此事宜烦请互联驾驶跟进处理。针对此事宜，客户先生再次致电表示在2018年10月22日10:44分收到互联驾驶相关部门回复，但是没有及时接听，客户表示互联驾驶还是没有激活，烦请互联驾驶部门跟进处理。客户先生再次致电表示互联驾驶与其联系但是还是没有开通互联驾 联系电话：\n",
      "10010_!_远程3D视图_!_ya_gao 2018-11-01 16:48: 11/1/2018 4:00:58 PM 客户先生致电表示2018.7.14购买的530Li车辆，远程3D视图无法正常使用，已建议其更新宝马服务尝试，客户尝试之后还是无法正常使用，已建议客户发送截图至互联驾驶邮箱，针对此问题烦请跟进处理。 客户先生致电表示未接到互联驾驶电话，客户对此不认可，就此事宜烦请互联驾驶跟进。 签订互联驾驶协议时登记的车主姓名：刘羡 协议手机号码  联系电话： 1\n",
      "1008_!_购买问题_!_ya_gao 2018-11-01 12:55:11/1/2018 12:30:05 PM客户朱先生致电咨询2014.4在宁波购买M235车辆，基础服务已经延长至2019.3.31，使用云端互联以及宝马官网无法续费资讯在线以及远程服务，烦请互联驾驶跟进处理，未转接。客户朱嘉龙先生致电互联驾驶未与其联系，客户对此不认可，要求一个小时内回复，就此事宜烦请互联驾驶跟进。VIN:W联系人：朱嘉龙联系方式： 协议手机号码：\n",
      "1004_!_云端APP使用_!_ya_gao 2018-11-01 18:12: 11/1/2018 6:04:19 PM 客户北京博工作人员(先生）致电表示pdi检测时多辆车显示无法连接互联驾驶，sos功能补发使用，客户想要咨询一下互联驾驶的工作人员这个问题，针对此问题烦请跟进处理。 客户北京博瑞宝工作人员(先生）再次致电表示问题还没有解决，现在店内又大批次出现相同问题，店内已经通过店内渠道发送邮件，但也希望客户服务中心这边能够加急催促下，针对此问题烦请跟进处理。未转接 VINw\n",
      "10013_!_RTTI_!_ya_gao 2018-11-02 11:05:11/2/2018 9:11:22 AM客户女士（车主）致电表示2015年购买的X3车辆，昨天续费了实时路况功能，到现在也无法使用，在地图界面没有实时路况图标，更新宝马服务后还是没有实时路况图标，在沈阳用车，就此事宜烦请互联驾驶部门跟进。客户王黎女士再次致电表示互联驾驶没有回复客户，已告知客户查询到在客户致电前两分钟工作人员就联系客户，但是客户情绪激动，表示查不到屏蔽号码，表示要联系网络力量和315，建议客户保存通讯录并且提供其他手机号码，客户要求5分钟内回复，就此事宜烦请互联驾驶部门跟进。签订互联驾驶协议时登记的车主姓名：女士协议手机号码：\n"
     ]
    }
   ],
   "source": [
    "import logging,os,jieba,re\n",
    "#!wget https://cdc-code.s3.cn-north-1.amazonaws.com.cn/chineseStopWords.txt\n",
    "def get_stopwords(StopWordFileName):\n",
    "    logging.basicConfig(format='%(asctime)s:%(levelname)s:%(message)s',level=logging.INFO)  \n",
    "      #加载停用词表 \n",
    "    stopword_set = set()\n",
    "    with open(StopWordFileName,'r',encoding=\"utf-8\") as stopwords:\n",
    "        for stopword in stopwords: \n",
    "            stopword_set.add(stopword.strip(\"\\n\"))  \n",
    "    return stopword_set\n",
    "\n",
    "# Debug code\n",
    "# stopwords = get_stopwords()\n",
    "# i = 0\n",
    "# for x in stopwords:\n",
    "#     if i > 10:\n",
    "#         break\n",
    "#     print(x)\n",
    "#     i += 1\n",
    "    \n",
    "def clear_timestamp(mystr):\n",
    "    patterns = [r\"\\w{3} \\w{3} \\d{2} \\d{1,2}:\\d{1,2}:\\d{1,2} \\d{4}\\s*\",    #sun aug 19 13:02:10 2018\n",
    "        r\"\\w{3}, \\d{2} \\w{3} \\d{4} \\d{1,2}:\\d{1,2}:\\d{1,2} \\w{2}\\s*\",     #Sun, 19 Aug 2018 13:02:08 ET\n",
    "        r\"\\d{4}-\\d{1,2}-\\d{1,2} \\d{1,2}:\\d{1,2}:\\s*\",                       #2018-11-01 09:35:\n",
    "        r\"\\d{4}/\\d{1,2}/\\d{1,2}\\s*\",                                    #2018/9/1\n",
    "        r\"\\d{1,2}/\\d{1,2}/\\d{4}\\s*\",                                    #9/1/2018\n",
    "        r\"\\d{4}.\\d{1,2}.\\d{0,2}\\s*\",                                    #2018.9.1\n",
    "        r\"\\d{1,2}.\\d{1,2}.\\d{4}\\s*\",                                    #9.1.2018\n",
    "        r\"\\d{4}-\\d{1,2}-\\d{1,2} \\d{1,2}:\\d{1,2}:\\d{4}/\\d{1,2}/\\d{1,2}\\s*\",      #2018-11-01 11:18:2018/10/31\n",
    "        r\"\\d{1,2}:\\d{1,2}:\\d{4}/\\d{1,2}/\\d{1,2}\\s*\",      #2018-11-01 11:18:2018/10/31 21:09:08\n",
    "        r\"\\d{1,2}:\\d{1,2}:\\d{1,2}\\s*(AM|PM|am|pm)\\s*\",        #4:00:58 PM\n",
    "        r\"\\d{1,2}:\\d{1,2}:\\d{1,2}\\s*\",                                     #21:09:08\n",
    "        r\"\\d{1,2}:\\d{1,2}\\s*\",                                     #21:09:08\n",
    "        r\"(\\d{4})年(\\d{1,2})月(\\d{1,2})日\\s*\",                 #2018年10月5日\n",
    "        r\"(\\d{2,4})年\\s*\",                 #2018年\n",
    "        r\"(\\d{4})年(\\d{1,2})月\\s*\",                 #2018年10月\n",
    "        r\":\\s*([\\da-zA_Z]+\\/)+([a-zA-Z0-9\\.]+)\"                     #URL\n",
    "        ]\n",
    "\n",
    "    s = mystr\n",
    "\n",
    "    for p in patterns:\n",
    "        s = re.sub(p,'', s)\n",
    "\n",
    "    s = s.strip()\n",
    "    return s\n",
    "\n",
    "# Debug code\n",
    "# file  = 'wwww.txt'#'CIC2ND.txt'\n",
    "# with open(file) as f:\n",
    "#     lines = f.readlines()\n",
    "    \n",
    "# labels = []\n",
    "# for line in lines:\n",
    "#     s = clear_timestamp(line)\n",
    "#     print(s)\n",
    "\n",
    "def clear_email_phone_colon(mystr):\n",
    "    patterns = [r\"1[0-9]{10}\", #mobile\n",
    "        r\"(\\(0\\d{2}\\) \\d{8})|(\\(0\\d{3}\\) \\d{7})|(\\(0\\d{3}\\)-\\d{8}$)|(\\(0\\d{2}\\)\\d{8})|(\\(0\\d{3}\\)\\d{7})|(\\(0\\d{3}\\)\\d{8}$)\",                       #phone\n",
    "        r\"(0\\d{2}-\\d{8})|(0\\d{3}-\\d{7})|(0\\d{3}-\\d{8}$)|(\\d{8})\",                       #phone\n",
    "        r\"\\w+([-+.]\\w+)*@\\w+([-.]\\w+)*\\.\\w+([-.]\\w+)*\"    #email\n",
    "        ]\n",
    "\n",
    "    s = mystr\n",
    "\n",
    "    for p in patterns:\n",
    "        s = re.sub(p,'', s)\n",
    "\n",
    "    s = s.strip()\n",
    "    return s\n",
    "\n",
    "# Debug code\n",
    "file  = 'wwww.txt'#'CIC2ND.txt'\n",
    "with open(file) as f:\n",
    "    lines = f.readlines()\n",
    "    \n",
    "labels = []\n",
    "for line in lines:\n",
    "    s = clear_email_phone_colon(line)\n",
    "    print(s)"
   ]
  },
  {
   "cell_type": "markdown",
   "metadata": {},
   "source": [
    "### 使用分词"
   ]
  },
  {
   "cell_type": "code",
   "execution_count": 116,
   "metadata": {},
   "outputs": [
    {
     "name": "stderr",
     "output_type": "stream",
     "text": [
      "Paddle enabled successfully......\n",
      "2020-07-16 11:01:13,622:DEBUG:Paddle enabled successfully......\n"
     ]
    },
    {
     "name": "stdout",
     "output_type": "stream",
     "text": [
      "data processing data 0\n",
      "[['__label__远程3D视图', '发送', '建议', '远程', '530', '登记', '邮箱', '服务', '视图', '签订', '购买', '号码', '宝马', '手机', '致电', '电话', '驾驶', '截图', '跟进', '事宜', '车辆', '更新', '尝试', '姓名', '未接到', '互联', '认可'], ['__label__RS', '型号', '通知', '联系人', '登记', '云端', '接到', '显示', '驾驶部门', '登陆', '签订', '选项', '号码', '手机', '致电', '远程控制', '电话', '驾驶', '豪华型', '版本', '跟进', '密码', '更改', '手机号', '最新', '车辆', '首页', '姓名', '互联', '成功'], ['__label__云端APP使用', '补发', '发送', '咨询', '加急', '服务', '希望', '多辆', '催促', '显示', '邮件', '还没有', '批次', '人员', '中心', '致电', '驾驶', '检测', '解决', '跟进', '想要', '工作', '连接', '渠道', '互联', '功能', '转接'], ['__label__RTTI', '激动', '建议', '查询', '不到', '保存', '界面', '登记', '315', '服务', '屏蔽', '通讯录', '提供', '驾驶部门', '地图', '签订', '续费', '用车', '人员', '路况', '购买', '图标', '号码', '宝马', '手机', '致电', '驾驶', '网络', '跟进', '告知', '工作', '事宜', '实时', '车辆', '更新', '姓名', '情绪', '功能', '互联', '回复', '力量'], ['__label__Carplay', '发送', '反馈', '建议', '530', '联系人', '套装', '在线', '邮件', '选项', '尊享型', '人员', '购买', '号码', '手机', '驾驶', '跟进', '豪华', '车辆', '开通', '平台', '互联', '车架']]\n",
      "互联             29\n",
      "驾驶             20\n",
      "致电             14\n",
      "跟进             13\n",
      "手机              7\n",
      "号码              7\n",
      "事宜              6\n",
      "车辆              5\n",
      "购买              5\n",
      "人员              5\n",
      "服务              5\n",
      "手机号             4\n",
      "云端              4\n",
      "驾驶部门            4\n",
      "联系人             4\n",
      "电话              4\n",
      "建议              4\n",
      "回复              4\n",
      "工作              4\n",
      "显示              3\n",
      "签订              3\n",
      "登记              3\n",
      "姓名              3\n",
      "发送              3\n",
      "激活              3\n",
      "实时              3\n",
      "路况              3\n",
      "通知              2\n",
      "更改              2\n",
      "登陆              2\n"
     ]
    }
   ],
   "source": [
    "import jieba.posseg as pseg\n",
    "\n",
    "file  = 'wwww.txt'#'CIC2ND.txt'\n",
    "with open(file) as f:\n",
    "    lines = f.readlines()\n",
    "\n",
    "#get stopwords\n",
    "stopwords = get_stopwords('chinesestopwords_test.txt')\n",
    "\n",
    "begin = datetime.datetime.now()\n",
    "\n",
    "#单机并行分词\n",
    "jieba.enable_parallel(8)\n",
    "#启动paddle模式\n",
    "jieba.enable_paddle()\n",
    "    \n",
    "labels = []\n",
    "counts = {}                 #计数{word，frequency}\n",
    "for line in lines:\n",
    "    label = []\n",
    "    line = line.split('_!_')\n",
    "    if line[0].strip('\"').isdigit() and index_to_label[line[0].strip('\"')]:\n",
    "        label_code = index_to_label[line[0].strip('\"')]\n",
    "        label.append('__label__' + label_code)\n",
    "        no_phone = clear_email_phone_colon(line[2])\n",
    "        no_timestamp = clear_timestamp(no_phone)\n",
    "        fenci = re.sub(r\"[\\s+\\.\\!\\/_,$%^*()?;；:-【】+\\\"\\']+|[+——一！，;:：。？、~@#￥%……&*（）]+\", \"\", no_timestamp)\n",
    "        #print(fenci)\n",
    "        #words = jieba.cut(fenci,cut_all=False)\n",
    "        words = pseg.cut(fenci,use_paddle=True) #paddle模式\n",
    "        #words = pseg.cut(fenci,use_paddle=True,cut_all=True)\n",
    "        filled_words = set()\n",
    "        for word, flag in words:\n",
    "            #print('raw %s %s' % (word, flag))\n",
    "            # 人名, 地名，机构，方位名词, 量词, 代词, 时间, 副词\n",
    "            if (flag == 'nr' or flag == 'ns' or flag == 'PER' \n",
    "                or flag == 'LOC' or flag == 'ORG' or flag == 'f' or flag == 'r' or flag == 'q'\n",
    "                or flag == 't' or flag == 'TIME' or flag == 'd'):\n",
    "                #print('%s %s' % (word, flag))\n",
    "                continue\n",
    "            else:\n",
    "                if word not in stopwords:          #不在停用词表中\n",
    "                    if len(word) == 1:\n",
    "                        continue\n",
    "                    else:\n",
    "                        counts[word] = counts.get(word, 0) + 1\n",
    "                    filled_words.add(word)\n",
    "        label.extend(filled_words)\n",
    "        #print(label)\n",
    "        labels.append(label)\n",
    "\n",
    "shuffle(labels)\n",
    "\n",
    "end = datetime.datetime.now()\n",
    "print('data processing data %d' %(end - begin).seconds)\n",
    "print(labels[0:5])\n",
    "\n",
    "items = list(counts.items())\n",
    "items.sort(key=lambda x: x[1], reverse=True)\n",
    "for i in range(30):\n",
    "    word, count = items[i]\n",
    "    print(\"{:<10}{:>7}\".format(word, count))"
   ]
  },
  {
   "cell_type": "code",
   "execution_count": 11,
   "metadata": {},
   "outputs": [],
   "source": [
    "# pip安装\n",
    "# !pip install pyltp -i https://pypi.tuna.tsinghua.edu.cn/simple/\n",
    "# 或者编译安装\n",
    "# !git clone https://github.com/HIT-SCIR/pyltp\n",
    "# !cd pyltp\n",
    "# !git submodule init \n",
    "# !git submodule update\n",
    "# !python setup.py install\n",
    "# !easy_install pyltp/dist/pyltp-0.2.3-py3.6-linux-x86_64.egg\n",
    "\n",
    "# 模型下载\n",
    "# https://pyltp.readthedocs.io/zh_CN/latest/api.html#id10"
   ]
  },
  {
   "cell_type": "markdown",
   "metadata": {},
   "source": [
    "# 利用哈工大LTP分配"
   ]
  },
  {
   "cell_type": "code",
   "execution_count": 10,
   "metadata": {},
   "outputs": [
    {
     "name": "stdout",
     "output_type": "stream",
     "text": [
      "data processing data 0\n",
      "[['__label__云端APP使用', '解决', '跟进', '加急', '发送', '博瑞宝', '中心', '邮件', '检测', '咨询', '渠道', '人员', '互联', '催促', '驾驶', '服务', '致电', '再次', '希望', '补发', '连接', '工作', '显示', '功能'], ['__label__RTTI', '事宜', '界面', '实时', '车辆', '激动', '跟进', '签订', '号码', '回复', '宝马', '网络', '用车', '力量', '分钟', '情绪', '保存', '人员', '互联', '屏蔽', '驾驶', '提供', '部门', '服务', '致电', '再次', '登记', '地图', '更新', '路况', '通讯录', '告知', '建议', '查询', '图标', '购买', '工作', '续费', '手机', '姓名', '功能'], ['__label__购买问题', '基础', '事宜', '资讯', '车辆', '跟进', '号码', '回复', '宝马', '方式', '咨询', '互联', '在线', '官网', '驾驶', '服务', '致电', '延长', '购买', '远程', '续费', '联系人', '手机', '小时', '认可', '云端'], ['__label__RS', '密码', '接到', '控制', '手机号', '电话', '车辆', '跟进', '签订', '号码', '型号', '最新', '登陆', '互联', '更改', '驾驶', '部门', '致电', '登记', '版本', '选项', '远程', '通知', '显示', '联系人', '手机', '成功', '姓名', '云端', '豪华型'], ['__label__Carplay', '平台', '润宝', '豪华', '反馈', '车辆', '跟进', '号码', '发送', '邮件', '人员', '互联', '在线', '车架', '驾驶', '享型', '建议', '购买', '联系人', '手机', '套装', '开通']]\n",
      "互联             29\n",
      "驾驶             24\n",
      "致电             14\n",
      "跟进             12\n",
      "手机             10\n",
      "号码              7\n",
      "部门              6\n",
      "事宜              6\n",
      "车辆              5\n",
      "购买              5\n",
      "人员              5\n",
      "再次              5\n",
      "服务              5\n",
      "云端              4\n",
      "联系人             4\n",
      "电话              4\n",
      "建议              4\n",
      "回复              4\n",
      "工作              4\n",
      "显示              3\n",
      "远程              3\n",
      "签订              3\n",
      "登记              3\n",
      "姓名              3\n",
      "发送              3\n",
      "激活              3\n",
      "宝马              3\n",
      "实时              3\n",
      "路况              3\n",
      "接到              2\n"
     ]
    }
   ],
   "source": [
    "from pyltp import Postagger\n",
    "from pyltp import Segmentor\n",
    "import os\n",
    "import datetime\n",
    "\n",
    "#get stopwords\n",
    "stopwords = get_stopwords('chinesestopwords_test.txt')\n",
    "\n",
    "begin = datetime.datetime.now()\n",
    "\n",
    "# 分词\n",
    "LTP_DATA_DIR = '/home/ec2-user/SageMaker/classification/bmwfeedback/ltp_data_v3.4.0/'  # ltp模型目录的路径\n",
    "cws_model_path = os.path.join(LTP_DATA_DIR, 'cws.model')  # 分词模型路径，模型名称为`cws.model`\n",
    "segmentor = Segmentor()  # 初始化实例\n",
    "segmentor.load(cws_model_path)  # 加载模型\n",
    "\n",
    "# 词性标注 https://ltp.readthedocs.io/zh_CN/v3.4.0/appendix.html\n",
    "postagger = Postagger()\n",
    "pos_model_path = os.path.join(LTP_DATA_DIR, 'pos.model')  # 词性标注模型路径，模型名称为`pos.model`\n",
    "postagger.load(pos_model_path)\n",
    "    \n",
    "labels = []\n",
    "counts = {}                 #计数{word，frequency}\n",
    "for line in lines:\n",
    "    label = []\n",
    "    line = line.split('_!_')\n",
    "    if line[0].strip('\"').isdigit() and index_to_label[line[0].strip('\"')]:\n",
    "        label_code = index_to_label[line[0].strip('\"')]\n",
    "        label.append('__label__' + label_code)\n",
    "        no_phone = clear_email_phone_colon(line[2])\n",
    "        no_timestamp = clear_timestamp(no_phone)\n",
    "        fenci = re.sub(r\"[\\s+\\.\\!\\/_,$%^*()?;；:-【】+\\\"\\']+|[+——一！，;:：。？、~@#￥%……&*（）]+\", \"\", no_timestamp)\n",
    "        #print(fenci)\n",
    "        words = segmentor.segment(fenci)\n",
    "        postags = postagger.postag(words)\n",
    "        filled_words = set()\n",
    "        for i in range(len(words)):\n",
    "            word = words[i]\n",
    "            flag = postags[i]\n",
    "            #print('raw %s %s' % (words[i], postags[i]))\n",
    "            # 人名nh, 地名nl, ns，机构ni，方位名词nd, 量词m, 代词r, 时间nt, 副词u,z\n",
    "            if (flag == 'nh' or flag == 'ns' or flag == 'nl' \n",
    "                or flag == 'ni' or flag == 'nd' or flag == 'm' or flag == 'r' or flag == 'nt'\n",
    "                or flag == 'u' or flag == 'z'):\n",
    "                #print('%s %s' % (word, flag))\n",
    "                continue\n",
    "            else:\n",
    "                if word not in stopwords:          #不在停用词表中\n",
    "                    if len(word) == 1:\n",
    "                        continue\n",
    "                    else:\n",
    "                        counts[word] = counts.get(word, 0) + 1\n",
    "                    filled_words.add(word)\n",
    "        label.extend(filled_words)\n",
    "        #print(label)\n",
    "        labels.append(label)\n",
    "\n",
    "shuffle(labels)\n",
    "\n",
    "end = datetime.datetime.now()\n",
    "print('data processing data %d' %(end - begin).seconds)\n",
    "print(labels[0:5])\n",
    "\n",
    "items = list(counts.items())\n",
    "items.sort(key=lambda x: x[1], reverse=True)\n",
    "for i in range(30):\n",
    "    word, count = items[i]\n",
    "    print(\"{:<10}{:>7}\".format(word, count))\n",
    "\n",
    "segmentor.release() # 释放模型\n",
    "postagger.release() # 释放模型"
   ]
  },
  {
   "cell_type": "code",
   "execution_count": 191,
   "metadata": {},
   "outputs": [],
   "source": [
    "prefix = 'blazingtext/ticket'"
   ]
  },
  {
   "cell_type": "code",
   "execution_count": 52,
   "metadata": {},
   "outputs": [],
   "source": [
    "t_train_data = labels[0:int(len(labels)*0.8)]\n",
    "t_validation_data = labels[int(len(labels)*0.8):]"
   ]
  },
  {
   "cell_type": "code",
   "execution_count": 160,
   "metadata": {},
   "outputs": [],
   "source": [
    "#t_train_data[0:13]"
   ]
  },
  {
   "cell_type": "code",
   "execution_count": 54,
   "metadata": {},
   "outputs": [],
   "source": [
    "import csv\n",
    "t_train_file = 'tt.train'\n",
    "t_validation_file = 'tt.validation'\n",
    "\n",
    "with open(t_train_file, 'w') as csvoutfile:\n",
    "    csv_writer = csv.writer(csvoutfile, delimiter=' ', lineterminator='\\n')\n",
    "    csv_writer.writerows(t_train_data)\n",
    "    \n",
    "with open(t_validation_file, 'w') as csvoutfile:\n",
    "    csv_writer = csv.writer(csvoutfile, delimiter=' ', lineterminator='\\n')\n",
    "    csv_writer.writerows(t_validation_data)"
   ]
  },
  {
   "cell_type": "code",
   "execution_count": 55,
   "metadata": {},
   "outputs": [
    {
     "name": "stdout",
     "output_type": "stream",
     "text": [
      "CPU times: user 244 ms, sys: 17.1 ms, total: 261 ms\n",
      "Wall time: 563 ms\n"
     ]
    }
   ],
   "source": [
    "%%time\n",
    "\n",
    "t_train_channel = prefix + '/train'\n",
    "t_validation_channel = prefix + '/validation'\n",
    "\n",
    "sess.upload_data(path='tt.train', bucket=bucket, key_prefix=t_train_channel)\n",
    "sess.upload_data(path='tt.validation', bucket=bucket, key_prefix=t_validation_channel)\n",
    "\n",
    "s3_train_data = 's3://{}/{}'.format(bucket, t_train_channel)\n",
    "s3_validation_data = 's3://{}/{}'.format(bucket, t_validation_channel)\n",
    "\n",
    "s3_output_location = 's3://{}/{}/output'.format(bucket, prefix)"
   ]
  },
  {
   "cell_type": "code",
   "execution_count": 56,
   "metadata": {},
   "outputs": [],
   "source": [
    "s3_output_location = 's3://{}/{}/output'.format(bucket, prefix)"
   ]
  },
  {
   "cell_type": "code",
   "execution_count": 57,
   "metadata": {},
   "outputs": [
    {
     "name": "stdout",
     "output_type": "stream",
     "text": [
      "Using SageMaker BlazingText container: 390948362332.dkr.ecr.cn-north-1.amazonaws.com.cn/blazingtext:latest (cn-north-1)\n"
     ]
    }
   ],
   "source": [
    "region_name = boto3.Session().region_name\n",
    "container = sagemaker.amazon.amazon_estimator.get_image_uri(region_name, \"blazingtext\", \"latest\")\n",
    "print('Using SageMaker BlazingText container: {} ({})'.format(container, region_name))"
   ]
  },
  {
   "cell_type": "code",
   "execution_count": 58,
   "metadata": {},
   "outputs": [],
   "source": [
    "t_bt_model = sagemaker.estimator.Estimator(container,\n",
    "                                         role, \n",
    "                                         train_instance_count=1, \n",
    "                                         train_instance_type='ml.c4.4xlarge',\n",
    "                                         train_volume_size = 120,\n",
    "                                         train_max_run = 360000,\n",
    "                                         input_mode= 'File',\n",
    "                                         output_path=s3_output_location,\n",
    "                                         sagemaker_session=sess)\n",
    "t_bt_model.set_hyperparameters(mode=\"supervised\",\n",
    "                            epochs=10,\n",
    "                            min_count=2,\n",
    "                            learning_rate=0.05,\n",
    "                            vector_dim=10,\n",
    "                            early_stopping=True,\n",
    "                            patience=4,\n",
    "                            min_epochs=5,\n",
    "                            word_ngrams=2)"
   ]
  },
  {
   "cell_type": "code",
   "execution_count": 59,
   "metadata": {},
   "outputs": [],
   "source": [
    "t_train_data = sagemaker.inputs.s3_input(s3_train_data, distribution='FullyReplicated', \n",
    "                        content_type='text/plain', s3_data_type='S3Prefix')\n",
    "t_validation_data = sagemaker.inputs.s3_input(s3_validation_data, distribution='FullyReplicated', \n",
    "                             content_type='text/plain', s3_data_type='S3Prefix')\n",
    "t_data_channels = {'train': t_train_data, 'validation': t_validation_data}"
   ]
  },
  {
   "cell_type": "code",
   "execution_count": 60,
   "metadata": {
    "scrolled": true
   },
   "outputs": [
    {
     "name": "stdout",
     "output_type": "stream",
     "text": [
      "2020-07-03 06:15:10 Starting - Starting the training job...\n",
      "2020-07-03 06:15:12 Starting - Launching requested ML instances......\n",
      "2020-07-03 06:16:20 Starting - Preparing the instances for training......\n",
      "2020-07-03 06:17:33 Downloading - Downloading input data...\n",
      "2020-07-03 06:18:06 Training - Training image download completed. Training in progress..\u001b[34mArguments: train\u001b[0m\n",
      "\u001b[34m[07/03/2020 06:18:06 WARNING 139882388739904] Loggers have already been setup.\u001b[0m\n",
      "\u001b[34m[07/03/2020 06:18:06 WARNING 139882388739904] Loggers have already been setup.\u001b[0m\n",
      "\u001b[34m[07/03/2020 06:18:06 INFO 139882388739904] nvidia-smi took: 0.0252678394318 secs to identify 0 gpus\u001b[0m\n",
      "\u001b[34m[07/03/2020 06:18:06 INFO 139882388739904] Running single machine CPU BlazingText training using supervised mode.\u001b[0m\n",
      "\u001b[34m[07/03/2020 06:18:06 INFO 139882388739904] Processing /opt/ml/input/data/train/tt.train . File size: 20 MB\u001b[0m\n",
      "\u001b[34m[07/03/2020 06:18:06 INFO 139882388739904] Processing /opt/ml/input/data/validation/tt.validation . File size: 5 MB\u001b[0m\n",
      "\u001b[34mRead 3M words\u001b[0m\n",
      "\u001b[34mNumber of words:  44326\u001b[0m\n",
      "\u001b[34mLoading validation data from /opt/ml/input/data/validation/tt.validation\u001b[0m\n",
      "\u001b[34mLoaded validation data.\u001b[0m\n",
      "\u001b[34m-------------- End of epoch: 2\u001b[0m\n",
      "\u001b[34m##### Alpha: 0.0328  Progress: 34.41%  Million Words/sec: 37.79 #####\u001b[0m\n",
      "\u001b[34m-------------- End of epoch: 3\u001b[0m\n",
      "\u001b[34m##### Alpha: 0.0262  Progress: 47.54%  Million Words/sec: 38.26 #####\u001b[0m\n",
      "\u001b[34m-------------- End of epoch: 4\u001b[0m\n",
      "\u001b[34m##### Alpha: 0.0197  Progress: 60.65%  Million Words/sec: 38.53 #####\u001b[0m\n",
      "\u001b[34m-------------- End of epoch: 6\u001b[0m\n",
      "\u001b[34mUsing 16 threads for prediction!\u001b[0m\n",
      "\u001b[34mValidation accuracy: 0.660732\u001b[0m\n",
      "\u001b[34mValidation accuracy improved! Storing best weights...\u001b[0m\n",
      "\u001b[34m##### Alpha: 0.0166  Progress: 66.85%  Million Words/sec: 31.18 #####\u001b[0m\n",
      "\u001b[34m##### Alpha: 0.0109  Progress: 78.12%  Million Words/sec: 31.55 #####\u001b[0m\n",
      "\u001b[34m-------------- End of epoch: 7\u001b[0m\n",
      "\u001b[34mUsing 16 threads for prediction!\u001b[0m\n",
      "\u001b[34mValidation accuracy: 0.67108\u001b[0m\n",
      "\u001b[34mValidation accuracy improved! Storing best weights...\u001b[0m\n",
      "\u001b[34m##### Alpha: 0.0079  Progress: 84.25%  Million Words/sec: 27.56 #####\u001b[0m\n",
      "\u001b[34m-------------- End of epoch: 8\u001b[0m\n",
      "\u001b[34mUsing 16 threads for prediction!\u001b[0m\n",
      "\u001b[34mValidation accuracy: 0.672416\u001b[0m\n",
      "\u001b[34mValidation accuracy improved! Storing best weights...\u001b[0m\n",
      "\u001b[34m##### Alpha: 0.0052  Progress: 89.63%  Million Words/sec: 24.75 #####\u001b[0m\n",
      "\u001b[34m##### Alpha: -0.0000  Progress: 100.00%  Million Words/sec: 25.30 #####\u001b[0m\n",
      "\u001b[34m-------------- End of epoch: 10\u001b[0m\n",
      "\u001b[34mUsing 16 threads for prediction!\u001b[0m\n",
      "\u001b[34mValidation accuracy: 0.674864\u001b[0m\n",
      "\u001b[34mValidation accuracy improved! Storing best weights...\u001b[0m\n",
      "\u001b[34m##### Alpha: 0.0000  Progress: 100.00%  Million Words/sec: 23.87 #####\u001b[0m\n",
      "\u001b[34mTraining finished.\u001b[0m\n",
      "\u001b[34mAverage throughput in Million words/sec: 23.87\u001b[0m\n",
      "\u001b[34mTotal training time in seconds: 1.27\n",
      "\u001b[0m\n",
      "\u001b[34m#train_accuracy: 0.6974\u001b[0m\n",
      "\u001b[34mNumber of train examples: 35945\n",
      "\u001b[0m\n",
      "\u001b[34m#validation_accuracy: 0.6749\u001b[0m\n",
      "\u001b[34mNumber of validation examples: 8987\u001b[0m\n",
      "\n",
      "2020-07-03 06:18:33 Uploading - Uploading generated training model\n",
      "2020-07-03 06:18:33 Completed - Training job completed\n",
      "Training seconds: 60\n",
      "Billable seconds: 60\n"
     ]
    }
   ],
   "source": [
    "t_bt_model.fit(inputs=t_data_channels, logs=True)"
   ]
  },
  {
   "cell_type": "code",
   "execution_count": 61,
   "metadata": {
    "scrolled": true
   },
   "outputs": [
    {
     "ename": "ClientError",
     "evalue": "An error occurred (ValidationException) when calling the CreateEndpointConfig operation: 1 validation error detected: Value 'ml.t3.medium' at 'productionVariants.1.member.instanceType' failed to satisfy constraint: Member must satisfy enum value set: [ml.r5d.12xlarge, ml.r5.12xlarge, ml.p2.xlarge, ml.m5.4xlarge, ml.m4.16xlarge, ml.r5d.24xlarge, ml.r5.24xlarge, ml.p3.16xlarge, ml.m5d.xlarge, ml.m5.large, ml.t2.xlarge, ml.p2.16xlarge, ml.m5d.12xlarge, ml.inf1.2xlarge, ml.m5d.24xlarge, ml.c4.2xlarge, ml.c5.2xlarge, ml.c4.4xlarge, ml.inf1.6xlarge, ml.c5d.2xlarge, ml.c5.4xlarge, ml.g4dn.xlarge, ml.g4dn.12xlarge, ml.c5d.4xlarge, ml.g4dn.2xlarge, ml.c4.8xlarge, ml.c4.large, ml.c5d.xlarge, ml.c5.large, ml.g4dn.4xlarge, ml.c5.9xlarge, ml.g4dn.16xlarge, ml.c5d.large, ml.c5.xlarge, ml.c5d.9xlarge, ml.c4.xlarge, ml.inf1.xlarge, ml.g4dn.8xlarge, ml.inf1.24xlarge, ml.m5d.2xlarge, ml.t2.2xlarge, ml.c5d.18xlarge, ml.m5d.4xlarge, ml.t2.medium, ml.c5.18xlarge, ml.r5d.2xlarge, ml.r5.2xlarge, ml.p3.2xlarge, ml.m5d.large, ml.m5.xlarge, ml.m4.10xlarge, ml.t2.large, ml.r5d.4xlarge, ml.r5.4xlarge, ml.m5.12xlarge, ml.m4.xlarge, ml.m5.24xlarge, ml.m4.2xlarge, ml.p2.8xlarge, ml.m5.2xlarge, ml.r5d.xlarge, ml.r5d.large, ml.r5.xlarge, ml.r5.large, ml.p3.8xlarge, ml.m4.4xlarge]",
     "output_type": "error",
     "traceback": [
      "\u001b[0;31m---------------------------------------------------------------------------\u001b[0m",
      "\u001b[0;31mClientError\u001b[0m                               Traceback (most recent call last)",
      "\u001b[0;32m<ipython-input-61-14d792b3fafe>\u001b[0m in \u001b[0;36m<module>\u001b[0;34m()\u001b[0m\n\u001b[0;32m----> 1\u001b[0;31m \u001b[0mt_text_classifier\u001b[0m \u001b[0;34m=\u001b[0m \u001b[0mt_bt_model\u001b[0m\u001b[0;34m.\u001b[0m\u001b[0mdeploy\u001b[0m\u001b[0;34m(\u001b[0m\u001b[0minitial_instance_count\u001b[0m \u001b[0;34m=\u001b[0m \u001b[0;36m1\u001b[0m\u001b[0;34m,\u001b[0m\u001b[0minstance_type\u001b[0m \u001b[0;34m=\u001b[0m \u001b[0;34m'ml.t3.medium'\u001b[0m\u001b[0;34m)\u001b[0m\u001b[0;34m\u001b[0m\u001b[0m\n\u001b[0m",
      "\u001b[0;32m~/anaconda3/envs/python3/lib/python3.6/site-packages/sagemaker/estimator.py\u001b[0m in \u001b[0;36mdeploy\u001b[0;34m(self, initial_instance_count, instance_type, accelerator_type, endpoint_name, use_compiled_model, update_endpoint, wait, model_name, kms_key, data_capture_config, tags, **kwargs)\u001b[0m\n\u001b[1;32m    701\u001b[0m             \u001b[0mwait\u001b[0m\u001b[0;34m=\u001b[0m\u001b[0mwait\u001b[0m\u001b[0;34m,\u001b[0m\u001b[0;34m\u001b[0m\u001b[0m\n\u001b[1;32m    702\u001b[0m             \u001b[0mkms_key\u001b[0m\u001b[0;34m=\u001b[0m\u001b[0mkms_key\u001b[0m\u001b[0;34m,\u001b[0m\u001b[0;34m\u001b[0m\u001b[0m\n\u001b[0;32m--> 703\u001b[0;31m             \u001b[0mdata_capture_config\u001b[0m\u001b[0;34m=\u001b[0m\u001b[0mdata_capture_config\u001b[0m\u001b[0;34m,\u001b[0m\u001b[0;34m\u001b[0m\u001b[0m\n\u001b[0m\u001b[1;32m    704\u001b[0m         )\n\u001b[1;32m    705\u001b[0m \u001b[0;34m\u001b[0m\u001b[0m\n",
      "\u001b[0;32m~/anaconda3/envs/python3/lib/python3.6/site-packages/sagemaker/model.py\u001b[0m in \u001b[0;36mdeploy\u001b[0;34m(self, initial_instance_count, instance_type, accelerator_type, endpoint_name, update_endpoint, tags, kms_key, wait, data_capture_config)\u001b[0m\n\u001b[1;32m    513\u001b[0m                 \u001b[0mkms_key\u001b[0m\u001b[0;34m=\u001b[0m\u001b[0mkms_key\u001b[0m\u001b[0;34m,\u001b[0m\u001b[0;34m\u001b[0m\u001b[0m\n\u001b[1;32m    514\u001b[0m                 \u001b[0mwait\u001b[0m\u001b[0;34m=\u001b[0m\u001b[0mwait\u001b[0m\u001b[0;34m,\u001b[0m\u001b[0;34m\u001b[0m\u001b[0m\n\u001b[0;32m--> 515\u001b[0;31m                 \u001b[0mdata_capture_config_dict\u001b[0m\u001b[0;34m=\u001b[0m\u001b[0mdata_capture_config_dict\u001b[0m\u001b[0;34m,\u001b[0m\u001b[0;34m\u001b[0m\u001b[0m\n\u001b[0m\u001b[1;32m    516\u001b[0m             )\n\u001b[1;32m    517\u001b[0m \u001b[0;34m\u001b[0m\u001b[0m\n",
      "\u001b[0;32m~/anaconda3/envs/python3/lib/python3.6/site-packages/sagemaker/session.py\u001b[0m in \u001b[0;36mendpoint_from_production_variants\u001b[0;34m(self, name, production_variants, tags, kms_key, wait, data_capture_config_dict)\u001b[0m\n\u001b[1;32m   2869\u001b[0m                 \u001b[0mconfig_options\u001b[0m\u001b[0;34m[\u001b[0m\u001b[0;34m\"DataCaptureConfig\"\u001b[0m\u001b[0;34m]\u001b[0m \u001b[0;34m=\u001b[0m \u001b[0mdata_capture_config_dict\u001b[0m\u001b[0;34m\u001b[0m\u001b[0m\n\u001b[1;32m   2870\u001b[0m \u001b[0;34m\u001b[0m\u001b[0m\n\u001b[0;32m-> 2871\u001b[0;31m             \u001b[0mself\u001b[0m\u001b[0;34m.\u001b[0m\u001b[0msagemaker_client\u001b[0m\u001b[0;34m.\u001b[0m\u001b[0mcreate_endpoint_config\u001b[0m\u001b[0;34m(\u001b[0m\u001b[0;34m**\u001b[0m\u001b[0mconfig_options\u001b[0m\u001b[0;34m)\u001b[0m\u001b[0;34m\u001b[0m\u001b[0m\n\u001b[0m\u001b[1;32m   2872\u001b[0m         \u001b[0;32mreturn\u001b[0m \u001b[0mself\u001b[0m\u001b[0;34m.\u001b[0m\u001b[0mcreate_endpoint\u001b[0m\u001b[0;34m(\u001b[0m\u001b[0mendpoint_name\u001b[0m\u001b[0;34m=\u001b[0m\u001b[0mname\u001b[0m\u001b[0;34m,\u001b[0m \u001b[0mconfig_name\u001b[0m\u001b[0;34m=\u001b[0m\u001b[0mname\u001b[0m\u001b[0;34m,\u001b[0m \u001b[0mtags\u001b[0m\u001b[0;34m=\u001b[0m\u001b[0mtags\u001b[0m\u001b[0;34m,\u001b[0m \u001b[0mwait\u001b[0m\u001b[0;34m=\u001b[0m\u001b[0mwait\u001b[0m\u001b[0;34m)\u001b[0m\u001b[0;34m\u001b[0m\u001b[0m\n\u001b[1;32m   2873\u001b[0m \u001b[0;34m\u001b[0m\u001b[0m\n",
      "\u001b[0;32m~/anaconda3/envs/python3/lib/python3.6/site-packages/botocore/client.py\u001b[0m in \u001b[0;36m_api_call\u001b[0;34m(self, *args, **kwargs)\u001b[0m\n\u001b[1;32m    314\u001b[0m                     \"%s() only accepts keyword arguments.\" % py_operation_name)\n\u001b[1;32m    315\u001b[0m             \u001b[0;31m# The \"self\" in this scope is referring to the BaseClient.\u001b[0m\u001b[0;34m\u001b[0m\u001b[0;34m\u001b[0m\u001b[0m\n\u001b[0;32m--> 316\u001b[0;31m             \u001b[0;32mreturn\u001b[0m \u001b[0mself\u001b[0m\u001b[0;34m.\u001b[0m\u001b[0m_make_api_call\u001b[0m\u001b[0;34m(\u001b[0m\u001b[0moperation_name\u001b[0m\u001b[0;34m,\u001b[0m \u001b[0mkwargs\u001b[0m\u001b[0;34m)\u001b[0m\u001b[0;34m\u001b[0m\u001b[0m\n\u001b[0m\u001b[1;32m    317\u001b[0m \u001b[0;34m\u001b[0m\u001b[0m\n\u001b[1;32m    318\u001b[0m         \u001b[0m_api_call\u001b[0m\u001b[0;34m.\u001b[0m\u001b[0m__name__\u001b[0m \u001b[0;34m=\u001b[0m \u001b[0mstr\u001b[0m\u001b[0;34m(\u001b[0m\u001b[0mpy_operation_name\u001b[0m\u001b[0;34m)\u001b[0m\u001b[0;34m\u001b[0m\u001b[0m\n",
      "\u001b[0;32m~/anaconda3/envs/python3/lib/python3.6/site-packages/botocore/client.py\u001b[0m in \u001b[0;36m_make_api_call\u001b[0;34m(self, operation_name, api_params)\u001b[0m\n\u001b[1;32m    624\u001b[0m             \u001b[0merror_code\u001b[0m \u001b[0;34m=\u001b[0m \u001b[0mparsed_response\u001b[0m\u001b[0;34m.\u001b[0m\u001b[0mget\u001b[0m\u001b[0;34m(\u001b[0m\u001b[0;34m\"Error\"\u001b[0m\u001b[0;34m,\u001b[0m \u001b[0;34m{\u001b[0m\u001b[0;34m}\u001b[0m\u001b[0;34m)\u001b[0m\u001b[0;34m.\u001b[0m\u001b[0mget\u001b[0m\u001b[0;34m(\u001b[0m\u001b[0;34m\"Code\"\u001b[0m\u001b[0;34m)\u001b[0m\u001b[0;34m\u001b[0m\u001b[0m\n\u001b[1;32m    625\u001b[0m             \u001b[0merror_class\u001b[0m \u001b[0;34m=\u001b[0m \u001b[0mself\u001b[0m\u001b[0;34m.\u001b[0m\u001b[0mexceptions\u001b[0m\u001b[0;34m.\u001b[0m\u001b[0mfrom_code\u001b[0m\u001b[0;34m(\u001b[0m\u001b[0merror_code\u001b[0m\u001b[0;34m)\u001b[0m\u001b[0;34m\u001b[0m\u001b[0m\n\u001b[0;32m--> 626\u001b[0;31m             \u001b[0;32mraise\u001b[0m \u001b[0merror_class\u001b[0m\u001b[0;34m(\u001b[0m\u001b[0mparsed_response\u001b[0m\u001b[0;34m,\u001b[0m \u001b[0moperation_name\u001b[0m\u001b[0;34m)\u001b[0m\u001b[0;34m\u001b[0m\u001b[0m\n\u001b[0m\u001b[1;32m    627\u001b[0m         \u001b[0;32melse\u001b[0m\u001b[0;34m:\u001b[0m\u001b[0;34m\u001b[0m\u001b[0m\n\u001b[1;32m    628\u001b[0m             \u001b[0;32mreturn\u001b[0m \u001b[0mparsed_response\u001b[0m\u001b[0;34m\u001b[0m\u001b[0m\n",
      "\u001b[0;31mClientError\u001b[0m: An error occurred (ValidationException) when calling the CreateEndpointConfig operation: 1 validation error detected: Value 'ml.t3.medium' at 'productionVariants.1.member.instanceType' failed to satisfy constraint: Member must satisfy enum value set: [ml.r5d.12xlarge, ml.r5.12xlarge, ml.p2.xlarge, ml.m5.4xlarge, ml.m4.16xlarge, ml.r5d.24xlarge, ml.r5.24xlarge, ml.p3.16xlarge, ml.m5d.xlarge, ml.m5.large, ml.t2.xlarge, ml.p2.16xlarge, ml.m5d.12xlarge, ml.inf1.2xlarge, ml.m5d.24xlarge, ml.c4.2xlarge, ml.c5.2xlarge, ml.c4.4xlarge, ml.inf1.6xlarge, ml.c5d.2xlarge, ml.c5.4xlarge, ml.g4dn.xlarge, ml.g4dn.12xlarge, ml.c5d.4xlarge, ml.g4dn.2xlarge, ml.c4.8xlarge, ml.c4.large, ml.c5d.xlarge, ml.c5.large, ml.g4dn.4xlarge, ml.c5.9xlarge, ml.g4dn.16xlarge, ml.c5d.large, ml.c5.xlarge, ml.c5d.9xlarge, ml.c4.xlarge, ml.inf1.xlarge, ml.g4dn.8xlarge, ml.inf1.24xlarge, ml.m5d.2xlarge, ml.t2.2xlarge, ml.c5d.18xlarge, ml.m5d.4xlarge, ml.t2.medium, ml.c5.18xlarge, ml.r5d.2xlarge, ml.r5.2xlarge, ml.p3.2xlarge, ml.m5d.large, ml.m5.xlarge, ml.m4.10xlarge, ml.t2.large, ml.r5d.4xlarge, ml.r5.4xlarge, ml.m5.12xlarge, ml.m4.xlarge, ml.m5.24xlarge, ml.m4.2xlarge, ml.p2.8xlarge, ml.m5.2xlarge, ml.r5d.xlarge, ml.r5d.large, ml.r5.xlarge, ml.r5.large, ml.p3.8xlarge, ml.m4.4xlarge]"
     ]
    }
   ],
   "source": [
    "t_text_classifier = t_bt_model.deploy(initial_instance_count = 1,instance_type = 'ml.t3.medium')"
   ]
  },
  {
   "cell_type": "code",
   "execution_count": 159,
   "metadata": {},
   "outputs": [
    {
     "ename": "NameError",
     "evalue": "name 't_text_classifier' is not defined",
     "output_type": "error",
     "traceback": [
      "\u001b[0;31m---------------------------------------------------------------------------\u001b[0m",
      "\u001b[0;31mNameError\u001b[0m                                 Traceback (most recent call last)",
      "\u001b[0;32m<ipython-input-159-b2c00870542f>\u001b[0m in \u001b[0;36m<module>\u001b[0;34m()\u001b[0m\n\u001b[1;32m      9\u001b[0m \u001b[0;31m#           \"configuration\": {\"k\": 2}}\u001b[0m\u001b[0;34m\u001b[0m\u001b[0;34m\u001b[0m\u001b[0m\n\u001b[1;32m     10\u001b[0m \u001b[0;34m\u001b[0m\u001b[0m\n\u001b[0;32m---> 11\u001b[0;31m \u001b[0mt_response\u001b[0m \u001b[0;34m=\u001b[0m \u001b[0mt_text_classifier\u001b[0m\u001b[0;34m.\u001b[0m\u001b[0mpredict\u001b[0m\u001b[0;34m(\u001b[0m\u001b[0mjson\u001b[0m\u001b[0;34m.\u001b[0m\u001b[0mdumps\u001b[0m\u001b[0;34m(\u001b[0m\u001b[0mpayload\u001b[0m\u001b[0;34m)\u001b[0m\u001b[0;34m)\u001b[0m\u001b[0;34m\u001b[0m\u001b[0m\n\u001b[0m\u001b[1;32m     12\u001b[0m \u001b[0;34m\u001b[0m\u001b[0m\n\u001b[1;32m     13\u001b[0m \u001b[0mt_predictions\u001b[0m \u001b[0;34m=\u001b[0m \u001b[0mjson\u001b[0m\u001b[0;34m.\u001b[0m\u001b[0mloads\u001b[0m\u001b[0;34m(\u001b[0m\u001b[0mt_response\u001b[0m\u001b[0;34m)\u001b[0m\u001b[0;34m\u001b[0m\u001b[0m\n",
      "\u001b[0;31mNameError\u001b[0m: name 't_text_classifier' is not defined"
     ]
    }
   ],
   "source": [
    "sentences = \"邓超加入春晚\"#\"宝马推出新车型/亚马逊云计算Q1营收过百亿/美国航空母舰开往伊朗波斯湾/北京迎来黄金周小高峰/C罗纳尔多还是梅西\"\n",
    "\n",
    "# using the same nltk tokenizer that we used during data preparation for training\n",
    "tokenized_sentences = [' '.join(jieba.cut(sentences,cut_all=False))]\n",
    "\n",
    "payload = {\"instances\" : tokenized_sentences}\n",
    "\n",
    "# payload = {\"instances\" : tokenized_sentences,\n",
    "#           \"configuration\": {\"k\": 2}}\n",
    "\n",
    "t_response = t_text_classifier.predict(json.dumps(payload))\n",
    "\n",
    "t_predictions = json.loads(t_response)\n",
    "print(json.dumps(t_predictions, indent=2))\n",
    "t_predictions[0]['label']"
   ]
  },
  {
   "cell_type": "code",
   "execution_count": null,
   "metadata": {},
   "outputs": [],
   "source": []
  }
 ],
 "metadata": {
  "kernelspec": {
   "display_name": "conda_python3",
   "language": "python",
   "name": "conda_python3"
  },
  "language_info": {
   "codemirror_mode": {
    "name": "ipython",
    "version": 3
   },
   "file_extension": ".py",
   "mimetype": "text/x-python",
   "name": "python",
   "nbconvert_exporter": "python",
   "pygments_lexer": "ipython3",
   "version": "3.6.10"
  }
 },
 "nbformat": 4,
 "nbformat_minor": 4
}