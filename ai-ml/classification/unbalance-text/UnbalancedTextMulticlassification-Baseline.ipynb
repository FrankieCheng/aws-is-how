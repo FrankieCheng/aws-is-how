{
 "cells": [
  {
   "cell_type": "markdown",
   "metadata": {},
   "source": [
    "# 利用 AWS SageMaker BlazingText 对不均衡文本进行多分类\n",
    "\n",
    "## 没有经过样本不均衡处理的 baseline 实验\n",
    "\n",
    "1. Step 0 - Setup； \n",
    "2. Step 1 - 数据集分析； \n",
    "3. Step 2 - 数据预处理；\n",
    "4. Step 3 - 模型训练;\n",
    "5. Step 4 - 模型部署，评估和测试"
   ]
  },
  {
   "cell_type": "markdown",
   "metadata": {},
   "source": [
    "## Step 0 - Setup\n",
    "\n",
    "指定用于存放训练和模型数据的S3存储桶和前缀。\n",
    "\n",
    "并指定 IAM 角色用于授予SageMaker访问数据的权限。"
   ]
  },
  {
   "cell_type": "code",
   "execution_count": 67,
   "metadata": {},
   "outputs": [
    {
     "name": "stdout",
     "output_type": "stream",
     "text": [
      "arn:aws-cn:iam::876820548815:role/Sagemaker-Bootcamp-SageMakerExecutionRole-Z3VF78G260T1\n"
     ]
    }
   ],
   "source": [
    "import pandas as pd\n",
    "import sagemaker\n",
    "from sagemaker import get_execution_role\n",
    "import json\n",
    "import boto3\n",
    "from random import shuffle\n",
    "\n",
    "sess = sagemaker.Session()\n",
    "\n",
    "role = get_execution_role()\n",
    "print(role) # This is the role that SageMaker would use to leverage AWS resources (S3, CloudWatch) on your behalf\n",
    "\n",
    "bucket = 'ray-ai-ml-bjs' #sess.default_bucket() # Replace with your own bucket name if needed\n",
    "input_prefix = 'classification/blazingtext/UnbalancedTextMulticlassification'"
   ]
  },
  {
   "cell_type": "markdown",
   "metadata": {},
   "source": [
    "## Step 1 - 数据集分析"
   ]
  },
  {
   "cell_type": "code",
   "execution_count": 68,
   "metadata": {},
   "outputs": [
    {
     "name": "stdout",
     "output_type": "stream",
     "text": [
      "行数：188020\n"
     ]
    },
    {
     "data": {
      "text/html": [
       "<div>\n",
       "<style scoped>\n",
       "    .dataframe tbody tr th:only-of-type {\n",
       "        vertical-align: middle;\n",
       "    }\n",
       "\n",
       "    .dataframe tbody tr th {\n",
       "        vertical-align: top;\n",
       "    }\n",
       "\n",
       "    .dataframe thead th {\n",
       "        text-align: right;\n",
       "    }\n",
       "</style>\n",
       "<table border=\"1\" class=\"dataframe\">\n",
       "  <thead>\n",
       "    <tr style=\"text-align: right;\">\n",
       "      <th></th>\n",
       "      <th>label</th>\n",
       "      <th>title</th>\n",
       "      <th>abstract</th>\n",
       "    </tr>\n",
       "  </thead>\n",
       "  <tbody>\n",
       "    <tr>\n",
       "      <th>0</th>\n",
       "      <td>1</td>\n",
       "      <td>E. D. Abbott Ltd</td>\n",
       "      <td>Abbott of Farnham E D Abbott Limited was a Br...</td>\n",
       "    </tr>\n",
       "    <tr>\n",
       "      <th>1</th>\n",
       "      <td>1</td>\n",
       "      <td>Schwan-Stabilo</td>\n",
       "      <td>Schwan-STABILO is a German maker of pens for ...</td>\n",
       "    </tr>\n",
       "    <tr>\n",
       "      <th>2</th>\n",
       "      <td>1</td>\n",
       "      <td>Q-workshop</td>\n",
       "      <td>Q-workshop is a Polish company located in Poz...</td>\n",
       "    </tr>\n",
       "    <tr>\n",
       "      <th>3</th>\n",
       "      <td>1</td>\n",
       "      <td>Marvell Software Solutions Israel</td>\n",
       "      <td>Marvell Software Solutions Israel known as RA...</td>\n",
       "    </tr>\n",
       "    <tr>\n",
       "      <th>4</th>\n",
       "      <td>1</td>\n",
       "      <td>Bergan Mercy Medical Center</td>\n",
       "      <td>Bergan Mercy Medical Center is a hospital loc...</td>\n",
       "    </tr>\n",
       "  </tbody>\n",
       "</table>\n",
       "</div>"
      ],
      "text/plain": [
       "   label                              title  \\\n",
       "0      1                   E. D. Abbott Ltd   \n",
       "1      1                     Schwan-Stabilo   \n",
       "2      1                         Q-workshop   \n",
       "3      1  Marvell Software Solutions Israel   \n",
       "4      1        Bergan Mercy Medical Center   \n",
       "\n",
       "                                            abstract  \n",
       "0   Abbott of Farnham E D Abbott Limited was a Br...  \n",
       "1   Schwan-STABILO is a German maker of pens for ...  \n",
       "2   Q-workshop is a Polish company located in Poz...  \n",
       "3   Marvell Software Solutions Israel known as RA...  \n",
       "4   Bergan Mercy Medical Center is a hospital loc...  "
      ]
     },
     "execution_count": 68,
     "metadata": {},
     "output_type": "execute_result"
    }
   ],
   "source": [
    "import pandas as pd\n",
    "\n",
    "step1_df = pd.read_csv('unblance_original_dataset/dataset.csv')\n",
    "print(\"行数：\" + str(step1_df.shape[0]))\n",
    "step1_df.head()"
   ]
  },
  {
   "cell_type": "markdown",
   "metadata": {},
   "source": [
    "3. 查看一共有哪些类别以及每个类别数据的数量分布情况"
   ]
  },
  {
   "cell_type": "code",
   "execution_count": 69,
   "metadata": {},
   "outputs": [
    {
     "name": "stdout",
     "output_type": "stream",
     "text": [
      "1     40000\n",
      "2     38000\n",
      "3     18000\n",
      "4     17000\n",
      "5     16000\n",
      "6     15000\n",
      "7     14000\n",
      "8     13000\n",
      "9      8000\n",
      "10     5000\n",
      "11     3000\n",
      "12      900\n",
      "13      100\n",
      "14       20\n",
      "Name: label, dtype: int64\n"
     ]
    }
   ],
   "source": [
    "count_classes = pd.value_counts(step1_df['label'], sort = True)\n",
    "print(count_classes)"
   ]
  },
  {
   "cell_type": "markdown",
   "metadata": {},
   "source": [
    "4. 查看数据集的类别分布情况，包括每个类别的数量，并画好分布图。"
   ]
  },
  {
   "cell_type": "code",
   "execution_count": 70,
   "metadata": {},
   "outputs": [
    {
     "data": {
      "image/png": "[encoded data removed]",
      "text/plain": [
       "<Figure size 432x288 with 1 Axes>"
      ]
     },
     "metadata": {
      "needs_background": "light"
     },
     "output_type": "display_data"
    }
   ],
   "source": [
    "import matplotlib.pyplot as plt\n",
    "\n",
    "count_classes = step1_df.label.value_counts()\n",
    "count_classes.plot(kind = 'bar')\n",
    "plt.title(\"label distribution\")\n",
    "plt.xlabel(\"Class\")\n",
    "plt.ylabel(\"Frequency\");"
   ]
  },
  {
   "cell_type": "markdown",
   "metadata": {},
   "source": [
    "5. 查看数字类别对应的名称"
   ]
  },
  {
   "cell_type": "code",
   "execution_count": 71,
   "metadata": {},
   "outputs": [
    {
     "name": "stdout",
     "output_type": "stream",
     "text": [
      "Company\n",
      "EducationalInstitution\n",
      "Artist\n",
      "Athlete\n",
      "OfficeHolder\n",
      "MeanOfTransportation\n",
      "Building\n",
      "NaturalPlace\n",
      "Village\n",
      "Animal\n",
      "Plant\n",
      "Album\n",
      "Film\n",
      "WrittenWork\n"
     ]
    }
   ],
   "source": [
    "!cat unblance_original_dataset/classes.txt"
   ]
  },
  {
   "cell_type": "markdown",
   "metadata": {},
   "source": [
    "6. 创建从整数索引到类标签的字典映射"
   ]
  },
  {
   "cell_type": "code",
   "execution_count": 72,
   "metadata": {},
   "outputs": [
    {
     "name": "stdout",
     "output_type": "stream",
     "text": [
      "{'1': 'Company', '2': 'EducationalInstitution', '3': 'Artist', '4': 'Athlete', '5': 'OfficeHolder', '6': 'MeanOfTransportation', '7': 'Building', '8': 'NaturalPlace', '9': 'Village', '10': 'Animal', '11': 'Plant', '12': 'Album', '13': 'Film', '14': 'WrittenWork'}\n"
     ]
    }
   ],
   "source": [
    "index_to_label = {} \n",
    "with open(\"unblance_original_dataset/classes.txt\") as f:\n",
    "    for i,label in enumerate(f.readlines()):\n",
    "        index_to_label[str(i+1)] = label.strip()\n",
    "print(index_to_label)"
   ]
  },
  {
   "cell_type": "markdown",
   "metadata": {},
   "source": [
    "## Step 2 - 数据预处理\n",
    "\n",
    "1. 去掉空行；\n",
    "2. 大小写统一；\n",
    "3. 分词 - 英文分词使用nltk.word_tokenize；中文可以使用jieba分词\n",
    "4. 转化为BlazingText的数据集格式"
   ]
  },
  {
   "cell_type": "code",
   "execution_count": 73,
   "metadata": {},
   "outputs": [
    {
     "name": "stderr",
     "output_type": "stream",
     "text": [
      "[nltk_data] Downloading package punkt to /home/ec2-user/nltk_data...\n",
      "[nltk_data]   Package punkt is already up-to-date!\n"
     ]
    },
    {
     "data": {
      "text/plain": [
       "True"
      ]
     },
     "execution_count": 73,
     "metadata": {},
     "output_type": "execute_result"
    }
   ],
   "source": [
    "from random import shuffle\n",
    "import multiprocessing\n",
    "from multiprocessing import Pool\n",
    "import csv\n",
    "import nltk\n",
    "nltk.download('punkt')"
   ]
  },
  {
   "cell_type": "markdown",
   "metadata": {},
   "source": [
    "1. 按照blazingtext的要求，创建从整数索引到以“__label__”开头的类标签的字典映射"
   ]
  },
  {
   "cell_type": "code",
   "execution_count": 74,
   "metadata": {},
   "outputs": [
    {
     "name": "stdout",
     "output_type": "stream",
     "text": [
      "{'1': '__label__Company', '2': '__label__EducationalInstitution', '3': '__label__Artist', '4': '__label__Athlete', '5': '__label__OfficeHolder', '6': '__label__MeanOfTransportation', '7': '__label__Building', '8': '__label__NaturalPlace', '9': '__label__Village', '10': '__label__Animal', '11': '__label__Plant', '12': '__label__Album', '13': '__label__Film', '14': '__label__WrittenWork'}\n"
     ]
    }
   ],
   "source": [
    "index_to_label_final = {}\n",
    "for key in index_to_label:\n",
    "    index_to_label_final[key] = \"__label__\" + str(index_to_label[key]) \n",
    "\n",
    "print(index_to_label_final)"
   ]
  },
  {
   "cell_type": "markdown",
   "metadata": {},
   "source": [
    "2. 分词和预处理：把Title和Abstract合并，按照blazingtext要求生成新的label格式"
   ]
  },
  {
   "cell_type": "code",
   "execution_count": 75,
   "metadata": {},
   "outputs": [
    {
     "data": {
      "text/html": [
       "<div>\n",
       "<style scoped>\n",
       "    .dataframe tbody tr th:only-of-type {\n",
       "        vertical-align: middle;\n",
       "    }\n",
       "\n",
       "    .dataframe tbody tr th {\n",
       "        vertical-align: top;\n",
       "    }\n",
       "\n",
       "    .dataframe thead th {\n",
       "        text-align: right;\n",
       "    }\n",
       "</style>\n",
       "<table border=\"1\" class=\"dataframe\">\n",
       "  <thead>\n",
       "    <tr style=\"text-align: right;\">\n",
       "      <th></th>\n",
       "      <th>label</th>\n",
       "      <th>sentence</th>\n",
       "    </tr>\n",
       "  </thead>\n",
       "  <tbody>\n",
       "    <tr>\n",
       "      <th>0</th>\n",
       "      <td>__label__Company</td>\n",
       "      <td>E. D. Abbott Ltd, Abbott of Farnham E D Abbott...</td>\n",
       "    </tr>\n",
       "    <tr>\n",
       "      <th>1</th>\n",
       "      <td>__label__Company</td>\n",
       "      <td>Schwan-Stabilo, Schwan-STABILO is a German mak...</td>\n",
       "    </tr>\n",
       "    <tr>\n",
       "      <th>2</th>\n",
       "      <td>__label__Company</td>\n",
       "      <td>Q-workshop, Q-workshop is a Polish company loc...</td>\n",
       "    </tr>\n",
       "    <tr>\n",
       "      <th>3</th>\n",
       "      <td>__label__Company</td>\n",
       "      <td>Marvell Software Solutions Israel, Marvell Sof...</td>\n",
       "    </tr>\n",
       "    <tr>\n",
       "      <th>4</th>\n",
       "      <td>__label__Company</td>\n",
       "      <td>Bergan Mercy Medical Center, Bergan Mercy Medi...</td>\n",
       "    </tr>\n",
       "    <tr>\n",
       "      <th>5</th>\n",
       "      <td>__label__Company</td>\n",
       "      <td>The Unsigned Guide, The Unsigned Guide is an o...</td>\n",
       "    </tr>\n",
       "    <tr>\n",
       "      <th>6</th>\n",
       "      <td>__label__Company</td>\n",
       "      <td>Rest of the world, Within sports and games pla...</td>\n",
       "    </tr>\n",
       "    <tr>\n",
       "      <th>7</th>\n",
       "      <td>__label__Company</td>\n",
       "      <td>Globoforce, Globoforce is a multinational comp...</td>\n",
       "    </tr>\n",
       "    <tr>\n",
       "      <th>8</th>\n",
       "      <td>__label__Company</td>\n",
       "      <td>Rompetrol, The Rompetrol Group N.V. is a Roman...</td>\n",
       "    </tr>\n",
       "    <tr>\n",
       "      <th>9</th>\n",
       "      <td>__label__Company</td>\n",
       "      <td>Wave Accounting, Wave is the brand name for a ...</td>\n",
       "    </tr>\n",
       "  </tbody>\n",
       "</table>\n",
       "</div>"
      ],
      "text/plain": [
       "              label                                           sentence\n",
       "0  __label__Company  E. D. Abbott Ltd, Abbott of Farnham E D Abbott...\n",
       "1  __label__Company  Schwan-Stabilo, Schwan-STABILO is a German mak...\n",
       "2  __label__Company  Q-workshop, Q-workshop is a Polish company loc...\n",
       "3  __label__Company  Marvell Software Solutions Israel, Marvell Sof...\n",
       "4  __label__Company  Bergan Mercy Medical Center, Bergan Mercy Medi...\n",
       "5  __label__Company  The Unsigned Guide, The Unsigned Guide is an o...\n",
       "6  __label__Company  Rest of the world, Within sports and games pla...\n",
       "7  __label__Company  Globoforce, Globoforce is a multinational comp...\n",
       "8  __label__Company  Rompetrol, The Rompetrol Group N.V. is a Roman...\n",
       "9  __label__Company  Wave Accounting, Wave is the brand name for a ..."
      ]
     },
     "execution_count": 75,
     "metadata": {},
     "output_type": "execute_result"
    }
   ],
   "source": [
    "def tokenize(series):\n",
    "    for index, value in series.items():\n",
    "        series[index] = nltk.word_tokenize(value.lower())\n",
    "    return series\n",
    "\n",
    "def preprocess(step1_df):\n",
    "    \n",
    "    step1_df = step1_df.dropna(axis=0) \n",
    "    \n",
    "    step2_df = pd.DataFrame()\n",
    "    step2_df['label'] = step1_df['label']\n",
    "    step2_df['label'] = step2_df['label'].map(str).map(index_to_label_final)\n",
    "    step2_df['sentence'] = step1_df[\"title\"].map(str) +\",\"+ step1_df[\"abstract\"].map(str)\n",
    "    #comments off the tokenize, which will cause the classification_report error\n",
    "    #step2_df['sentence'] = tokenize(step2_df['sentence']) \n",
    "    return step2_df\n",
    "\n",
    "step2_df = preprocess(step1_df)\n",
    "step2_df.head(10)"
   ]
  },
  {
   "cell_type": "markdown",
   "metadata": {},
   "source": [
    "3. 保留预处理后的数据集作为baseline实验的数据集"
   ]
  },
  {
   "cell_type": "code",
   "execution_count": 76,
   "metadata": {},
   "outputs": [],
   "source": [
    "import os\n",
    "\n",
    "os.makedirs('unblance_baseline_dataset', exist_ok = True)\n",
    "step2_df.to_csv(\"unblance_baseline_dataset/dataset_baseline.csv\", sep=\" \", header=0, index=0)"
   ]
  },
  {
   "cell_type": "markdown",
   "metadata": {},
   "source": [
    "## Step3 - 模型训练\n",
    "\n",
    "1. 划分训练集和测试集, 85% 训练集，15% 验证集"
   ]
  },
  {
   "cell_type": "code",
   "execution_count": 77,
   "metadata": {},
   "outputs": [],
   "source": [
    "import numpy as np\n",
    "from sklearn.model_selection import train_test_split\n",
    "\n",
    "baseline_train, baseline_test = train_test_split(step2_df, test_size=0.15)\n",
    "baseline_train.to_csv(\"unblance_baseline_dataset/baseline_train.csv\", sep=\" \", header=0, index=0)\n",
    "baseline_test.to_csv(\"unblance_baseline_dataset/baseline_test.csv\", sep=\" \", header=0, index=0)"
   ]
  },
  {
   "cell_type": "markdown",
   "metadata": {},
   "source": [
    "2. 上传到S3"
   ]
  },
  {
   "cell_type": "code",
   "execution_count": 78,
   "metadata": {},
   "outputs": [],
   "source": [
    "train_channel = input_prefix + '/baseline' + '/train'\n",
    "validation_channel = input_prefix + '/baseline' + '/validation'\n",
    "\n",
    "sess.upload_data(path='unblance_baseline_dataset/baseline_train.csv', bucket=bucket, key_prefix=train_channel)\n",
    "sess.upload_data(path='unblance_baseline_dataset/baseline_test.csv', bucket=bucket, key_prefix=validation_channel)\n",
    "\n",
    "s3_train_data = 's3://{}/{}'.format(bucket, train_channel)\n",
    "s3_validation_data = 's3://{}/{}'.format(bucket, validation_channel)"
   ]
  },
  {
   "cell_type": "markdown",
   "metadata": {},
   "source": [
    "3. 获取blazingtext模型"
   ]
  },
  {
   "cell_type": "code",
   "execution_count": 79,
   "metadata": {},
   "outputs": [
    {
     "name": "stderr",
     "output_type": "stream",
     "text": [
      "'get_image_uri' method will be deprecated in favor of 'ImageURIProvider' class in SageMaker Python SDK v2.\n"
     ]
    },
    {
     "name": "stdout",
     "output_type": "stream",
     "text": [
      "Using SageMaker BlazingText container: 390948362332.dkr.ecr.cn-north-1.amazonaws.com.cn/blazingtext:latest (cn-north-1)\n"
     ]
    }
   ],
   "source": [
    "s3_output_location = 's3://{}/{}/baseline/output'.format(bucket, input_prefix)\n",
    "region_name = boto3.Session().region_name\n",
    "\n",
    "container = sagemaker.amazon.amazon_estimator.get_image_uri(region_name, \"blazingtext\", \"latest\")\n",
    "print('Using SageMaker BlazingText container: {} ({})'.format(container, region_name))"
   ]
  },
  {
   "cell_type": "markdown",
   "metadata": {},
   "source": [
    "4. 创建训练预测模型和超参调优"
   ]
  },
  {
   "cell_type": "code",
   "execution_count": 80,
   "metadata": {},
   "outputs": [
    {
     "name": "stderr",
     "output_type": "stream",
     "text": [
      "Parameter image_name will be renamed to image_uri in SageMaker Python SDK v2.\n"
     ]
    }
   ],
   "source": [
    "baseline_model = sagemaker.estimator.Estimator(container,\n",
    "                                         role, \n",
    "                                         train_instance_count=1, \n",
    "                                         train_instance_type='ml.c4.4xlarge',\n",
    "                                         train_volume_size = 30,\n",
    "                                         train_max_run = 360000,\n",
    "                                         input_mode= 'File',\n",
    "                                         output_path=s3_output_location,\n",
    "                                         sagemaker_session=sess)\n",
    "\n",
    "baseline_model.set_hyperparameters(mode=\"supervised\",\n",
    "                            epochs=10,\n",
    "                            min_count=2,\n",
    "                            learning_rate=0.05,\n",
    "                            vector_dim=10,\n",
    "                            early_stopping=True,\n",
    "                            patience=4,\n",
    "                            min_epochs=5,\n",
    "                            word_ngrams=2)"
   ]
  },
  {
   "cell_type": "markdown",
   "metadata": {},
   "source": [
    "5. 模型输入"
   ]
  },
  {
   "cell_type": "code",
   "execution_count": 81,
   "metadata": {},
   "outputs": [
    {
     "name": "stderr",
     "output_type": "stream",
     "text": [
      "'s3_input' class will be renamed to 'TrainingInput' in SageMaker Python SDK v2.\n",
      "'s3_input' class will be renamed to 'TrainingInput' in SageMaker Python SDK v2.\n"
     ]
    }
   ],
   "source": [
    "train_data = sagemaker.session.s3_input(s3_train_data, distribution='FullyReplicated', \n",
    "                        content_type='text/plain', s3_data_type='S3Prefix')\n",
    "\n",
    "validation_data = sagemaker.session.s3_input(s3_validation_data, distribution='FullyReplicated', \n",
    "                             content_type='text/plain', s3_data_type='S3Prefix')\n",
    "\n",
    "data_channels = {'train': train_data, 'validation': validation_data}"
   ]
  },
  {
   "cell_type": "markdown",
   "metadata": {},
   "source": [
    "6. 模型训练"
   ]
  },
  {
   "cell_type": "code",
   "execution_count": 82,
   "metadata": {},
   "outputs": [
    {
     "name": "stdout",
     "output_type": "stream",
     "text": [
      "2020-11-17 10:50:26 Starting - Starting the training job...\n",
      "2020-11-17 10:50:29 Starting - Launching requested ML instances......\n",
      "2020-11-17 10:51:39 Starting - Preparing the instances for training......\n",
      "2020-11-17 10:52:41 Downloading - Downloading input data......\n",
      "2020-11-17 10:53:50 Training - Downloading the training image..\u001b[34mArguments: train\u001b[0m\n",
      "\u001b[34m[11/17/2020 10:54:08 WARNING 139943614920064] Loggers have already been setup.\u001b[0m\n",
      "\u001b[34m[11/17/2020 10:54:08 WARNING 139943614920064] Loggers have already been setup.\u001b[0m\n",
      "\u001b[34m[11/17/2020 10:54:08 INFO 139943614920064] nvidia-smi took: 0.02529120445251465 secs to identify 0 gpus\u001b[0m\n",
      "\u001b[34m[11/17/2020 10:54:08 INFO 139943614920064] Running single machine CPU BlazingText training using supervised mode.\u001b[0m\n",
      "\u001b[34mNumber of CPU sockets found in instance is  1\u001b[0m\n",
      "\u001b[34m[11/17/2020 10:54:08 INFO 139943614920064] Processing /opt/ml/input/data/train/baseline_train.csv . File size: 52.89375019073486 MB\u001b[0m\n",
      "\u001b[34m[11/17/2020 10:54:08 INFO 139943614920064] Processing /opt/ml/input/data/validation/baseline_test.csv . File size: 9.329713821411133 MB\u001b[0m\n",
      "\u001b[34mRead 8M words\u001b[0m\n",
      "\u001b[34mNumber of words:  195512\u001b[0m\n",
      "\u001b[34mLoading validation data from /opt/ml/input/data/validation/baseline_test.csv\u001b[0m\n",
      "\u001b[34mLoaded validation data.\u001b[0m\n",
      "\u001b[34m-------------- End of epoch: 1\u001b[0m\n",
      "\u001b[34m##### Alpha: 0.0411  Progress: 17.78%  Million Words/sec: 35.17 #####\u001b[0m\n",
      "\u001b[34m-------------- End of epoch: 2\u001b[0m\n",
      "\u001b[34m##### Alpha: 0.0367  Progress: 26.53%  Million Words/sec: 35.75 #####\u001b[0m\n",
      "\u001b[34m-------------- End of epoch: 3\u001b[0m\n",
      "\u001b[34m##### Alpha: 0.0323  Progress: 35.40%  Million Words/sec: 36.15 #####\u001b[0m\n",
      "\u001b[34m##### Alpha: 0.0279  Progress: 44.29%  Million Words/sec: 36.42 #####\u001b[0m\n",
      "\u001b[34m-------------- End of epoch: 4\u001b[0m\n",
      "\u001b[34m##### Alpha: 0.0234  Progress: 53.18%  Million Words/sec: 36.60 #####\u001b[0m\n",
      "\u001b[34m-------------- End of epoch: 5\u001b[0m\n",
      "\u001b[34mUsing 16 threads for prediction!\u001b[0m\n",
      "\u001b[34mValidation accuracy: 0.970145\u001b[0m\n",
      "\u001b[34mValidation accuracy improved! Storing best weights...\u001b[0m\n",
      "\u001b[34m##### Alpha: 0.0208  Progress: 58.46%  Million Words/sec: 32.65 #####\u001b[0m\n",
      "\u001b[34m-------------- End of epoch: 6\u001b[0m\n",
      "\u001b[34mUsing 16 threads for prediction!\u001b[0m\n",
      "\u001b[34mValidation accuracy: 0.970996\u001b[0m\n",
      "\u001b[34mValidation accuracy improved! Storing best weights...\u001b[0m\n",
      "\u001b[34m##### Alpha: 0.0174  Progress: 65.26%  Million Words/sec: 30.61 #####\u001b[0m\n",
      "\u001b[34m##### Alpha: 0.0132  Progress: 73.58%  Million Words/sec: 31.06 #####\u001b[0m\n",
      "\u001b[34m-------------- End of epoch: 7\u001b[0m\n",
      "\u001b[34mUsing 16 threads for prediction!\u001b[0m\n",
      "\u001b[34mValidation accuracy: 0.971209\u001b[0m\n",
      "\u001b[34mValidation accuracy improved! Storing best weights...\u001b[0m\n",
      "\u001b[34m##### Alpha: 0.0101  Progress: 79.73%  Million Words/sec: 29.40 #####\u001b[0m\n",
      "\n",
      "2020-11-17 10:54:23 Uploading - Uploading generated training model\u001b[34m-------------- End of epoch: 8\u001b[0m\n",
      "\u001b[34mUsing 16 threads for prediction!\u001b[0m\n",
      "\u001b[34mValidation accuracy: 0.971953\u001b[0m\n",
      "\u001b[34mValidation accuracy improved! Storing best weights...\u001b[0m\n",
      "\u001b[34m##### Alpha: 0.0068  Progress: 86.46%  Million Words/sec: 28.31 #####\u001b[0m\n",
      "\u001b[34m-------------- End of epoch: 9\u001b[0m\n",
      "\u001b[34mUsing 16 threads for prediction!\u001b[0m\n",
      "\u001b[34mValidation accuracy: 0.972095\u001b[0m\n",
      "\u001b[34mValidation accuracy improved! Storing best weights...\u001b[0m\n",
      "\u001b[34m##### Alpha: 0.0038  Progress: 92.47%  Million Words/sec: 27.28 #####\u001b[0m\n",
      "\u001b[34m##### Alpha: -0.0000  Progress: 100.00%  Million Words/sec: 27.57 #####\u001b[0m\n",
      "\u001b[34m-------------- End of epoch: 10\u001b[0m\n",
      "\u001b[34mUsing 16 threads for prediction!\u001b[0m\n",
      "\u001b[34mValidation accuracy: 0.972202\u001b[0m\n",
      "\u001b[34mValidation accuracy improved! Storing best weights...\u001b[0m\n",
      "\u001b[34m##### Alpha: 0.0000  Progress: 100.00%  Million Words/sec: 26.82 #####\u001b[0m\n",
      "\u001b[34mTraining finished.\u001b[0m\n",
      "\u001b[34mAverage throughput in Million words/sec: 26.82\u001b[0m\n",
      "\u001b[34mTotal training time in seconds: 3.16\n",
      "\u001b[0m\n",
      "\u001b[34m#train_accuracy: 0.9892\u001b[0m\n",
      "\u001b[34mNumber of train examples: 159817\n",
      "\u001b[0m\n",
      "\u001b[34m#validation_accuracy: 0.9722\u001b[0m\n",
      "\u001b[34mNumber of validation examples: 28203\u001b[0m\n",
      "\n",
      "2020-11-17 10:54:40 Completed - Training job completed\n",
      "Training seconds: 119\n",
      "Billable seconds: 119\n"
     ]
    }
   ],
   "source": [
    "baseline_model.fit(inputs=data_channels, logs=True)"
   ]
  },
  {
   "cell_type": "markdown",
   "metadata": {},
   "source": [
    "## Step4 - Baseline 模型部署"
   ]
  },
  {
   "cell_type": "code",
   "execution_count": 83,
   "metadata": {},
   "outputs": [
    {
     "name": "stderr",
     "output_type": "stream",
     "text": [
      "Parameter image will be renamed to image_uri in SageMaker Python SDK v2.\n"
     ]
    },
    {
     "name": "stdout",
     "output_type": "stream",
     "text": [
      "-------------!"
     ]
    }
   ],
   "source": [
    "baseline_classifier = baseline_model.deploy(initial_instance_count = 1,instance_type = 'ml.m4.xlarge')"
   ]
  },
  {
   "cell_type": "markdown",
   "metadata": {},
   "source": [
    "## Step 5 - Baseline 模型评估和测试"
   ]
  },
  {
   "cell_type": "code",
   "execution_count": 84,
   "metadata": {},
   "outputs": [
    {
     "name": "stdout",
     "output_type": "stream",
     "text": [
      "Kinross Gold, Kinross Gold Corporation is a Canadian-based gold mining company with mines and projects in Canada the United States Brazil Chile Russia Ghana and Mauritania. Kinross was founded after a merger in 1993 of three companies initially owning a mine in British Columbia and royalties on a mine in Nevada. Following a series of takeovers and mergers Kinross now owns nine active gold mines on four continents.\n"
     ]
    },
    {
     "name": "stderr",
     "output_type": "stream",
     "text": [
      "/home/ec2-user/anaconda3/envs/python3/lib/python3.6/site-packages/sklearn/metrics/_classification.py:1272: UndefinedMetricWarning: Precision and F-score are ill-defined and being set to 0.0 in labels with no predicted samples. Use `zero_division` parameter to control this behavior.\n",
      "  _warn_prf(average, modifier, msg_start, len(result))\n"
     ]
    },
    {
     "name": "stdout",
     "output_type": "stream",
     "text": [
      "                                 precision    recall  f1-score   support\n",
      "\n",
      "                 __label__Album       0.94      0.89      0.91       120\n",
      "                __label__Animal       0.94      0.94      0.94       761\n",
      "                __label__Artist       0.95      0.97      0.96      2744\n",
      "               __label__Athlete       0.99      0.98      0.99      2561\n",
      "              __label__Building       0.95      0.94      0.95      2123\n",
      "               __label__Company       0.97      0.97      0.97      5902\n",
      "__label__EducationalInstitution       0.99      0.98      0.99      5642\n",
      "                  __label__Film       0.00      0.00      0.00        18\n",
      "  __label__MeanOfTransportation       0.97      0.98      0.98      2234\n",
      "          __label__NaturalPlace       0.98      0.99      0.98      2004\n",
      "          __label__OfficeHolder       0.98      0.96      0.97      2422\n",
      "                 __label__Plant       0.96      0.87      0.91       460\n",
      "               __label__Village       0.99      0.99      0.99      1208\n",
      "           __label__WrittenWork       0.00      0.00      0.00         4\n",
      "\n",
      "                       accuracy                           0.97     28203\n",
      "                      macro avg       0.83      0.82      0.82     28203\n",
      "                   weighted avg       0.97      0.97      0.97     28203\n",
      "\n"
     ]
    }
   ],
   "source": [
    "from sklearn.metrics import classification_report\n",
    "import json\n",
    "\n",
    "sentences = baseline_test['sentence'].tolist()\n",
    "print(sentences[0])\n",
    "# print(sentenses)\n",
    "\n",
    "payload = {\"instances\" : sentences}\n",
    "response = baseline_classifier.predict(json.dumps(payload))\n",
    "predictions = json.loads(response)\n",
    "#print('predictions', predictions)\n",
    "\n",
    "predict_label = []\n",
    "for one in predictions:\n",
    "#     print(one['label'][0])\n",
    "    predict_label.append(one['label'][0])\n",
    "# print(predict_label)\n",
    "\n",
    "real_label = baseline_test['label'].tolist()\n",
    "# print(real_label)\n",
    "\n",
    "baseline_report = classification_report(real_label, predict_label)\n",
    "print(baseline_report)"
   ]
  },
  {
   "cell_type": "markdown",
   "metadata": {},
   "source": [
    "2. 预测结束，删除endpoint"
   ]
  },
  {
   "cell_type": "code",
   "execution_count": 85,
   "metadata": {},
   "outputs": [],
   "source": [
    "baseline_classifier.delete_endpoint()"
   ]
  },
  {
   "cell_type": "markdown",
   "metadata": {},
   "source": [
    "# 没有经过样本不均衡处理的Baseline超参调优实验\n",
    "\n",
    "    Step 1 - 超参自动调优配置 learning_rate， vector_dim， word_ngrams\n",
    "    Step 2 - 启动超参数优化作业和模型训练\n",
    "    Step 3 - 模型部署，评估和测试\n"
   ]
  },
  {
   "cell_type": "markdown",
   "metadata": {},
   "source": [
    "## Step 1 设置超参数优化作业\n",
    "\n",
    "这里我们没有设置learning_rate, vector_dim, word_ngrams 三个超参，让SageMaker帮我们进行超参自动调优"
   ]
  },
  {
   "cell_type": "code",
   "execution_count": 86,
   "metadata": {},
   "outputs": [
    {
     "name": "stderr",
     "output_type": "stream",
     "text": [
      "Parameter image_name will be renamed to image_uri in SageMaker Python SDK v2.\n"
     ]
    }
   ],
   "source": [
    "baseline_hyperparameter_model = sagemaker.estimator.Estimator(container,\n",
    "                                         role, \n",
    "                                         train_instance_count=1, \n",
    "                                         train_instance_type='ml.c4.4xlarge',\n",
    "                                         train_volume_size = 30,\n",
    "                                         train_max_run = 360000,\n",
    "                                         input_mode= 'File',\n",
    "                                         output_path=s3_output_location,\n",
    "                                         sagemaker_session=sess)\n",
    "\n",
    "baseline_hyperparameter_model.set_hyperparameters(\n",
    "                            mode=\"supervised\",\n",
    "                            epochs=10,\n",
    "                            min_count=2,\n",
    "                            early_stopping=True,\n",
    "                            patience=4,\n",
    "                            min_epochs=5)"
   ]
  },
  {
   "cell_type": "code",
   "execution_count": 87,
   "metadata": {},
   "outputs": [],
   "source": [
    "from sagemaker.tuner import IntegerParameter, CategoricalParameter, ContinuousParameter, HyperparameterTuner\n",
    "\n",
    "hyperparameter_ranges = {'learning_rate': ContinuousParameter(0.03, 0.06),\n",
    "                         'vector_dim': IntegerParameter(100, 200),\n",
    "                         'word_ngrams': IntegerParameter(1, 3)}\n",
    "\n",
    "objective_metric_name = 'validation:accuracy'\n",
    "\n",
    "tuner = HyperparameterTuner(baseline_hyperparameter_model,\n",
    "                            objective_metric_name,\n",
    "                            hyperparameter_ranges,\n",
    "                            objective_type='Maximize',\n",
    "                            max_jobs=9,\n",
    "                            max_parallel_jobs=3)"
   ]
  },
  {
   "cell_type": "markdown",
   "metadata": {},
   "source": [
    "## Step 2 - 启动超参数优化作业和模型训练"
   ]
  },
  {
   "cell_type": "code",
   "execution_count": null,
   "metadata": {},
   "outputs": [
    {
     "name": "stdout",
     "output_type": "stream",
     "text": [
      "11-18-01\n",
      ".................................................................................................."
     ]
    }
   ],
   "source": [
    "from datetime import datetime\n",
    "\n",
    "now = datetime.now()\n",
    "current_time = now.strftime(\"%H-%M-%S\")\n",
    "print(current_time)\n",
    "\n",
    "tuner.fit(inputs=data_channels, job_name=\"hyperparam-baseline-job\"+current_time, logs=True)\n",
    "\n",
    "tuner.wait()"
   ]
  },
  {
   "cell_type": "code",
   "execution_count": 95,
   "metadata": {},
   "outputs": [
    {
     "data": {
      "text/plain": [
       "{'TrainingJobName': 'hyperparam-baseline-job11-18-01-007-e8466aff',\n",
       " 'TrainingJobArn': 'arn:aws-cn:sagemaker:cn-north-1:876820548815:training-job/hyperparam-baseline-job11-18-01-007-e8466aff',\n",
       " 'CreationTime': datetime.datetime(2020, 11, 17, 11, 28, 43, tzinfo=tzlocal()),\n",
       " 'TrainingStartTime': datetime.datetime(2020, 11, 17, 11, 31, 7, tzinfo=tzlocal()),\n",
       " 'TrainingEndTime': datetime.datetime(2020, 11, 17, 11, 32, 17, tzinfo=tzlocal()),\n",
       " 'TrainingJobStatus': 'Completed',\n",
       " 'TunedHyperParameters': {'learning_rate': '0.05792394606493767',\n",
       "  'vector_dim': '163',\n",
       "  'word_ngrams': '1'},\n",
       " 'FinalHyperParameterTuningJobObjectiveMetric': {'MetricName': 'validation:accuracy',\n",
       "  'Value': 0.9753000140190125},\n",
       " 'ObjectiveStatus': 'Succeeded'}"
      ]
     },
     "execution_count": 95,
     "metadata": {},
     "output_type": "execute_result"
    }
   ],
   "source": [
    "tuner.describe()['BestTrainingJob']"
   ]
  },
  {
   "cell_type": "code",
   "execution_count": 97,
   "metadata": {},
   "outputs": [
    {
     "name": "stderr",
     "output_type": "stream",
     "text": [
      "Parameter image_name will be renamed to image_uri in SageMaker Python SDK v2.\n",
      "Parameter image will be renamed to image_uri in SageMaker Python SDK v2.\n"
     ]
    },
    {
     "name": "stdout",
     "output_type": "stream",
     "text": [
      "2020-11-17 11:32:17 Starting - Preparing the instances for training\n",
      "2020-11-17 11:32:17 Downloading - Downloading input data\n",
      "2020-11-17 11:32:17 Training - Training image download completed. Training in progress.\n",
      "2020-11-17 11:32:17 Uploading - Uploading generated training model\n",
      "2020-11-17 11:32:17 Completed - Training job completed\u001b[34mArguments: train\u001b[0m\n",
      "\u001b[34m[11/17/2020 11:31:40 WARNING 139665596355968] Loggers have already been setup.\u001b[0m\n",
      "\u001b[34m[11/17/2020 11:31:40 WARNING 139665596355968] Loggers have already been setup.\u001b[0m\n",
      "\u001b[34m[11/17/2020 11:31:40 INFO 139665596355968] nvidia-smi took: 0.02521204948425293 secs to identify 0 gpus\u001b[0m\n",
      "\u001b[34m[11/17/2020 11:31:40 INFO 139665596355968] Running single machine CPU BlazingText training using supervised mode.\u001b[0m\n",
      "\u001b[34mNumber of CPU sockets found in instance is  1\u001b[0m\n",
      "\u001b[34m[11/17/2020 11:31:40 INFO 139665596355968] tuning_objective_metric: validation:accuracy\u001b[0m\n",
      "\u001b[34m[11/17/2020 11:31:40 INFO 139665596355968] Processing /opt/ml/input/data/train/baseline_train.csv . File size: 52.89375019073486 MB\u001b[0m\n",
      "\u001b[34m[11/17/2020 11:31:40 INFO 139665596355968] Processing /opt/ml/input/data/validation/baseline_test.csv . File size: 9.329713821411133 MB\u001b[0m\n",
      "\u001b[34mRead 8M words\u001b[0m\n",
      "\u001b[34mNumber of words:  195512\u001b[0m\n",
      "\u001b[34mLoading validation data from /opt/ml/input/data/validation/baseline_test.csv\u001b[0m\n",
      "\u001b[34mLoaded validation data.\u001b[0m\n",
      "\u001b[34m##### Alpha: 0.0501  Progress: 13.57%  Million Words/sec: 29.29 #####\u001b[0m\n",
      "\u001b[34m-------------- End of epoch: 1\u001b[0m\n",
      "\u001b[34m##### Alpha: 0.0458  Progress: 20.91%  Million Words/sec: 29.85 #####\u001b[0m\n",
      "\u001b[34m-------------- End of epoch: 2\u001b[0m\n",
      "\u001b[34m##### Alpha: 0.0416  Progress: 28.25%  Million Words/sec: 30.13 #####\u001b[0m\n",
      "\u001b[34m-------------- End of epoch: 3\u001b[0m\n",
      "\u001b[34m##### Alpha: 0.0373  Progress: 35.59%  Million Words/sec: 30.30 #####\u001b[0m\n",
      "\u001b[34m##### Alpha: 0.0331  Progress: 42.84%  Million Words/sec: 30.36 #####\u001b[0m\n",
      "\u001b[34m-------------- End of epoch: 4\u001b[0m\n",
      "\u001b[34m##### Alpha: 0.0289  Progress: 50.17%  Million Words/sec: 30.44 #####\u001b[0m\n",
      "\u001b[34m-------------- End of epoch: 5\u001b[0m\n",
      "\u001b[34mUsing 16 threads for prediction!\u001b[0m\n",
      "\u001b[34mValidation accuracy: 0.974577\u001b[0m\n",
      "\u001b[34mValidation accuracy improved! Storing best weights...\u001b[0m\n",
      "\u001b[34m##### Alpha: 0.0243  Progress: 58.12%  Million Words/sec: 27.11 #####\u001b[0m\n",
      "\u001b[34m-------------- End of epoch: 6\u001b[0m\n",
      "\u001b[34mUsing 16 threads for prediction!\u001b[0m\n",
      "\u001b[34mValidation accuracy: 0.97401\u001b[0m\n",
      "\u001b[34mValidation accuracy has not improved for last 1 epochs.\u001b[0m\n",
      "\u001b[34m##### Alpha: 0.0204  Progress: 64.81%  Million Words/sec: 25.56 #####\u001b[0m\n",
      "\u001b[34m##### Alpha: 0.0162  Progress: 72.02%  Million Words/sec: 25.98 #####\u001b[0m\n",
      "\u001b[34m-------------- End of epoch: 7\u001b[0m\n",
      "\u001b[34mUsing 16 threads for prediction!\u001b[0m\n",
      "\u001b[34mValidation accuracy: 0.975251\u001b[0m\n",
      "\u001b[34mValidation accuracy improved! Storing best weights...\u001b[0m\n",
      "\u001b[34m##### Alpha: 0.0116  Progress: 79.96%  Million Words/sec: 24.49 #####\u001b[0m\n",
      "\u001b[34m-------------- End of epoch: 8\u001b[0m\n",
      "\u001b[34mUsing 16 threads for prediction!\u001b[0m\n",
      "\u001b[34mValidation accuracy: 0.974896\u001b[0m\n",
      "\u001b[34mValidation accuracy has not improved for last 1 epochs.\u001b[0m\n",
      "\u001b[34m##### Alpha: 0.0079  Progress: 86.39%  Million Words/sec: 23.71 #####\u001b[0m\n",
      "\u001b[34m-------------- End of epoch: 9\u001b[0m\n",
      "\u001b[34mUsing 16 threads for prediction!\u001b[0m\n",
      "\u001b[34mValidation accuracy: 0.974719\u001b[0m\n",
      "\u001b[34mValidation accuracy has not improved for last 2 epochs.\u001b[0m\n",
      "\u001b[34m##### Alpha: 0.0044  Progress: 92.39%  Million Words/sec: 23.01 #####\u001b[0m\n",
      "\u001b[34m##### Alpha: 0.0002  Progress: 99.66%  Million Words/sec: 23.44 #####\u001b[0m\n",
      "\u001b[34m-------------- End of epoch: 10\u001b[0m\n",
      "\u001b[34mUsing 16 threads for prediction!\u001b[0m\n",
      "\u001b[34mValidation accuracy: 0.975038\u001b[0m\n",
      "\u001b[34mValidation accuracy has not improved for last 3 epochs.\u001b[0m\n",
      "\u001b[34m##### Alpha: 0.0000  Progress: 100.00%  Million Words/sec: 22.79 #####\u001b[0m\n",
      "\u001b[34mTraining finished.\u001b[0m\n",
      "\u001b[34mAverage throughput in Million words/sec: 22.79\u001b[0m\n",
      "\u001b[34mTotal training time in seconds: 3.72\n",
      "\u001b[0m\n",
      "\u001b[34m#train_accuracy: 0.9912\u001b[0m\n",
      "\u001b[34mNumber of train examples: 159817\n",
      "\u001b[0m\n",
      "\u001b[34m#validation_accuracy: 0.9753\u001b[0m\n",
      "\u001b[34mNumber of validation examples: 28203\u001b[0m\n",
      "Training seconds: 70\n",
      "Billable seconds: 70\n",
      "-------------!"
     ]
    }
   ],
   "source": [
    "baseline_hyperparameter_classifier = tuner.deploy(initial_instance_count = 1,instance_type = 'ml.m4.xlarge')"
   ]
  },
  {
   "cell_type": "markdown",
   "metadata": {},
   "source": [
    "## Step 3 模型评估和测试"
   ]
  },
  {
   "cell_type": "code",
   "execution_count": 98,
   "metadata": {},
   "outputs": [
    {
     "name": "stdout",
     "output_type": "stream",
     "text": [
      "                                 precision    recall  f1-score   support\n",
      "\n",
      "                 __label__Album       0.88      0.94      0.91       120\n",
      "                __label__Animal       0.97      0.95      0.96       761\n",
      "                __label__Artist       0.96      0.97      0.97      2744\n",
      "               __label__Athlete       0.99      0.99      0.99      2561\n",
      "              __label__Building       0.96      0.94      0.95      2123\n",
      "               __label__Company       0.97      0.97      0.97      5902\n",
      "__label__EducationalInstitution       0.99      0.99      0.99      5642\n",
      "                  __label__Film       0.00      0.00      0.00        18\n",
      "  __label__MeanOfTransportation       0.98      0.99      0.98      2234\n",
      "          __label__NaturalPlace       0.98      0.99      0.98      2004\n",
      "          __label__OfficeHolder       0.98      0.97      0.97      2422\n",
      "                 __label__Plant       0.96      0.95      0.95       460\n",
      "               __label__Village       0.98      0.99      0.99      1208\n",
      "           __label__WrittenWork       0.00      0.00      0.00         4\n",
      "\n",
      "                       accuracy                           0.97     28203\n",
      "                      macro avg       0.83      0.83      0.83     28203\n",
      "                   weighted avg       0.97      0.97      0.97     28203\n",
      "\n",
      "                                 precision    recall  f1-score   support\n",
      "\n",
      "                 __label__Album       0.94      0.89      0.91       120\n",
      "                __label__Animal       0.94      0.94      0.94       761\n",
      "                __label__Artist       0.95      0.97      0.96      2744\n",
      "               __label__Athlete       0.99      0.98      0.99      2561\n",
      "              __label__Building       0.95      0.94      0.95      2123\n",
      "               __label__Company       0.97      0.97      0.97      5902\n",
      "__label__EducationalInstitution       0.99      0.98      0.99      5642\n",
      "                  __label__Film       0.00      0.00      0.00        18\n",
      "  __label__MeanOfTransportation       0.97      0.98      0.98      2234\n",
      "          __label__NaturalPlace       0.98      0.99      0.98      2004\n",
      "          __label__OfficeHolder       0.98      0.96      0.97      2422\n",
      "                 __label__Plant       0.96      0.87      0.91       460\n",
      "               __label__Village       0.99      0.99      0.99      1208\n",
      "           __label__WrittenWork       0.00      0.00      0.00         4\n",
      "\n",
      "                       accuracy                           0.97     28203\n",
      "                      macro avg       0.83      0.82      0.82     28203\n",
      "                   weighted avg       0.97      0.97      0.97     28203\n",
      "\n"
     ]
    }
   ],
   "source": [
    "from sklearn.metrics import classification_report\n",
    "import json\n",
    "\n",
    "sentences = baseline_test['sentence'].tolist()\n",
    "# print(sentenses)\n",
    "\n",
    "payload = {\"instances\" : sentences}\n",
    "response = baseline_hyperparameter_classifier.predict(json.dumps(payload))\n",
    "predictions = json.loads(response)\n",
    "# print(predictions)\n",
    "\n",
    "predict_label = []\n",
    "for one in predictions:\n",
    "#     print(one['label'][0])\n",
    "    predict_label.append(one['label'][0])\n",
    "# print(predict_label)\n",
    "\n",
    "real_label = baseline_test['label'].tolist()\n",
    "# print(real_label)\n",
    "\n",
    "baseline_hyperparameter_report = classification_report(real_label, predict_label)\n",
    "print(baseline_hyperparameter_report)\n",
    "\n",
    "print(baseline_report)"
   ]
  },
  {
   "cell_type": "markdown",
   "metadata": {},
   "source": [
    "## 预测结束，删除endpoint\n"
   ]
  },
  {
   "cell_type": "code",
   "execution_count": 99,
   "metadata": {},
   "outputs": [],
   "source": [
    "baseline_hyperparameter_classifier.delete_endpoint()"
   ]
  },
  {
   "cell_type": "code",
   "execution_count": null,
   "metadata": {},
   "outputs": [],
   "source": []
  }
 ],
 "metadata": {
  "kernelspec": {
   "display_name": "conda_python3",
   "language": "python",
   "name": "conda_python3"
  },
  "language_info": {
   "codemirror_mode": {
    "name": "ipython",
    "version": 3
   },
   "file_extension": ".py",
   "mimetype": "text/x-python",
   "name": "python",
   "nbconvert_exporter": "python",
   "pygments_lexer": "ipython3",
   "version": "3.6.10"
  }
 },
 "nbformat": 4,
 "nbformat_minor": 4
}
