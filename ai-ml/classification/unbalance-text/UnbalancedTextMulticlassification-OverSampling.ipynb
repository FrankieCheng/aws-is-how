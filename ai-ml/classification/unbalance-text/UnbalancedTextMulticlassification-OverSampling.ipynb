{
 "cells": [
  {
   "cell_type": "markdown",
   "metadata": {},
   "source": [
    "# 利用 AWS SageMaker BlazingText 对不均衡文本进行多分类\n",
    "\n",
    "## 过采样实验 Oversampling 实验\n",
    "\n",
    "样本不平衡的解决思路一般有两种：\n",
    "\n",
    "1. 从数据层面缓解不平衡的状况：一，欠采样，去除数量过多的样例。二，过采样，扩充数量较少的样例\n",
    "2. 阈值移动，就是对阈值进行调整。直接基于原始数据训练，进行预测时，用样例的真实观测几率来修正阈值。\n",
    "\n",
    "由于本实验使用的是 SageMaker 的内置算法，无法修改算法本身，因此考虑从数据层面解决样本不均衡问题。由于本次数据集中某些类别数量过少，因此采用过采样的方法。\n",
    "\n",
    "过采样方法中，由于是文本类型数据，又选择了回译和 EDA 两种方法。"
   ]
  },
  {
   "cell_type": "markdown",
   "metadata": {},
   "source": [
    "## 过采样倍数计算方法\n",
    "\n",
    "由于过采样需要对原数据进行扩充，而过采样处理后的数据又需要和原数据保持一定规律，计算数据增强倍数的取值n的计算方法如下：\n",
    "\n",
    "- 原始数据各个类别呈递减状态，即使经过上采样处理后的数据也要保持原始数据的一定规律\n",
    "- 假设最大类别的数量为`a`，类别种类为`b`，最小类别增强后的数量保持在`a/3`和`a/2`之间\n",
    "- 过采样后的数据为等差递减数列，公差在 `(a-a/3)/b` 到 `(a-a/2)/b` 之间，取一个整数为`c`\n",
    "- 增强后数据分布：`y(x) = a – c(x-1)`\n",
    "- `n = math.floor ( y(x) / x类别的当前值)`"
   ]
  },
  {
   "cell_type": "code",
   "execution_count": 1,
   "metadata": {},
   "outputs": [],
   "source": [
    "import math\n",
    "\n",
    "'''\n",
    "计算n值\n",
    "'''\n",
    "def calcu_n(name):\n",
    "    num = get_num_from_name(name)\n",
    "    \n",
    "    current_num = group.label.value_counts().iloc[0]\n",
    "    expected_num = 40000-2000*(num-1)\n",
    "        \n",
    "    n = math.floor(expected_num/current_num)\n",
    "    return n"
   ]
  },
  {
   "cell_type": "markdown",
   "metadata": {},
   "source": [
    "## 过采样方法一：回译\n",
    "\n",
    "由于我们是对文本字符串使用blazingtext进行分类，因此可以采用回译的方式。\n",
    "\n",
    "所谓回译即对原句子进行一次翻译，再翻译回原来的语言，比如英文句子翻译成中文，再翻译回英文，就可以得到一个新的语义一致的句子。\n",
    "\n",
    "本文采用 AWS Translate 实现回译，由于目前 Translate 支持55种语言，因此一层回译最多可以有54个结果。\n",
    "但是某些情况下回译结果会和原句子一样，因此需要增加去重工作，实测去重后一般一个句子也可以达到扩充为20-40倍之间。"
   ]
  },
  {
   "cell_type": "markdown",
   "metadata": {},
   "source": [
    "## 过采样处理二：EDA\n",
    "\n",
    "EDA 是常用的文本扩充方法，主要包含四种处理手段：同义词替换、随机插入、随机交换、随机删除。\n",
    "\n",
    "本文直接使用一个开源的 EDA 工具进行文本扩充。合并 EDA 处理后的各个文本，作为过采样实验的数据集。"
   ]
  },
  {
   "cell_type": "markdown",
   "metadata": {},
   "source": [
    "## 过采样实验\n",
    "\n",
    "- Step 0 - Setup； \n",
    "- Step 1 - 数据集分析； \n",
    "- Step 2 - 数据预处理； \n",
    "- Step 3 - 处理样本不均衡； \n",
    "- Step 4 - 训练模型\n",
    "- Step 5 - 部署模型和预测"
   ]
  },
  {
   "cell_type": "markdown",
   "metadata": {},
   "source": [
    "## Step 0 - Setup\n",
    "\n",
    "指定用于存放训练和模型数据的S3存储桶和前缀。\n",
    "\n",
    "并指定 IAM 角色用于授予SageMaker访问数据的权限。"
   ]
  },
  {
   "cell_type": "code",
   "execution_count": 3,
   "metadata": {},
   "outputs": [
    {
     "name": "stdout",
     "output_type": "stream",
     "text": [
      "arn:aws-cn:iam::876820548815:role/Sagemaker-Bootcamp-SageMakerExecutionRole-Z3VF78G260T1\n"
     ]
    }
   ],
   "source": [
    "import pandas as pd\n",
    "import sagemaker\n",
    "from sagemaker import get_execution_role\n",
    "import json\n",
    "import boto3\n",
    "from random import shuffle\n",
    "\n",
    "sess = sagemaker.Session()\n",
    "\n",
    "role = get_execution_role()\n",
    "print(role) # This is the role that SageMaker would use to leverage AWS resources (S3, CloudWatch) on your behalf\n",
    "\n",
    "bucket = 'ray-ai-ml-bjs' #sess.default_bucket() # Replace with your own bucket name if needed\n",
    "input_prefix = 'classification/blazingtext/UnbalancedTextMulticlassification'"
   ]
  },
  {
   "cell_type": "markdown",
   "metadata": {},
   "source": [
    "## Step 1 - 数据集分析\n",
    "\n",
    "1. 预览数据"
   ]
  },
  {
   "cell_type": "code",
   "execution_count": 4,
   "metadata": {},
   "outputs": [
    {
     "name": "stdout",
     "output_type": "stream",
     "text": [
      "行数：188020\n"
     ]
    },
    {
     "data": {
      "text/html": [
       "<div>\n",
       "<style scoped>\n",
       "    .dataframe tbody tr th:only-of-type {\n",
       "        vertical-align: middle;\n",
       "    }\n",
       "\n",
       "    .dataframe tbody tr th {\n",
       "        vertical-align: top;\n",
       "    }\n",
       "\n",
       "    .dataframe thead th {\n",
       "        text-align: right;\n",
       "    }\n",
       "</style>\n",
       "<table border=\"1\" class=\"dataframe\">\n",
       "  <thead>\n",
       "    <tr style=\"text-align: right;\">\n",
       "      <th></th>\n",
       "      <th>label</th>\n",
       "      <th>title</th>\n",
       "      <th>abstract</th>\n",
       "    </tr>\n",
       "  </thead>\n",
       "  <tbody>\n",
       "    <tr>\n",
       "      <th>0</th>\n",
       "      <td>1</td>\n",
       "      <td>E. D. Abbott Ltd</td>\n",
       "      <td>Abbott of Farnham E D Abbott Limited was a Br...</td>\n",
       "    </tr>\n",
       "    <tr>\n",
       "      <th>1</th>\n",
       "      <td>1</td>\n",
       "      <td>Schwan-Stabilo</td>\n",
       "      <td>Schwan-STABILO is a German maker of pens for ...</td>\n",
       "    </tr>\n",
       "    <tr>\n",
       "      <th>2</th>\n",
       "      <td>1</td>\n",
       "      <td>Q-workshop</td>\n",
       "      <td>Q-workshop is a Polish company located in Poz...</td>\n",
       "    </tr>\n",
       "    <tr>\n",
       "      <th>3</th>\n",
       "      <td>1</td>\n",
       "      <td>Marvell Software Solutions Israel</td>\n",
       "      <td>Marvell Software Solutions Israel known as RA...</td>\n",
       "    </tr>\n",
       "    <tr>\n",
       "      <th>4</th>\n",
       "      <td>1</td>\n",
       "      <td>Bergan Mercy Medical Center</td>\n",
       "      <td>Bergan Mercy Medical Center is a hospital loc...</td>\n",
       "    </tr>\n",
       "  </tbody>\n",
       "</table>\n",
       "</div>"
      ],
      "text/plain": [
       "   label                              title  \\\n",
       "0      1                   E. D. Abbott Ltd   \n",
       "1      1                     Schwan-Stabilo   \n",
       "2      1                         Q-workshop   \n",
       "3      1  Marvell Software Solutions Israel   \n",
       "4      1        Bergan Mercy Medical Center   \n",
       "\n",
       "                                            abstract  \n",
       "0   Abbott of Farnham E D Abbott Limited was a Br...  \n",
       "1   Schwan-STABILO is a German maker of pens for ...  \n",
       "2   Q-workshop is a Polish company located in Poz...  \n",
       "3   Marvell Software Solutions Israel known as RA...  \n",
       "4   Bergan Mercy Medical Center is a hospital loc...  "
      ]
     },
     "execution_count": 4,
     "metadata": {},
     "output_type": "execute_result"
    }
   ],
   "source": [
    "import pandas as pd\n",
    "\n",
    "step1_df = pd.read_csv('unblance_original_dataset/dataset.csv')\n",
    "print(\"行数：\" + str(step1_df.shape[0]))\n",
    "step1_df.head()"
   ]
  },
  {
   "cell_type": "markdown",
   "metadata": {},
   "source": [
    "2. 查看一共有哪些类别以及每个类别数据的数量分布情况"
   ]
  },
  {
   "cell_type": "code",
   "execution_count": 5,
   "metadata": {},
   "outputs": [
    {
     "name": "stdout",
     "output_type": "stream",
     "text": [
      "1     40000\n",
      "2     38000\n",
      "3     18000\n",
      "4     17000\n",
      "5     16000\n",
      "6     15000\n",
      "7     14000\n",
      "8     13000\n",
      "9      8000\n",
      "10     5000\n",
      "11     3000\n",
      "12      900\n",
      "13      100\n",
      "14       20\n",
      "Name: label, dtype: int64\n"
     ]
    }
   ],
   "source": [
    "count_classes = pd.value_counts(step1_df['label'], sort = True)\n",
    "print(count_classes)"
   ]
  },
  {
   "cell_type": "markdown",
   "metadata": {},
   "source": [
    "3. 每个类别分布图。"
   ]
  },
  {
   "cell_type": "code",
   "execution_count": 6,
   "metadata": {},
   "outputs": [
    {
     "data": {
      "image/png": "[encoded data removed]",
      "text/plain": [
       "<Figure size 432x288 with 1 Axes>"
      ]
     },
     "metadata": {
      "needs_background": "light"
     },
     "output_type": "display_data"
    }
   ],
   "source": [
    "import matplotlib.pyplot as plt\n",
    "\n",
    "count_classes = step1_df.label.value_counts()\n",
    "count_classes.plot(kind = 'bar')\n",
    "plt.title(\"label distribution\")\n",
    "plt.xlabel(\"Class\")\n",
    "plt.ylabel(\"Frequency\");"
   ]
  },
  {
   "cell_type": "markdown",
   "metadata": {},
   "source": [
    "4. 查看数字类别对应的名称"
   ]
  },
  {
   "cell_type": "code",
   "execution_count": 8,
   "metadata": {},
   "outputs": [
    {
     "name": "stdout",
     "output_type": "stream",
     "text": [
      "Company\n",
      "EducationalInstitution\n",
      "Artist\n",
      "Athlete\n",
      "OfficeHolder\n",
      "MeanOfTransportation\n",
      "Building\n",
      "NaturalPlace\n",
      "Village\n",
      "Animal\n",
      "Plant\n",
      "Album\n",
      "Film\n",
      "WrittenWork\n"
     ]
    }
   ],
   "source": [
    "!cat unblance_original_dataset/classes.txt"
   ]
  },
  {
   "cell_type": "markdown",
   "metadata": {},
   "source": [
    "5. 创建从整数索引到类标签的字典映射"
   ]
  },
  {
   "cell_type": "code",
   "execution_count": 9,
   "metadata": {},
   "outputs": [
    {
     "name": "stdout",
     "output_type": "stream",
     "text": [
      "{'1': 'Company', '2': 'EducationalInstitution', '3': 'Artist', '4': 'Athlete', '5': 'OfficeHolder', '6': 'MeanOfTransportation', '7': 'Building', '8': 'NaturalPlace', '9': 'Village', '10': 'Animal', '11': 'Plant', '12': 'Album', '13': 'Film', '14': 'WrittenWork'}\n"
     ]
    }
   ],
   "source": [
    "index_to_label = {} \n",
    "with open(\"unblance_original_dataset/classes.txt\") as f:\n",
    "    for i,label in enumerate(f.readlines()):\n",
    "        index_to_label[str(i+1)] = label.strip()\n",
    "print(index_to_label)"
   ]
  },
  {
   "cell_type": "markdown",
   "metadata": {},
   "source": [
    "## Step 2 - 数据预处理\n",
    "\n",
    "1. 去掉空行；\n",
    "2. 大小写统一；\n",
    "3. 分词 - 英文分词使用nltk.word_tokenize；中文可以使用jieba分词\n",
    "4. 转化为BlazingText的数据集格式"
   ]
  },
  {
   "cell_type": "code",
   "execution_count": 10,
   "metadata": {},
   "outputs": [
    {
     "name": "stderr",
     "output_type": "stream",
     "text": [
      "[nltk_data] Downloading package punkt to /home/ec2-user/nltk_data...\n",
      "[nltk_data]   Package punkt is already up-to-date!\n"
     ]
    },
    {
     "data": {
      "text/plain": [
       "True"
      ]
     },
     "execution_count": 10,
     "metadata": {},
     "output_type": "execute_result"
    }
   ],
   "source": [
    "from random import shuffle\n",
    "import multiprocessing\n",
    "from multiprocessing import Pool\n",
    "import csv\n",
    "import nltk\n",
    "nltk.download('punkt')"
   ]
  },
  {
   "cell_type": "markdown",
   "metadata": {},
   "source": [
    "1. 按照blazingtext的要求，创建从整数索引到以“__label__”开头的类标签的字典映射"
   ]
  },
  {
   "cell_type": "code",
   "execution_count": 11,
   "metadata": {},
   "outputs": [
    {
     "name": "stdout",
     "output_type": "stream",
     "text": [
      "{'1': '__label__Company', '2': '__label__EducationalInstitution', '3': '__label__Artist', '4': '__label__Athlete', '5': '__label__OfficeHolder', '6': '__label__MeanOfTransportation', '7': '__label__Building', '8': '__label__NaturalPlace', '9': '__label__Village', '10': '__label__Animal', '11': '__label__Plant', '12': '__label__Album', '13': '__label__Film', '14': '__label__WrittenWork'}\n"
     ]
    }
   ],
   "source": [
    "index_to_label_final = {}\n",
    "for key in index_to_label:\n",
    "    index_to_label_final[key] = \"__label__\" + str(index_to_label[key]) \n",
    "\n",
    "print(index_to_label_final)"
   ]
  },
  {
   "cell_type": "markdown",
   "metadata": {},
   "source": [
    "2. 分词和预处理：把Title和Abstract合并，按照blazingtext要求生成新的label格式"
   ]
  },
  {
   "cell_type": "code",
   "execution_count": 12,
   "metadata": {},
   "outputs": [
    {
     "data": {
      "text/html": [
       "<div>\n",
       "<style scoped>\n",
       "    .dataframe tbody tr th:only-of-type {\n",
       "        vertical-align: middle;\n",
       "    }\n",
       "\n",
       "    .dataframe tbody tr th {\n",
       "        vertical-align: top;\n",
       "    }\n",
       "\n",
       "    .dataframe thead th {\n",
       "        text-align: right;\n",
       "    }\n",
       "</style>\n",
       "<table border=\"1\" class=\"dataframe\">\n",
       "  <thead>\n",
       "    <tr style=\"text-align: right;\">\n",
       "      <th></th>\n",
       "      <th>label</th>\n",
       "      <th>sentence</th>\n",
       "    </tr>\n",
       "  </thead>\n",
       "  <tbody>\n",
       "    <tr>\n",
       "      <th>0</th>\n",
       "      <td>__label__Company</td>\n",
       "      <td>E. D. Abbott Ltd, Abbott of Farnham E D Abbott...</td>\n",
       "    </tr>\n",
       "    <tr>\n",
       "      <th>1</th>\n",
       "      <td>__label__Company</td>\n",
       "      <td>Schwan-Stabilo, Schwan-STABILO is a German mak...</td>\n",
       "    </tr>\n",
       "    <tr>\n",
       "      <th>2</th>\n",
       "      <td>__label__Company</td>\n",
       "      <td>Q-workshop, Q-workshop is a Polish company loc...</td>\n",
       "    </tr>\n",
       "    <tr>\n",
       "      <th>3</th>\n",
       "      <td>__label__Company</td>\n",
       "      <td>Marvell Software Solutions Israel, Marvell Sof...</td>\n",
       "    </tr>\n",
       "    <tr>\n",
       "      <th>4</th>\n",
       "      <td>__label__Company</td>\n",
       "      <td>Bergan Mercy Medical Center, Bergan Mercy Medi...</td>\n",
       "    </tr>\n",
       "    <tr>\n",
       "      <th>5</th>\n",
       "      <td>__label__Company</td>\n",
       "      <td>The Unsigned Guide, The Unsigned Guide is an o...</td>\n",
       "    </tr>\n",
       "    <tr>\n",
       "      <th>6</th>\n",
       "      <td>__label__Company</td>\n",
       "      <td>Rest of the world, Within sports and games pla...</td>\n",
       "    </tr>\n",
       "    <tr>\n",
       "      <th>7</th>\n",
       "      <td>__label__Company</td>\n",
       "      <td>Globoforce, Globoforce is a multinational comp...</td>\n",
       "    </tr>\n",
       "    <tr>\n",
       "      <th>8</th>\n",
       "      <td>__label__Company</td>\n",
       "      <td>Rompetrol, The Rompetrol Group N.V. is a Roman...</td>\n",
       "    </tr>\n",
       "    <tr>\n",
       "      <th>9</th>\n",
       "      <td>__label__Company</td>\n",
       "      <td>Wave Accounting, Wave is the brand name for a ...</td>\n",
       "    </tr>\n",
       "  </tbody>\n",
       "</table>\n",
       "</div>"
      ],
      "text/plain": [
       "              label                                           sentence\n",
       "0  __label__Company  E. D. Abbott Ltd, Abbott of Farnham E D Abbott...\n",
       "1  __label__Company  Schwan-Stabilo, Schwan-STABILO is a German mak...\n",
       "2  __label__Company  Q-workshop, Q-workshop is a Polish company loc...\n",
       "3  __label__Company  Marvell Software Solutions Israel, Marvell Sof...\n",
       "4  __label__Company  Bergan Mercy Medical Center, Bergan Mercy Medi...\n",
       "5  __label__Company  The Unsigned Guide, The Unsigned Guide is an o...\n",
       "6  __label__Company  Rest of the world, Within sports and games pla...\n",
       "7  __label__Company  Globoforce, Globoforce is a multinational comp...\n",
       "8  __label__Company  Rompetrol, The Rompetrol Group N.V. is a Roman...\n",
       "9  __label__Company  Wave Accounting, Wave is the brand name for a ..."
      ]
     },
     "execution_count": 12,
     "metadata": {},
     "output_type": "execute_result"
    }
   ],
   "source": [
    "def tokenize(series):\n",
    "    for index, value in series.items():\n",
    "        series[index] = nltk.word_tokenize(value.lower())\n",
    "    return series\n",
    "\n",
    "def preprocess(step1_df):\n",
    "    \n",
    "    step1_df = step1_df.dropna(axis=0) \n",
    "    \n",
    "    step2_df = pd.DataFrame()\n",
    "    step2_df['label'] = step1_df['label']\n",
    "    step2_df['label'] = step2_df['label'].map(str).map(index_to_label_final)\n",
    "    step2_df['sentence'] = step1_df[\"title\"].map(str) +\",\"+ step1_df[\"abstract\"].map(str)\n",
    "    #comments off the tokenize, which will cause the classification_report error\n",
    "    #step2_df['sentence'] = tokenize(step2_df['sentence']) \n",
    "    return step2_df\n",
    "\n",
    "step2_df = preprocess(step1_df)\n",
    "step2_df.head(10)"
   ]
  },
  {
   "cell_type": "markdown",
   "metadata": {},
   "source": [
    "3. 保留预处理后的数据集作为baseline实验的数据集"
   ]
  },
  {
   "cell_type": "code",
   "execution_count": 13,
   "metadata": {},
   "outputs": [],
   "source": [
    "import os\n",
    "\n",
    "os.makedirs('unblance_baseline_dataset', exist_ok = True)\n",
    "step2_df.to_csv(\"unblance_baseline_dataset/dataset_baseline.csv\", sep=\" \", header=0, index=0)"
   ]
  },
  {
   "cell_type": "markdown",
   "metadata": {},
   "source": [
    "## Step 3 - 处理样本不均衡\n",
    "\n",
    "对于文本类型不平衡数据，我们采取`回译`和`EDA`这两种过采样方法对数据量少的样本进行增强。\n",
    "\n",
    "要对上述样本进行样本增强的同时不能太破坏原有数据的规律，即，各个类别的数量变化大致趋势要保持一致。\n",
    "\n",
    "1. 本实验原数据集label1的数量最多为4w条，label14的数量最少为15条，并且从label1到label14一直呈数量递减。\n",
    "\n",
    "2. 按照之前给出数据增强倍数，增强后的数据目标为：最少数量类别增强后要在最大数量类别的1/3到1/2之间。也就是40000/3到40000/2之间，也就是133333到20000之间。\n",
    "\n",
    "3. 保持原有数据规律-大致呈等差递减数列，因此增强后的数据也保持等差递减。公差在(40000-40000/3)/13到(40000-40000/2)/13之间，也就是2051到1538之间，便于计算取值2000作为公差。\n",
    "\n",
    "4. 因此对于本项目中的数据增强，希望达到的大致数据：首项为40000，公差为2000的等差数列。y(x)=40000-2000(x-1)。增强后数量最少的label14的数量大致为14000"
   ]
  },
  {
   "cell_type": "markdown",
   "metadata": {},
   "source": [
    "### 过采样方法一：回译和去重\n",
    "\n",
    "回译方法比较简单，而且不依赖第三方工具，但是这类型过采样方式比较耗时，不适合大规模数据\n",
    "\n",
    "1. 准备函数"
   ]
  },
  {
   "cell_type": "code",
   "execution_count": 14,
   "metadata": {},
   "outputs": [],
   "source": [
    "import random\n",
    "import boto3\n",
    "\n",
    "# 准备 AWS Translate 客户端\n",
    "session = boto3.Session(profile_name='global', region_name='us-east-1')\n",
    "translate_client = session.client('translate')\n",
    "\n",
    "# 除英语外的54种语言\n",
    "available_lang = [\"af\",\"sq\",\"am\",\"ar\",\"az\",\"bn\",\"bs\",\"bg\",\"zh\",\"zh-TW\",\"hr\",\"cs\",\"da\",\"fa-AF\",\"nl\",\"et\",\"fi\",\"fr\",\"fr-CA\",\"ka\",\"de\",\"el\",\"ha\",\"he\",\n",
    "                  \"hi\",\"hu\",\"id\",\"ja\",\"ko\",\"lv\",\"ms\",\"no\",\"fa\",\"ps\",\"pl\",\"pt\",\"ro\",\"ru\",\"sr\",\"sk\",\"sl\",\"so\",\"es\",\"es-MX\",\"sw\",\"sv\",\"tl\",\"ta\",\"th\",\"tr\",\"uk\",\"ur\",\"vi\"]\n",
    "\n",
    "'''\n",
    "回译函数\n",
    "'''\n",
    "def back_translate(text, sourceLanguageCode, targetLanguageCode):\n",
    "    response1 = translate_client.translate_text(\n",
    "        Text = text,\n",
    "        SourceLanguageCode = sourceLanguageCode,\n",
    "        TargetLanguageCode = targetLanguageCode\n",
    "    )\n",
    "    translation_text = response1['TranslatedText']\n",
    "#     print(translation_text)\n",
    "    response2 = translate_client.translate_text(\n",
    "        Text = text,\n",
    "        SourceLanguageCode = targetLanguageCode,\n",
    "        TargetLanguageCode = sourceLanguageCode\n",
    "    )\n",
    "    return response2['TranslatedText']\n",
    "\n",
    "'''\n",
    "对54次回译结果去重，并从set结果中选择n个包含原句子的句子\n",
    "'''\n",
    "def get_translation_set(text, n):\n",
    "    translation_set = set()\n",
    "    translation_set.add(text)\n",
    "    for language in available_lang:\n",
    "        result = back_translate(text, \"en\", language)\n",
    "        translation_set.add(result)\n",
    "    translation_set.remove(text)\n",
    "    if n-1 <= len(translation_set):\n",
    "        translation_set = set(random.sample(translation_set, n-1))\n",
    "    translation_set.add(text)\n",
    "    return translation_set\n",
    "\n",
    "'''\n",
    "得到对应label的回译list\n",
    "return: [[label,sent1],[label,sent2]...]\n",
    "'''\n",
    "def get_label_translation_list(label, sentences, n):\n",
    "    result = []\n",
    "    for text in sentences:\n",
    "        translation_set = get_translation_set(text, n)\n",
    "        for tanslation in translation_set:\n",
    "            result.append([label,tanslation])\n",
    "    return result"
   ]
  },
  {
   "cell_type": "markdown",
   "metadata": {},
   "source": [
    "2. 单元测试"
   ]
  },
  {
   "cell_type": "code",
   "execution_count": 15,
   "metadata": {},
   "outputs": [
    {
     "data": {
      "text/plain": [
       "[['__label__Company',\n",
       "  'Abbott Ltd, Abbott of Farnham E D Abbott Limited was a British coachbuilding business based in Farnham Surrey trading under that name from 1929.'],\n",
       " ['__label__Company',\n",
       "  'E. D. Abbott Ltd, Farnham E D Abbott Limited of Abbott was a British coachbuilding business based in Farnham Surrey trading under that name from 1929.'],\n",
       " ['__label__Company',\n",
       "  'E. D. Abbott Ltd, Abbott of Farnham E D Abbott Limited was a British coachbuilding business based in Farnham Surrey trading under that name from 1929.'],\n",
       " ['__label__Company',\n",
       "  'E. D. Abbot Ltd, Abbot of Farnham E D Abbot Limited was a British coachbuilding business based in Farnham Surrey Trading under that name from 1929.'],\n",
       " ['__label__Company',\n",
       "  'E. D. Abbott Ltd, Abbott of Farnham E D Abbott Limited was a British coachbuilding business based in Farnham Surrey trade under that name from 1929.']]"
      ]
     },
     "execution_count": 15,
     "metadata": {},
     "output_type": "execute_result"
    }
   ],
   "source": [
    "label = \"__label__Company\"\n",
    "sentences = [\"E. D. Abbott Ltd, Abbott of Farnham E D Abbott Limited was a British coachbuilding business based in Farnham Surrey trading under that name from 1929.\"]\n",
    "get_label_translation_list(label, sentences, 5)"
   ]
  },
  {
   "cell_type": "markdown",
   "metadata": {},
   "source": [
    "3. 计算`回译`针对每个类比需要增强的倍数 n1 值"
   ]
  },
  {
   "cell_type": "code",
   "execution_count": 20,
   "metadata": {},
   "outputs": [],
   "source": [
    "import math\n",
    "\n",
    "'''\n",
    "根据label名字反推出id\n",
    "'''\n",
    "def get_index_from_label(name):\n",
    "    num = 0;\n",
    "    for key in index_to_label_final:\n",
    "        if index_to_label_final[key] == name:\n",
    "            num = int(key)\n",
    "    return num;\n",
    "\n",
    "'''\n",
    "计算n1值\n",
    "'''\n",
    "def calcu_n1(name, group):\n",
    "    num = get_index_from_label(name)\n",
    "    \n",
    "    current_num = group.label.value_counts().iloc[0]\n",
    "    expected_num = 40000-2000*(num-1)\n",
    "        \n",
    "    n1 = math.floor(expected_num/current_num)\n",
    "    return n1"
   ]
  },
  {
   "cell_type": "markdown",
   "metadata": {},
   "source": [
    "4. 分组回译处理 - 这里只处理label11 至 label14"
   ]
  },
  {
   "cell_type": "code",
   "execution_count": 21,
   "metadata": {},
   "outputs": [
    {
     "name": "stdout",
     "output_type": "stream",
     "text": [
      "processing: 12,__label__Album\n",
      "processing: 10,__label__Animal\n",
      "processing: 3,__label__Artist\n",
      "processing: 4,__label__Athlete\n",
      "processing: 7,__label__Building\n",
      "processing: 2,__label__EducationalInstitution\n",
      "processing: 13,__label__Film\n",
      "processing: 6,__label__MeanOfTransportation\n",
      "processing: 8,__label__NaturalPlace\n",
      "processing: 5,__label__OfficeHolder\n",
      "processing: 11,__label__Plant\n",
      "processing: 9,__label__Village\n",
      "processing: 14,__label__WrittenWork\n"
     ]
    },
    {
     "ename": "EndpointConnectionError",
     "evalue": "Could not connect to the endpoint URL: \"https://translate.us-east-1.amazonaws.com/\"",
     "output_type": "error",
     "traceback": [
      "\u001b[0;31m---------------------------------------------------------------------------\u001b[0m",
      "\u001b[0;31mgaierror\u001b[0m                                  Traceback (most recent call last)",
      "\u001b[0;32m~/anaconda3/envs/python3/lib/python3.6/site-packages/urllib3/connection.py\u001b[0m in \u001b[0;36m_new_conn\u001b[0;34m(self)\u001b[0m\n\u001b[1;32m    159\u001b[0m             conn = connection.create_connection(\n\u001b[0;32m--> 160\u001b[0;31m                 \u001b[0;34m(\u001b[0m\u001b[0mself\u001b[0m\u001b[0;34m.\u001b[0m\u001b[0m_dns_host\u001b[0m\u001b[0;34m,\u001b[0m \u001b[0mself\u001b[0m\u001b[0;34m.\u001b[0m\u001b[0mport\u001b[0m\u001b[0;34m)\u001b[0m\u001b[0;34m,\u001b[0m \u001b[0mself\u001b[0m\u001b[0;34m.\u001b[0m\u001b[0mtimeout\u001b[0m\u001b[0;34m,\u001b[0m \u001b[0;34m**\u001b[0m\u001b[0mextra_kw\u001b[0m\u001b[0;34m\u001b[0m\u001b[0;34m\u001b[0m\u001b[0m\n\u001b[0m\u001b[1;32m    161\u001b[0m             )\n",
      "\u001b[0;32m~/anaconda3/envs/python3/lib/python3.6/site-packages/urllib3/util/connection.py\u001b[0m in \u001b[0;36mcreate_connection\u001b[0;34m(address, timeout, source_address, socket_options)\u001b[0m\n\u001b[1;32m     60\u001b[0m \u001b[0;34m\u001b[0m\u001b[0m\n\u001b[0;32m---> 61\u001b[0;31m     \u001b[0;32mfor\u001b[0m \u001b[0mres\u001b[0m \u001b[0;32min\u001b[0m \u001b[0msocket\u001b[0m\u001b[0;34m.\u001b[0m\u001b[0mgetaddrinfo\u001b[0m\u001b[0;34m(\u001b[0m\u001b[0mhost\u001b[0m\u001b[0;34m,\u001b[0m \u001b[0mport\u001b[0m\u001b[0;34m,\u001b[0m \u001b[0mfamily\u001b[0m\u001b[0;34m,\u001b[0m \u001b[0msocket\u001b[0m\u001b[0;34m.\u001b[0m\u001b[0mSOCK_STREAM\u001b[0m\u001b[0;34m)\u001b[0m\u001b[0;34m:\u001b[0m\u001b[0;34m\u001b[0m\u001b[0;34m\u001b[0m\u001b[0m\n\u001b[0m\u001b[1;32m     62\u001b[0m         \u001b[0maf\u001b[0m\u001b[0;34m,\u001b[0m \u001b[0msocktype\u001b[0m\u001b[0;34m,\u001b[0m \u001b[0mproto\u001b[0m\u001b[0;34m,\u001b[0m \u001b[0mcanonname\u001b[0m\u001b[0;34m,\u001b[0m \u001b[0msa\u001b[0m \u001b[0;34m=\u001b[0m \u001b[0mres\u001b[0m\u001b[0;34m\u001b[0m\u001b[0;34m\u001b[0m\u001b[0m\n",
      "\u001b[0;32m~/anaconda3/envs/python3/lib/python3.6/socket.py\u001b[0m in \u001b[0;36mgetaddrinfo\u001b[0;34m(host, port, family, type, proto, flags)\u001b[0m\n\u001b[1;32m    744\u001b[0m     \u001b[0maddrlist\u001b[0m \u001b[0;34m=\u001b[0m \u001b[0;34m[\u001b[0m\u001b[0;34m]\u001b[0m\u001b[0;34m\u001b[0m\u001b[0;34m\u001b[0m\u001b[0m\n\u001b[0;32m--> 745\u001b[0;31m     \u001b[0;32mfor\u001b[0m \u001b[0mres\u001b[0m \u001b[0;32min\u001b[0m \u001b[0m_socket\u001b[0m\u001b[0;34m.\u001b[0m\u001b[0mgetaddrinfo\u001b[0m\u001b[0;34m(\u001b[0m\u001b[0mhost\u001b[0m\u001b[0;34m,\u001b[0m \u001b[0mport\u001b[0m\u001b[0;34m,\u001b[0m \u001b[0mfamily\u001b[0m\u001b[0;34m,\u001b[0m \u001b[0mtype\u001b[0m\u001b[0;34m,\u001b[0m \u001b[0mproto\u001b[0m\u001b[0;34m,\u001b[0m \u001b[0mflags\u001b[0m\u001b[0;34m)\u001b[0m\u001b[0;34m:\u001b[0m\u001b[0;34m\u001b[0m\u001b[0;34m\u001b[0m\u001b[0m\n\u001b[0m\u001b[1;32m    746\u001b[0m         \u001b[0maf\u001b[0m\u001b[0;34m,\u001b[0m \u001b[0msocktype\u001b[0m\u001b[0;34m,\u001b[0m \u001b[0mproto\u001b[0m\u001b[0;34m,\u001b[0m \u001b[0mcanonname\u001b[0m\u001b[0;34m,\u001b[0m \u001b[0msa\u001b[0m \u001b[0;34m=\u001b[0m \u001b[0mres\u001b[0m\u001b[0;34m\u001b[0m\u001b[0;34m\u001b[0m\u001b[0m\n",
      "\u001b[0;31mgaierror\u001b[0m: [Errno -3] Temporary failure in name resolution",
      "\nDuring handling of the above exception, another exception occurred:\n",
      "\u001b[0;31mNewConnectionError\u001b[0m                        Traceback (most recent call last)",
      "\u001b[0;32m~/anaconda3/envs/python3/lib/python3.6/site-packages/botocore/httpsession.py\u001b[0m in \u001b[0;36msend\u001b[0;34m(self, request)\u001b[0m\n\u001b[1;32m    262\u001b[0m                 \u001b[0mdecode_content\u001b[0m\u001b[0;34m=\u001b[0m\u001b[0;32mFalse\u001b[0m\u001b[0;34m,\u001b[0m\u001b[0;34m\u001b[0m\u001b[0;34m\u001b[0m\u001b[0m\n\u001b[0;32m--> 263\u001b[0;31m                 \u001b[0mchunked\u001b[0m\u001b[0;34m=\u001b[0m\u001b[0mself\u001b[0m\u001b[0;34m.\u001b[0m\u001b[0m_chunked\u001b[0m\u001b[0;34m(\u001b[0m\u001b[0mrequest\u001b[0m\u001b[0;34m.\u001b[0m\u001b[0mheaders\u001b[0m\u001b[0;34m)\u001b[0m\u001b[0;34m,\u001b[0m\u001b[0;34m\u001b[0m\u001b[0;34m\u001b[0m\u001b[0m\n\u001b[0m\u001b[1;32m    264\u001b[0m             )\n",
      "\u001b[0;32m~/anaconda3/envs/python3/lib/python3.6/site-packages/urllib3/connectionpool.py\u001b[0m in \u001b[0;36murlopen\u001b[0;34m(self, method, url, body, headers, retries, redirect, assert_same_host, timeout, pool_timeout, release_conn, chunked, body_pos, **response_kw)\u001b[0m\n\u001b[1;32m    726\u001b[0m             retries = retries.increment(\n\u001b[0;32m--> 727\u001b[0;31m                 \u001b[0mmethod\u001b[0m\u001b[0;34m,\u001b[0m \u001b[0murl\u001b[0m\u001b[0;34m,\u001b[0m \u001b[0merror\u001b[0m\u001b[0;34m=\u001b[0m\u001b[0me\u001b[0m\u001b[0;34m,\u001b[0m \u001b[0m_pool\u001b[0m\u001b[0;34m=\u001b[0m\u001b[0mself\u001b[0m\u001b[0;34m,\u001b[0m \u001b[0m_stacktrace\u001b[0m\u001b[0;34m=\u001b[0m\u001b[0msys\u001b[0m\u001b[0;34m.\u001b[0m\u001b[0mexc_info\u001b[0m\u001b[0;34m(\u001b[0m\u001b[0;34m)\u001b[0m\u001b[0;34m[\u001b[0m\u001b[0;36m2\u001b[0m\u001b[0;34m]\u001b[0m\u001b[0;34m\u001b[0m\u001b[0;34m\u001b[0m\u001b[0m\n\u001b[0m\u001b[1;32m    728\u001b[0m             )\n",
      "\u001b[0;32m~/anaconda3/envs/python3/lib/python3.6/site-packages/urllib3/util/retry.py\u001b[0m in \u001b[0;36mincrement\u001b[0;34m(self, method, url, response, error, _pool, _stacktrace)\u001b[0m\n\u001b[1;32m    378\u001b[0m             \u001b[0;31m# Disabled, indicate to re-raise the error.\u001b[0m\u001b[0;34m\u001b[0m\u001b[0;34m\u001b[0m\u001b[0;34m\u001b[0m\u001b[0m\n\u001b[0;32m--> 379\u001b[0;31m             \u001b[0;32mraise\u001b[0m \u001b[0msix\u001b[0m\u001b[0;34m.\u001b[0m\u001b[0mreraise\u001b[0m\u001b[0;34m(\u001b[0m\u001b[0mtype\u001b[0m\u001b[0;34m(\u001b[0m\u001b[0merror\u001b[0m\u001b[0;34m)\u001b[0m\u001b[0;34m,\u001b[0m \u001b[0merror\u001b[0m\u001b[0;34m,\u001b[0m \u001b[0m_stacktrace\u001b[0m\u001b[0;34m)\u001b[0m\u001b[0;34m\u001b[0m\u001b[0;34m\u001b[0m\u001b[0m\n\u001b[0m\u001b[1;32m    380\u001b[0m \u001b[0;34m\u001b[0m\u001b[0m\n",
      "\u001b[0;32m~/anaconda3/envs/python3/lib/python3.6/site-packages/urllib3/packages/six.py\u001b[0m in \u001b[0;36mreraise\u001b[0;34m(tp, value, tb)\u001b[0m\n\u001b[1;32m    734\u001b[0m                 \u001b[0;32mraise\u001b[0m \u001b[0mvalue\u001b[0m\u001b[0;34m.\u001b[0m\u001b[0mwith_traceback\u001b[0m\u001b[0;34m(\u001b[0m\u001b[0mtb\u001b[0m\u001b[0;34m)\u001b[0m\u001b[0;34m\u001b[0m\u001b[0;34m\u001b[0m\u001b[0m\n\u001b[0;32m--> 735\u001b[0;31m             \u001b[0;32mraise\u001b[0m \u001b[0mvalue\u001b[0m\u001b[0;34m\u001b[0m\u001b[0;34m\u001b[0m\u001b[0m\n\u001b[0m\u001b[1;32m    736\u001b[0m         \u001b[0;32mfinally\u001b[0m\u001b[0;34m:\u001b[0m\u001b[0;34m\u001b[0m\u001b[0;34m\u001b[0m\u001b[0m\n",
      "\u001b[0;32m~/anaconda3/envs/python3/lib/python3.6/site-packages/urllib3/connectionpool.py\u001b[0m in \u001b[0;36murlopen\u001b[0;34m(self, method, url, body, headers, retries, redirect, assert_same_host, timeout, pool_timeout, release_conn, chunked, body_pos, **response_kw)\u001b[0m\n\u001b[1;32m    676\u001b[0m                 \u001b[0mheaders\u001b[0m\u001b[0;34m=\u001b[0m\u001b[0mheaders\u001b[0m\u001b[0;34m,\u001b[0m\u001b[0;34m\u001b[0m\u001b[0;34m\u001b[0m\u001b[0m\n\u001b[0;32m--> 677\u001b[0;31m                 \u001b[0mchunked\u001b[0m\u001b[0;34m=\u001b[0m\u001b[0mchunked\u001b[0m\u001b[0;34m,\u001b[0m\u001b[0;34m\u001b[0m\u001b[0;34m\u001b[0m\u001b[0m\n\u001b[0m\u001b[1;32m    678\u001b[0m             )\n",
      "\u001b[0;32m~/anaconda3/envs/python3/lib/python3.6/site-packages/urllib3/connectionpool.py\u001b[0m in \u001b[0;36m_make_request\u001b[0;34m(self, conn, method, url, timeout, chunked, **httplib_request_kw)\u001b[0m\n\u001b[1;32m    380\u001b[0m         \u001b[0;32mtry\u001b[0m\u001b[0;34m:\u001b[0m\u001b[0;34m\u001b[0m\u001b[0;34m\u001b[0m\u001b[0m\n\u001b[0;32m--> 381\u001b[0;31m             \u001b[0mself\u001b[0m\u001b[0;34m.\u001b[0m\u001b[0m_validate_conn\u001b[0m\u001b[0;34m(\u001b[0m\u001b[0mconn\u001b[0m\u001b[0;34m)\u001b[0m\u001b[0;34m\u001b[0m\u001b[0;34m\u001b[0m\u001b[0m\n\u001b[0m\u001b[1;32m    382\u001b[0m         \u001b[0;32mexcept\u001b[0m \u001b[0;34m(\u001b[0m\u001b[0mSocketTimeout\u001b[0m\u001b[0;34m,\u001b[0m \u001b[0mBaseSSLError\u001b[0m\u001b[0;34m)\u001b[0m \u001b[0;32mas\u001b[0m \u001b[0me\u001b[0m\u001b[0;34m:\u001b[0m\u001b[0;34m\u001b[0m\u001b[0;34m\u001b[0m\u001b[0m\n",
      "\u001b[0;32m~/anaconda3/envs/python3/lib/python3.6/site-packages/urllib3/connectionpool.py\u001b[0m in \u001b[0;36m_validate_conn\u001b[0;34m(self, conn)\u001b[0m\n\u001b[1;32m    977\u001b[0m         \u001b[0;32mif\u001b[0m \u001b[0;32mnot\u001b[0m \u001b[0mgetattr\u001b[0m\u001b[0;34m(\u001b[0m\u001b[0mconn\u001b[0m\u001b[0;34m,\u001b[0m \u001b[0;34m\"sock\"\u001b[0m\u001b[0;34m,\u001b[0m \u001b[0;32mNone\u001b[0m\u001b[0;34m)\u001b[0m\u001b[0;34m:\u001b[0m  \u001b[0;31m# AppEngine might not have  `.sock`\u001b[0m\u001b[0;34m\u001b[0m\u001b[0;34m\u001b[0m\u001b[0m\n\u001b[0;32m--> 978\u001b[0;31m             \u001b[0mconn\u001b[0m\u001b[0;34m.\u001b[0m\u001b[0mconnect\u001b[0m\u001b[0;34m(\u001b[0m\u001b[0;34m)\u001b[0m\u001b[0;34m\u001b[0m\u001b[0;34m\u001b[0m\u001b[0m\n\u001b[0m\u001b[1;32m    979\u001b[0m \u001b[0;34m\u001b[0m\u001b[0m\n",
      "\u001b[0;32m~/anaconda3/envs/python3/lib/python3.6/site-packages/urllib3/connection.py\u001b[0m in \u001b[0;36mconnect\u001b[0;34m(self)\u001b[0m\n\u001b[1;32m    308\u001b[0m         \u001b[0;31m# Add certificate verification\u001b[0m\u001b[0;34m\u001b[0m\u001b[0;34m\u001b[0m\u001b[0;34m\u001b[0m\u001b[0m\n\u001b[0;32m--> 309\u001b[0;31m         \u001b[0mconn\u001b[0m \u001b[0;34m=\u001b[0m \u001b[0mself\u001b[0m\u001b[0;34m.\u001b[0m\u001b[0m_new_conn\u001b[0m\u001b[0;34m(\u001b[0m\u001b[0;34m)\u001b[0m\u001b[0;34m\u001b[0m\u001b[0;34m\u001b[0m\u001b[0m\n\u001b[0m\u001b[1;32m    310\u001b[0m         \u001b[0mhostname\u001b[0m \u001b[0;34m=\u001b[0m \u001b[0mself\u001b[0m\u001b[0;34m.\u001b[0m\u001b[0mhost\u001b[0m\u001b[0;34m\u001b[0m\u001b[0;34m\u001b[0m\u001b[0m\n",
      "\u001b[0;32m~/anaconda3/envs/python3/lib/python3.6/site-packages/urllib3/connection.py\u001b[0m in \u001b[0;36m_new_conn\u001b[0;34m(self)\u001b[0m\n\u001b[1;32m    171\u001b[0m             raise NewConnectionError(\n\u001b[0;32m--> 172\u001b[0;31m                 \u001b[0mself\u001b[0m\u001b[0;34m,\u001b[0m \u001b[0;34m\"Failed to establish a new connection: %s\"\u001b[0m \u001b[0;34m%\u001b[0m \u001b[0me\u001b[0m\u001b[0;34m\u001b[0m\u001b[0;34m\u001b[0m\u001b[0m\n\u001b[0m\u001b[1;32m    173\u001b[0m             )\n",
      "\u001b[0;31mNewConnectionError\u001b[0m: <botocore.awsrequest.AWSHTTPSConnection object at 0x7f15dd8fa1d0>: Failed to establish a new connection: [Errno -3] Temporary failure in name resolution",
      "\nDuring handling of the above exception, another exception occurred:\n",
      "\u001b[0;31mEndpointConnectionError\u001b[0m                   Traceback (most recent call last)",
      "\u001b[0;32m<ipython-input-21-4c81f4305e27>\u001b[0m in \u001b[0;36m<module>\u001b[0;34m\u001b[0m\n\u001b[1;32m     12\u001b[0m         \u001b[0mn1\u001b[0m \u001b[0;34m=\u001b[0m \u001b[0mcalcu_n1\u001b[0m\u001b[0;34m(\u001b[0m\u001b[0mname\u001b[0m\u001b[0;34m,\u001b[0m \u001b[0mgroup\u001b[0m\u001b[0;34m)\u001b[0m\u001b[0;34m\u001b[0m\u001b[0;34m\u001b[0m\u001b[0m\n\u001b[1;32m     13\u001b[0m         \u001b[0;32mif\u001b[0m \u001b[0mn1\u001b[0m \u001b[0;34m>\u001b[0m \u001b[0;36m100\u001b[0m\u001b[0;34m:\u001b[0m\u001b[0;34m\u001b[0m\u001b[0;34m\u001b[0m\u001b[0m\n\u001b[0;32m---> 14\u001b[0;31m             \u001b[0mlabel_translation_list\u001b[0m \u001b[0;34m=\u001b[0m \u001b[0mget_label_translation_list\u001b[0m\u001b[0;34m(\u001b[0m\u001b[0mname\u001b[0m\u001b[0;34m,\u001b[0m \u001b[0mgroup\u001b[0m\u001b[0;34m.\u001b[0m\u001b[0msentence\u001b[0m\u001b[0;34m,\u001b[0m \u001b[0mn1\u001b[0m\u001b[0;34m)\u001b[0m\u001b[0;34m\u001b[0m\u001b[0;34m\u001b[0m\u001b[0m\n\u001b[0m\u001b[1;32m     15\u001b[0m             \u001b[0mgroup_df\u001b[0m \u001b[0;34m=\u001b[0m \u001b[0mpd\u001b[0m\u001b[0;34m.\u001b[0m\u001b[0mDataFrame\u001b[0m\u001b[0;34m(\u001b[0m\u001b[0mlabel_translation_list\u001b[0m\u001b[0;34m,\u001b[0m\u001b[0mcolumns\u001b[0m\u001b[0;34m=\u001b[0m\u001b[0;34m[\u001b[0m\u001b[0;34m'label'\u001b[0m\u001b[0;34m,\u001b[0m\u001b[0;34m'sentence'\u001b[0m\u001b[0;34m]\u001b[0m\u001b[0;34m)\u001b[0m\u001b[0;34m\u001b[0m\u001b[0;34m\u001b[0m\u001b[0m\n\u001b[1;32m     16\u001b[0m             \u001b[0mback_translate_df\u001b[0m \u001b[0;34m=\u001b[0m \u001b[0mback_translate_df\u001b[0m\u001b[0;34m.\u001b[0m\u001b[0mappend\u001b[0m\u001b[0;34m(\u001b[0m\u001b[0mgroup_df\u001b[0m\u001b[0;34m)\u001b[0m\u001b[0;34m\u001b[0m\u001b[0;34m\u001b[0m\u001b[0m\n",
      "\u001b[0;32m<ipython-input-14-6c9dd681349d>\u001b[0m in \u001b[0;36mget_label_translation_list\u001b[0;34m(label, sentences, n)\u001b[0m\n\u001b[1;32m     50\u001b[0m     \u001b[0mresult\u001b[0m \u001b[0;34m=\u001b[0m \u001b[0;34m[\u001b[0m\u001b[0;34m]\u001b[0m\u001b[0;34m\u001b[0m\u001b[0;34m\u001b[0m\u001b[0m\n\u001b[1;32m     51\u001b[0m     \u001b[0;32mfor\u001b[0m \u001b[0mtext\u001b[0m \u001b[0;32min\u001b[0m \u001b[0msentences\u001b[0m\u001b[0;34m:\u001b[0m\u001b[0;34m\u001b[0m\u001b[0;34m\u001b[0m\u001b[0m\n\u001b[0;32m---> 52\u001b[0;31m         \u001b[0mtranslation_set\u001b[0m \u001b[0;34m=\u001b[0m \u001b[0mget_translation_set\u001b[0m\u001b[0;34m(\u001b[0m\u001b[0mtext\u001b[0m\u001b[0;34m,\u001b[0m \u001b[0mn\u001b[0m\u001b[0;34m)\u001b[0m\u001b[0;34m\u001b[0m\u001b[0;34m\u001b[0m\u001b[0m\n\u001b[0m\u001b[1;32m     53\u001b[0m         \u001b[0;32mfor\u001b[0m \u001b[0mtanslation\u001b[0m \u001b[0;32min\u001b[0m \u001b[0mtranslation_set\u001b[0m\u001b[0;34m:\u001b[0m\u001b[0;34m\u001b[0m\u001b[0;34m\u001b[0m\u001b[0m\n\u001b[1;32m     54\u001b[0m             \u001b[0mresult\u001b[0m\u001b[0;34m.\u001b[0m\u001b[0mappend\u001b[0m\u001b[0;34m(\u001b[0m\u001b[0;34m[\u001b[0m\u001b[0mlabel\u001b[0m\u001b[0;34m,\u001b[0m\u001b[0mtanslation\u001b[0m\u001b[0;34m]\u001b[0m\u001b[0;34m)\u001b[0m\u001b[0;34m\u001b[0m\u001b[0;34m\u001b[0m\u001b[0m\n",
      "\u001b[0;32m<ipython-input-14-6c9dd681349d>\u001b[0m in \u001b[0;36mget_translation_set\u001b[0;34m(text, n)\u001b[0m\n\u001b[1;32m     35\u001b[0m     \u001b[0mtranslation_set\u001b[0m\u001b[0;34m.\u001b[0m\u001b[0madd\u001b[0m\u001b[0;34m(\u001b[0m\u001b[0mtext\u001b[0m\u001b[0;34m)\u001b[0m\u001b[0;34m\u001b[0m\u001b[0;34m\u001b[0m\u001b[0m\n\u001b[1;32m     36\u001b[0m     \u001b[0;32mfor\u001b[0m \u001b[0mlanguage\u001b[0m \u001b[0;32min\u001b[0m \u001b[0mavailable_lang\u001b[0m\u001b[0;34m:\u001b[0m\u001b[0;34m\u001b[0m\u001b[0;34m\u001b[0m\u001b[0m\n\u001b[0;32m---> 37\u001b[0;31m         \u001b[0mresult\u001b[0m \u001b[0;34m=\u001b[0m \u001b[0mback_translate\u001b[0m\u001b[0;34m(\u001b[0m\u001b[0mtext\u001b[0m\u001b[0;34m,\u001b[0m \u001b[0;34m\"en\"\u001b[0m\u001b[0;34m,\u001b[0m \u001b[0mlanguage\u001b[0m\u001b[0;34m)\u001b[0m\u001b[0;34m\u001b[0m\u001b[0;34m\u001b[0m\u001b[0m\n\u001b[0m\u001b[1;32m     38\u001b[0m         \u001b[0mtranslation_set\u001b[0m\u001b[0;34m.\u001b[0m\u001b[0madd\u001b[0m\u001b[0;34m(\u001b[0m\u001b[0mresult\u001b[0m\u001b[0;34m)\u001b[0m\u001b[0;34m\u001b[0m\u001b[0;34m\u001b[0m\u001b[0m\n\u001b[1;32m     39\u001b[0m     \u001b[0mtranslation_set\u001b[0m\u001b[0;34m.\u001b[0m\u001b[0mremove\u001b[0m\u001b[0;34m(\u001b[0m\u001b[0mtext\u001b[0m\u001b[0;34m)\u001b[0m\u001b[0;34m\u001b[0m\u001b[0;34m\u001b[0m\u001b[0m\n",
      "\u001b[0;32m<ipython-input-14-6c9dd681349d>\u001b[0m in \u001b[0;36mback_translate\u001b[0;34m(text, sourceLanguageCode, targetLanguageCode)\u001b[0m\n\u001b[1;32m     24\u001b[0m         \u001b[0mText\u001b[0m \u001b[0;34m=\u001b[0m \u001b[0mtext\u001b[0m\u001b[0;34m,\u001b[0m\u001b[0;34m\u001b[0m\u001b[0;34m\u001b[0m\u001b[0m\n\u001b[1;32m     25\u001b[0m         \u001b[0mSourceLanguageCode\u001b[0m \u001b[0;34m=\u001b[0m \u001b[0mtargetLanguageCode\u001b[0m\u001b[0;34m,\u001b[0m\u001b[0;34m\u001b[0m\u001b[0;34m\u001b[0m\u001b[0m\n\u001b[0;32m---> 26\u001b[0;31m         \u001b[0mTargetLanguageCode\u001b[0m \u001b[0;34m=\u001b[0m \u001b[0msourceLanguageCode\u001b[0m\u001b[0;34m\u001b[0m\u001b[0;34m\u001b[0m\u001b[0m\n\u001b[0m\u001b[1;32m     27\u001b[0m     )\n\u001b[1;32m     28\u001b[0m     \u001b[0;32mreturn\u001b[0m \u001b[0mresponse2\u001b[0m\u001b[0;34m[\u001b[0m\u001b[0;34m'TranslatedText'\u001b[0m\u001b[0;34m]\u001b[0m\u001b[0;34m\u001b[0m\u001b[0;34m\u001b[0m\u001b[0m\n",
      "\u001b[0;32m~/anaconda3/envs/python3/lib/python3.6/site-packages/botocore/client.py\u001b[0m in \u001b[0;36m_api_call\u001b[0;34m(self, *args, **kwargs)\u001b[0m\n\u001b[1;32m    355\u001b[0m                     \"%s() only accepts keyword arguments.\" % py_operation_name)\n\u001b[1;32m    356\u001b[0m             \u001b[0;31m# The \"self\" in this scope is referring to the BaseClient.\u001b[0m\u001b[0;34m\u001b[0m\u001b[0;34m\u001b[0m\u001b[0;34m\u001b[0m\u001b[0m\n\u001b[0;32m--> 357\u001b[0;31m             \u001b[0;32mreturn\u001b[0m \u001b[0mself\u001b[0m\u001b[0;34m.\u001b[0m\u001b[0m_make_api_call\u001b[0m\u001b[0;34m(\u001b[0m\u001b[0moperation_name\u001b[0m\u001b[0;34m,\u001b[0m \u001b[0mkwargs\u001b[0m\u001b[0;34m)\u001b[0m\u001b[0;34m\u001b[0m\u001b[0;34m\u001b[0m\u001b[0m\n\u001b[0m\u001b[1;32m    358\u001b[0m \u001b[0;34m\u001b[0m\u001b[0m\n\u001b[1;32m    359\u001b[0m         \u001b[0m_api_call\u001b[0m\u001b[0;34m.\u001b[0m\u001b[0m__name__\u001b[0m \u001b[0;34m=\u001b[0m \u001b[0mstr\u001b[0m\u001b[0;34m(\u001b[0m\u001b[0mpy_operation_name\u001b[0m\u001b[0;34m)\u001b[0m\u001b[0;34m\u001b[0m\u001b[0;34m\u001b[0m\u001b[0m\n",
      "\u001b[0;32m~/anaconda3/envs/python3/lib/python3.6/site-packages/botocore/client.py\u001b[0m in \u001b[0;36m_make_api_call\u001b[0;34m(self, operation_name, api_params)\u001b[0m\n\u001b[1;32m    661\u001b[0m         \u001b[0;32melse\u001b[0m\u001b[0;34m:\u001b[0m\u001b[0;34m\u001b[0m\u001b[0;34m\u001b[0m\u001b[0m\n\u001b[1;32m    662\u001b[0m             http, parsed_response = self._make_request(\n\u001b[0;32m--> 663\u001b[0;31m                 operation_model, request_dict, request_context)\n\u001b[0m\u001b[1;32m    664\u001b[0m \u001b[0;34m\u001b[0m\u001b[0m\n\u001b[1;32m    665\u001b[0m         self.meta.events.emit(\n",
      "\u001b[0;32m~/anaconda3/envs/python3/lib/python3.6/site-packages/botocore/client.py\u001b[0m in \u001b[0;36m_make_request\u001b[0;34m(self, operation_model, request_dict, request_context)\u001b[0m\n\u001b[1;32m    680\u001b[0m     \u001b[0;32mdef\u001b[0m \u001b[0m_make_request\u001b[0m\u001b[0;34m(\u001b[0m\u001b[0mself\u001b[0m\u001b[0;34m,\u001b[0m \u001b[0moperation_model\u001b[0m\u001b[0;34m,\u001b[0m \u001b[0mrequest_dict\u001b[0m\u001b[0;34m,\u001b[0m \u001b[0mrequest_context\u001b[0m\u001b[0;34m)\u001b[0m\u001b[0;34m:\u001b[0m\u001b[0;34m\u001b[0m\u001b[0;34m\u001b[0m\u001b[0m\n\u001b[1;32m    681\u001b[0m         \u001b[0;32mtry\u001b[0m\u001b[0;34m:\u001b[0m\u001b[0;34m\u001b[0m\u001b[0;34m\u001b[0m\u001b[0m\n\u001b[0;32m--> 682\u001b[0;31m             \u001b[0;32mreturn\u001b[0m \u001b[0mself\u001b[0m\u001b[0;34m.\u001b[0m\u001b[0m_endpoint\u001b[0m\u001b[0;34m.\u001b[0m\u001b[0mmake_request\u001b[0m\u001b[0;34m(\u001b[0m\u001b[0moperation_model\u001b[0m\u001b[0;34m,\u001b[0m \u001b[0mrequest_dict\u001b[0m\u001b[0;34m)\u001b[0m\u001b[0;34m\u001b[0m\u001b[0;34m\u001b[0m\u001b[0m\n\u001b[0m\u001b[1;32m    683\u001b[0m         \u001b[0;32mexcept\u001b[0m \u001b[0mException\u001b[0m \u001b[0;32mas\u001b[0m \u001b[0me\u001b[0m\u001b[0;34m:\u001b[0m\u001b[0;34m\u001b[0m\u001b[0;34m\u001b[0m\u001b[0m\n\u001b[1;32m    684\u001b[0m             self.meta.events.emit(\n",
      "\u001b[0;32m~/anaconda3/envs/python3/lib/python3.6/site-packages/botocore/endpoint.py\u001b[0m in \u001b[0;36mmake_request\u001b[0;34m(self, operation_model, request_dict)\u001b[0m\n\u001b[1;32m    100\u001b[0m         logger.debug(\"Making request for %s with params: %s\",\n\u001b[1;32m    101\u001b[0m                      operation_model, request_dict)\n\u001b[0;32m--> 102\u001b[0;31m         \u001b[0;32mreturn\u001b[0m \u001b[0mself\u001b[0m\u001b[0;34m.\u001b[0m\u001b[0m_send_request\u001b[0m\u001b[0;34m(\u001b[0m\u001b[0mrequest_dict\u001b[0m\u001b[0;34m,\u001b[0m \u001b[0moperation_model\u001b[0m\u001b[0;34m)\u001b[0m\u001b[0;34m\u001b[0m\u001b[0;34m\u001b[0m\u001b[0m\n\u001b[0m\u001b[1;32m    103\u001b[0m \u001b[0;34m\u001b[0m\u001b[0m\n\u001b[1;32m    104\u001b[0m     \u001b[0;32mdef\u001b[0m \u001b[0mcreate_request\u001b[0m\u001b[0;34m(\u001b[0m\u001b[0mself\u001b[0m\u001b[0;34m,\u001b[0m \u001b[0mparams\u001b[0m\u001b[0;34m,\u001b[0m \u001b[0moperation_model\u001b[0m\u001b[0;34m=\u001b[0m\u001b[0;32mNone\u001b[0m\u001b[0;34m)\u001b[0m\u001b[0;34m:\u001b[0m\u001b[0;34m\u001b[0m\u001b[0;34m\u001b[0m\u001b[0m\n",
      "\u001b[0;32m~/anaconda3/envs/python3/lib/python3.6/site-packages/botocore/endpoint.py\u001b[0m in \u001b[0;36m_send_request\u001b[0;34m(self, request_dict, operation_model)\u001b[0m\n\u001b[1;32m    135\u001b[0m             request, operation_model, context)\n\u001b[1;32m    136\u001b[0m         while self._needs_retry(attempts, operation_model, request_dict,\n\u001b[0;32m--> 137\u001b[0;31m                                 success_response, exception):\n\u001b[0m\u001b[1;32m    138\u001b[0m             \u001b[0mattempts\u001b[0m \u001b[0;34m+=\u001b[0m \u001b[0;36m1\u001b[0m\u001b[0;34m\u001b[0m\u001b[0;34m\u001b[0m\u001b[0m\n\u001b[1;32m    139\u001b[0m             \u001b[0;31m# If there is a stream associated with the request, we need\u001b[0m\u001b[0;34m\u001b[0m\u001b[0;34m\u001b[0m\u001b[0;34m\u001b[0m\u001b[0m\n",
      "\u001b[0;32m~/anaconda3/envs/python3/lib/python3.6/site-packages/botocore/endpoint.py\u001b[0m in \u001b[0;36m_needs_retry\u001b[0;34m(self, attempts, operation_model, request_dict, response, caught_exception)\u001b[0m\n\u001b[1;32m    254\u001b[0m             \u001b[0mevent_name\u001b[0m\u001b[0;34m,\u001b[0m \u001b[0mresponse\u001b[0m\u001b[0;34m=\u001b[0m\u001b[0mresponse\u001b[0m\u001b[0;34m,\u001b[0m \u001b[0mendpoint\u001b[0m\u001b[0;34m=\u001b[0m\u001b[0mself\u001b[0m\u001b[0;34m,\u001b[0m\u001b[0;34m\u001b[0m\u001b[0;34m\u001b[0m\u001b[0m\n\u001b[1;32m    255\u001b[0m             \u001b[0moperation\u001b[0m\u001b[0;34m=\u001b[0m\u001b[0moperation_model\u001b[0m\u001b[0;34m,\u001b[0m \u001b[0mattempts\u001b[0m\u001b[0;34m=\u001b[0m\u001b[0mattempts\u001b[0m\u001b[0;34m,\u001b[0m\u001b[0;34m\u001b[0m\u001b[0;34m\u001b[0m\u001b[0m\n\u001b[0;32m--> 256\u001b[0;31m             caught_exception=caught_exception, request_dict=request_dict)\n\u001b[0m\u001b[1;32m    257\u001b[0m         \u001b[0mhandler_response\u001b[0m \u001b[0;34m=\u001b[0m \u001b[0mfirst_non_none_response\u001b[0m\u001b[0;34m(\u001b[0m\u001b[0mresponses\u001b[0m\u001b[0;34m)\u001b[0m\u001b[0;34m\u001b[0m\u001b[0;34m\u001b[0m\u001b[0m\n\u001b[1;32m    258\u001b[0m         \u001b[0;32mif\u001b[0m \u001b[0mhandler_response\u001b[0m \u001b[0;32mis\u001b[0m \u001b[0;32mNone\u001b[0m\u001b[0;34m:\u001b[0m\u001b[0;34m\u001b[0m\u001b[0;34m\u001b[0m\u001b[0m\n",
      "\u001b[0;32m~/anaconda3/envs/python3/lib/python3.6/site-packages/botocore/hooks.py\u001b[0m in \u001b[0;36memit\u001b[0;34m(self, event_name, **kwargs)\u001b[0m\n\u001b[1;32m    354\u001b[0m     \u001b[0;32mdef\u001b[0m \u001b[0memit\u001b[0m\u001b[0;34m(\u001b[0m\u001b[0mself\u001b[0m\u001b[0;34m,\u001b[0m \u001b[0mevent_name\u001b[0m\u001b[0;34m,\u001b[0m \u001b[0;34m**\u001b[0m\u001b[0mkwargs\u001b[0m\u001b[0;34m)\u001b[0m\u001b[0;34m:\u001b[0m\u001b[0;34m\u001b[0m\u001b[0;34m\u001b[0m\u001b[0m\n\u001b[1;32m    355\u001b[0m         \u001b[0maliased_event_name\u001b[0m \u001b[0;34m=\u001b[0m \u001b[0mself\u001b[0m\u001b[0;34m.\u001b[0m\u001b[0m_alias_event_name\u001b[0m\u001b[0;34m(\u001b[0m\u001b[0mevent_name\u001b[0m\u001b[0;34m)\u001b[0m\u001b[0;34m\u001b[0m\u001b[0;34m\u001b[0m\u001b[0m\n\u001b[0;32m--> 356\u001b[0;31m         \u001b[0;32mreturn\u001b[0m \u001b[0mself\u001b[0m\u001b[0;34m.\u001b[0m\u001b[0m_emitter\u001b[0m\u001b[0;34m.\u001b[0m\u001b[0memit\u001b[0m\u001b[0;34m(\u001b[0m\u001b[0maliased_event_name\u001b[0m\u001b[0;34m,\u001b[0m \u001b[0;34m**\u001b[0m\u001b[0mkwargs\u001b[0m\u001b[0;34m)\u001b[0m\u001b[0;34m\u001b[0m\u001b[0;34m\u001b[0m\u001b[0m\n\u001b[0m\u001b[1;32m    357\u001b[0m \u001b[0;34m\u001b[0m\u001b[0m\n\u001b[1;32m    358\u001b[0m     \u001b[0;32mdef\u001b[0m \u001b[0memit_until_response\u001b[0m\u001b[0;34m(\u001b[0m\u001b[0mself\u001b[0m\u001b[0;34m,\u001b[0m \u001b[0mevent_name\u001b[0m\u001b[0;34m,\u001b[0m \u001b[0;34m**\u001b[0m\u001b[0mkwargs\u001b[0m\u001b[0;34m)\u001b[0m\u001b[0;34m:\u001b[0m\u001b[0;34m\u001b[0m\u001b[0;34m\u001b[0m\u001b[0m\n",
      "\u001b[0;32m~/anaconda3/envs/python3/lib/python3.6/site-packages/botocore/hooks.py\u001b[0m in \u001b[0;36memit\u001b[0;34m(self, event_name, **kwargs)\u001b[0m\n\u001b[1;32m    226\u001b[0m                  \u001b[0mhandlers\u001b[0m\u001b[0;34m.\u001b[0m\u001b[0;34m\u001b[0m\u001b[0;34m\u001b[0m\u001b[0m\n\u001b[1;32m    227\u001b[0m         \"\"\"\n\u001b[0;32m--> 228\u001b[0;31m         \u001b[0;32mreturn\u001b[0m \u001b[0mself\u001b[0m\u001b[0;34m.\u001b[0m\u001b[0m_emit\u001b[0m\u001b[0;34m(\u001b[0m\u001b[0mevent_name\u001b[0m\u001b[0;34m,\u001b[0m \u001b[0mkwargs\u001b[0m\u001b[0;34m)\u001b[0m\u001b[0;34m\u001b[0m\u001b[0;34m\u001b[0m\u001b[0m\n\u001b[0m\u001b[1;32m    229\u001b[0m \u001b[0;34m\u001b[0m\u001b[0m\n\u001b[1;32m    230\u001b[0m     \u001b[0;32mdef\u001b[0m \u001b[0memit_until_response\u001b[0m\u001b[0;34m(\u001b[0m\u001b[0mself\u001b[0m\u001b[0;34m,\u001b[0m \u001b[0mevent_name\u001b[0m\u001b[0;34m,\u001b[0m \u001b[0;34m**\u001b[0m\u001b[0mkwargs\u001b[0m\u001b[0;34m)\u001b[0m\u001b[0;34m:\u001b[0m\u001b[0;34m\u001b[0m\u001b[0;34m\u001b[0m\u001b[0m\n",
      "\u001b[0;32m~/anaconda3/envs/python3/lib/python3.6/site-packages/botocore/hooks.py\u001b[0m in \u001b[0;36m_emit\u001b[0;34m(self, event_name, kwargs, stop_on_response)\u001b[0m\n\u001b[1;32m    209\u001b[0m         \u001b[0;32mfor\u001b[0m \u001b[0mhandler\u001b[0m \u001b[0;32min\u001b[0m \u001b[0mhandlers_to_call\u001b[0m\u001b[0;34m:\u001b[0m\u001b[0;34m\u001b[0m\u001b[0;34m\u001b[0m\u001b[0m\n\u001b[1;32m    210\u001b[0m             \u001b[0mlogger\u001b[0m\u001b[0;34m.\u001b[0m\u001b[0mdebug\u001b[0m\u001b[0;34m(\u001b[0m\u001b[0;34m'Event %s: calling handler %s'\u001b[0m\u001b[0;34m,\u001b[0m \u001b[0mevent_name\u001b[0m\u001b[0;34m,\u001b[0m \u001b[0mhandler\u001b[0m\u001b[0;34m)\u001b[0m\u001b[0;34m\u001b[0m\u001b[0;34m\u001b[0m\u001b[0m\n\u001b[0;32m--> 211\u001b[0;31m             \u001b[0mresponse\u001b[0m \u001b[0;34m=\u001b[0m \u001b[0mhandler\u001b[0m\u001b[0;34m(\u001b[0m\u001b[0;34m**\u001b[0m\u001b[0mkwargs\u001b[0m\u001b[0;34m)\u001b[0m\u001b[0;34m\u001b[0m\u001b[0;34m\u001b[0m\u001b[0m\n\u001b[0m\u001b[1;32m    212\u001b[0m             \u001b[0mresponses\u001b[0m\u001b[0;34m.\u001b[0m\u001b[0mappend\u001b[0m\u001b[0;34m(\u001b[0m\u001b[0;34m(\u001b[0m\u001b[0mhandler\u001b[0m\u001b[0;34m,\u001b[0m \u001b[0mresponse\u001b[0m\u001b[0;34m)\u001b[0m\u001b[0;34m)\u001b[0m\u001b[0;34m\u001b[0m\u001b[0;34m\u001b[0m\u001b[0m\n\u001b[1;32m    213\u001b[0m             \u001b[0;32mif\u001b[0m \u001b[0mstop_on_response\u001b[0m \u001b[0;32mand\u001b[0m \u001b[0mresponse\u001b[0m \u001b[0;32mis\u001b[0m \u001b[0;32mnot\u001b[0m \u001b[0;32mNone\u001b[0m\u001b[0;34m:\u001b[0m\u001b[0;34m\u001b[0m\u001b[0;34m\u001b[0m\u001b[0m\n",
      "\u001b[0;32m~/anaconda3/envs/python3/lib/python3.6/site-packages/botocore/retryhandler.py\u001b[0m in \u001b[0;36m__call__\u001b[0;34m(self, attempts, response, caught_exception, **kwargs)\u001b[0m\n\u001b[1;32m    181\u001b[0m \u001b[0;34m\u001b[0m\u001b[0m\n\u001b[1;32m    182\u001b[0m         \"\"\"\n\u001b[0;32m--> 183\u001b[0;31m         \u001b[0;32mif\u001b[0m \u001b[0mself\u001b[0m\u001b[0;34m.\u001b[0m\u001b[0m_checker\u001b[0m\u001b[0;34m(\u001b[0m\u001b[0mattempts\u001b[0m\u001b[0;34m,\u001b[0m \u001b[0mresponse\u001b[0m\u001b[0;34m,\u001b[0m \u001b[0mcaught_exception\u001b[0m\u001b[0;34m)\u001b[0m\u001b[0;34m:\u001b[0m\u001b[0;34m\u001b[0m\u001b[0;34m\u001b[0m\u001b[0m\n\u001b[0m\u001b[1;32m    184\u001b[0m             \u001b[0mresult\u001b[0m \u001b[0;34m=\u001b[0m \u001b[0mself\u001b[0m\u001b[0;34m.\u001b[0m\u001b[0m_action\u001b[0m\u001b[0;34m(\u001b[0m\u001b[0mattempts\u001b[0m\u001b[0;34m=\u001b[0m\u001b[0mattempts\u001b[0m\u001b[0;34m)\u001b[0m\u001b[0;34m\u001b[0m\u001b[0;34m\u001b[0m\u001b[0m\n\u001b[1;32m    185\u001b[0m             \u001b[0mlogger\u001b[0m\u001b[0;34m.\u001b[0m\u001b[0mdebug\u001b[0m\u001b[0;34m(\u001b[0m\u001b[0;34m\"Retry needed, action of: %s\"\u001b[0m\u001b[0;34m,\u001b[0m \u001b[0mresult\u001b[0m\u001b[0;34m)\u001b[0m\u001b[0;34m\u001b[0m\u001b[0;34m\u001b[0m\u001b[0m\n",
      "\u001b[0;32m~/anaconda3/envs/python3/lib/python3.6/site-packages/botocore/retryhandler.py\u001b[0m in \u001b[0;36m__call__\u001b[0;34m(self, attempt_number, response, caught_exception)\u001b[0m\n\u001b[1;32m    249\u001b[0m     \u001b[0;32mdef\u001b[0m \u001b[0m__call__\u001b[0m\u001b[0;34m(\u001b[0m\u001b[0mself\u001b[0m\u001b[0;34m,\u001b[0m \u001b[0mattempt_number\u001b[0m\u001b[0;34m,\u001b[0m \u001b[0mresponse\u001b[0m\u001b[0;34m,\u001b[0m \u001b[0mcaught_exception\u001b[0m\u001b[0;34m)\u001b[0m\u001b[0;34m:\u001b[0m\u001b[0;34m\u001b[0m\u001b[0;34m\u001b[0m\u001b[0m\n\u001b[1;32m    250\u001b[0m         should_retry = self._should_retry(attempt_number, response,\n\u001b[0;32m--> 251\u001b[0;31m                                           caught_exception)\n\u001b[0m\u001b[1;32m    252\u001b[0m         \u001b[0;32mif\u001b[0m \u001b[0mshould_retry\u001b[0m\u001b[0;34m:\u001b[0m\u001b[0;34m\u001b[0m\u001b[0;34m\u001b[0m\u001b[0m\n\u001b[1;32m    253\u001b[0m             \u001b[0;32mif\u001b[0m \u001b[0mattempt_number\u001b[0m \u001b[0;34m>=\u001b[0m \u001b[0mself\u001b[0m\u001b[0;34m.\u001b[0m\u001b[0m_max_attempts\u001b[0m\u001b[0;34m:\u001b[0m\u001b[0;34m\u001b[0m\u001b[0;34m\u001b[0m\u001b[0m\n",
      "\u001b[0;32m~/anaconda3/envs/python3/lib/python3.6/site-packages/botocore/retryhandler.py\u001b[0m in \u001b[0;36m_should_retry\u001b[0;34m(self, attempt_number, response, caught_exception)\u001b[0m\n\u001b[1;32m    275\u001b[0m             \u001b[0;31m# If we've exceeded the max attempts we just let the exception\u001b[0m\u001b[0;34m\u001b[0m\u001b[0;34m\u001b[0m\u001b[0;34m\u001b[0m\u001b[0m\n\u001b[1;32m    276\u001b[0m             \u001b[0;31m# propogate if one has occurred.\u001b[0m\u001b[0;34m\u001b[0m\u001b[0;34m\u001b[0m\u001b[0;34m\u001b[0m\u001b[0m\n\u001b[0;32m--> 277\u001b[0;31m             \u001b[0;32mreturn\u001b[0m \u001b[0mself\u001b[0m\u001b[0;34m.\u001b[0m\u001b[0m_checker\u001b[0m\u001b[0;34m(\u001b[0m\u001b[0mattempt_number\u001b[0m\u001b[0;34m,\u001b[0m \u001b[0mresponse\u001b[0m\u001b[0;34m,\u001b[0m \u001b[0mcaught_exception\u001b[0m\u001b[0;34m)\u001b[0m\u001b[0;34m\u001b[0m\u001b[0;34m\u001b[0m\u001b[0m\n\u001b[0m\u001b[1;32m    278\u001b[0m \u001b[0;34m\u001b[0m\u001b[0m\n\u001b[1;32m    279\u001b[0m \u001b[0;34m\u001b[0m\u001b[0m\n",
      "\u001b[0;32m~/anaconda3/envs/python3/lib/python3.6/site-packages/botocore/retryhandler.py\u001b[0m in \u001b[0;36m__call__\u001b[0;34m(self, attempt_number, response, caught_exception)\u001b[0m\n\u001b[1;32m    315\u001b[0m         \u001b[0;32mfor\u001b[0m \u001b[0mchecker\u001b[0m \u001b[0;32min\u001b[0m \u001b[0mself\u001b[0m\u001b[0;34m.\u001b[0m\u001b[0m_checkers\u001b[0m\u001b[0;34m:\u001b[0m\u001b[0;34m\u001b[0m\u001b[0;34m\u001b[0m\u001b[0m\n\u001b[1;32m    316\u001b[0m             checker_response = checker(attempt_number, response,\n\u001b[0;32m--> 317\u001b[0;31m                                        caught_exception)\n\u001b[0m\u001b[1;32m    318\u001b[0m             \u001b[0;32mif\u001b[0m \u001b[0mchecker_response\u001b[0m\u001b[0;34m:\u001b[0m\u001b[0;34m\u001b[0m\u001b[0;34m\u001b[0m\u001b[0m\n\u001b[1;32m    319\u001b[0m                 \u001b[0;32mreturn\u001b[0m \u001b[0mchecker_response\u001b[0m\u001b[0;34m\u001b[0m\u001b[0;34m\u001b[0m\u001b[0m\n",
      "\u001b[0;32m~/anaconda3/envs/python3/lib/python3.6/site-packages/botocore/retryhandler.py\u001b[0m in \u001b[0;36m__call__\u001b[0;34m(self, attempt_number, response, caught_exception)\u001b[0m\n\u001b[1;32m    221\u001b[0m         \u001b[0;32melif\u001b[0m \u001b[0mcaught_exception\u001b[0m \u001b[0;32mis\u001b[0m \u001b[0;32mnot\u001b[0m \u001b[0;32mNone\u001b[0m\u001b[0;34m:\u001b[0m\u001b[0;34m\u001b[0m\u001b[0;34m\u001b[0m\u001b[0m\n\u001b[1;32m    222\u001b[0m             return self._check_caught_exception(\n\u001b[0;32m--> 223\u001b[0;31m                 attempt_number, caught_exception)\n\u001b[0m\u001b[1;32m    224\u001b[0m         \u001b[0;32melse\u001b[0m\u001b[0;34m:\u001b[0m\u001b[0;34m\u001b[0m\u001b[0;34m\u001b[0m\u001b[0m\n\u001b[1;32m    225\u001b[0m             \u001b[0;32mraise\u001b[0m \u001b[0mValueError\u001b[0m\u001b[0;34m(\u001b[0m\u001b[0;34m\"Both response and caught_exception are None.\"\u001b[0m\u001b[0;34m)\u001b[0m\u001b[0;34m\u001b[0m\u001b[0;34m\u001b[0m\u001b[0m\n",
      "\u001b[0;32m~/anaconda3/envs/python3/lib/python3.6/site-packages/botocore/retryhandler.py\u001b[0m in \u001b[0;36m_check_caught_exception\u001b[0;34m(self, attempt_number, caught_exception)\u001b[0m\n\u001b[1;32m    357\u001b[0m         \u001b[0;31m# the MaxAttemptsDecorator is not interested in retrying the exception\u001b[0m\u001b[0;34m\u001b[0m\u001b[0;34m\u001b[0m\u001b[0;34m\u001b[0m\u001b[0m\n\u001b[1;32m    358\u001b[0m         \u001b[0;31m# then this exception just propogates out past the retry code.\u001b[0m\u001b[0;34m\u001b[0m\u001b[0;34m\u001b[0m\u001b[0;34m\u001b[0m\u001b[0m\n\u001b[0;32m--> 359\u001b[0;31m         \u001b[0;32mraise\u001b[0m \u001b[0mcaught_exception\u001b[0m\u001b[0;34m\u001b[0m\u001b[0;34m\u001b[0m\u001b[0m\n\u001b[0m",
      "\u001b[0;32m~/anaconda3/envs/python3/lib/python3.6/site-packages/botocore/endpoint.py\u001b[0m in \u001b[0;36m_do_get_response\u001b[0;34m(self, request, operation_model)\u001b[0m\n\u001b[1;32m    198\u001b[0m             \u001b[0mhttp_response\u001b[0m \u001b[0;34m=\u001b[0m \u001b[0mfirst_non_none_response\u001b[0m\u001b[0;34m(\u001b[0m\u001b[0mresponses\u001b[0m\u001b[0;34m)\u001b[0m\u001b[0;34m\u001b[0m\u001b[0;34m\u001b[0m\u001b[0m\n\u001b[1;32m    199\u001b[0m             \u001b[0;32mif\u001b[0m \u001b[0mhttp_response\u001b[0m \u001b[0;32mis\u001b[0m \u001b[0;32mNone\u001b[0m\u001b[0;34m:\u001b[0m\u001b[0;34m\u001b[0m\u001b[0;34m\u001b[0m\u001b[0m\n\u001b[0;32m--> 200\u001b[0;31m                 \u001b[0mhttp_response\u001b[0m \u001b[0;34m=\u001b[0m \u001b[0mself\u001b[0m\u001b[0;34m.\u001b[0m\u001b[0m_send\u001b[0m\u001b[0;34m(\u001b[0m\u001b[0mrequest\u001b[0m\u001b[0;34m)\u001b[0m\u001b[0;34m\u001b[0m\u001b[0;34m\u001b[0m\u001b[0m\n\u001b[0m\u001b[1;32m    201\u001b[0m         \u001b[0;32mexcept\u001b[0m \u001b[0mHTTPClientError\u001b[0m \u001b[0;32mas\u001b[0m \u001b[0me\u001b[0m\u001b[0;34m:\u001b[0m\u001b[0;34m\u001b[0m\u001b[0;34m\u001b[0m\u001b[0m\n\u001b[1;32m    202\u001b[0m             \u001b[0;32mreturn\u001b[0m \u001b[0;34m(\u001b[0m\u001b[0;32mNone\u001b[0m\u001b[0;34m,\u001b[0m \u001b[0me\u001b[0m\u001b[0;34m)\u001b[0m\u001b[0;34m\u001b[0m\u001b[0;34m\u001b[0m\u001b[0m\n",
      "\u001b[0;32m~/anaconda3/envs/python3/lib/python3.6/site-packages/botocore/endpoint.py\u001b[0m in \u001b[0;36m_send\u001b[0;34m(self, request)\u001b[0m\n\u001b[1;32m    267\u001b[0m \u001b[0;34m\u001b[0m\u001b[0m\n\u001b[1;32m    268\u001b[0m     \u001b[0;32mdef\u001b[0m \u001b[0m_send\u001b[0m\u001b[0;34m(\u001b[0m\u001b[0mself\u001b[0m\u001b[0;34m,\u001b[0m \u001b[0mrequest\u001b[0m\u001b[0;34m)\u001b[0m\u001b[0;34m:\u001b[0m\u001b[0;34m\u001b[0m\u001b[0;34m\u001b[0m\u001b[0m\n\u001b[0;32m--> 269\u001b[0;31m         \u001b[0;32mreturn\u001b[0m \u001b[0mself\u001b[0m\u001b[0;34m.\u001b[0m\u001b[0mhttp_session\u001b[0m\u001b[0;34m.\u001b[0m\u001b[0msend\u001b[0m\u001b[0;34m(\u001b[0m\u001b[0mrequest\u001b[0m\u001b[0;34m)\u001b[0m\u001b[0;34m\u001b[0m\u001b[0;34m\u001b[0m\u001b[0m\n\u001b[0m\u001b[1;32m    270\u001b[0m \u001b[0;34m\u001b[0m\u001b[0m\n\u001b[1;32m    271\u001b[0m \u001b[0;34m\u001b[0m\u001b[0m\n",
      "\u001b[0;32m~/anaconda3/envs/python3/lib/python3.6/site-packages/botocore/httpsession.py\u001b[0m in \u001b[0;36msend\u001b[0;34m(self, request)\u001b[0m\n\u001b[1;32m    281\u001b[0m             \u001b[0;32mraise\u001b[0m \u001b[0mSSLError\u001b[0m\u001b[0;34m(\u001b[0m\u001b[0mendpoint_url\u001b[0m\u001b[0;34m=\u001b[0m\u001b[0mrequest\u001b[0m\u001b[0;34m.\u001b[0m\u001b[0murl\u001b[0m\u001b[0;34m,\u001b[0m \u001b[0merror\u001b[0m\u001b[0;34m=\u001b[0m\u001b[0me\u001b[0m\u001b[0;34m)\u001b[0m\u001b[0;34m\u001b[0m\u001b[0;34m\u001b[0m\u001b[0m\n\u001b[1;32m    282\u001b[0m         \u001b[0;32mexcept\u001b[0m \u001b[0;34m(\u001b[0m\u001b[0mNewConnectionError\u001b[0m\u001b[0;34m,\u001b[0m \u001b[0msocket\u001b[0m\u001b[0;34m.\u001b[0m\u001b[0mgaierror\u001b[0m\u001b[0;34m)\u001b[0m \u001b[0;32mas\u001b[0m \u001b[0me\u001b[0m\u001b[0;34m:\u001b[0m\u001b[0;34m\u001b[0m\u001b[0;34m\u001b[0m\u001b[0m\n\u001b[0;32m--> 283\u001b[0;31m             \u001b[0;32mraise\u001b[0m \u001b[0mEndpointConnectionError\u001b[0m\u001b[0;34m(\u001b[0m\u001b[0mendpoint_url\u001b[0m\u001b[0;34m=\u001b[0m\u001b[0mrequest\u001b[0m\u001b[0;34m.\u001b[0m\u001b[0murl\u001b[0m\u001b[0;34m,\u001b[0m \u001b[0merror\u001b[0m\u001b[0;34m=\u001b[0m\u001b[0me\u001b[0m\u001b[0;34m)\u001b[0m\u001b[0;34m\u001b[0m\u001b[0;34m\u001b[0m\u001b[0m\n\u001b[0m\u001b[1;32m    284\u001b[0m         \u001b[0;32mexcept\u001b[0m \u001b[0mProxyError\u001b[0m \u001b[0;32mas\u001b[0m \u001b[0me\u001b[0m\u001b[0;34m:\u001b[0m\u001b[0;34m\u001b[0m\u001b[0;34m\u001b[0m\u001b[0m\n\u001b[1;32m    285\u001b[0m             \u001b[0;32mraise\u001b[0m \u001b[0mProxyConnectionError\u001b[0m\u001b[0;34m(\u001b[0m\u001b[0mproxy_url\u001b[0m\u001b[0;34m=\u001b[0m\u001b[0mproxy_url\u001b[0m\u001b[0;34m,\u001b[0m \u001b[0merror\u001b[0m\u001b[0;34m=\u001b[0m\u001b[0me\u001b[0m\u001b[0;34m)\u001b[0m\u001b[0;34m\u001b[0m\u001b[0;34m\u001b[0m\u001b[0m\n",
      "\u001b[0;31mEndpointConnectionError\u001b[0m: Could not connect to the endpoint URL: \"https://translate.us-east-1.amazonaws.com/\""
     ]
    }
   ],
   "source": [
    "bt_grouped = step2_df.groupby('label')\n",
    "\n",
    "group1 = bt_grouped.get_group(\"__label__Company\")\n",
    "back_translate_df = pd.DataFrame(group1)\n",
    "\n",
    "for name, group in bt_grouped:\n",
    "    num = get_index_from_label(name)\n",
    "    \n",
    "    if num != 1:\n",
    "        print (\"processing: \" + str(num) + \",\" + name)\n",
    "\n",
    "        n1 = calcu_n1(name, group)\n",
    "        if n1 > 100:\n",
    "            label_translation_list = get_label_translation_list(name, group.sentence, n1)\n",
    "            group_df = pd.DataFrame(label_translation_list,columns=['label','sentence'])\n",
    "            back_translate_df = back_translate_df.append(group_df)\n",
    "        else:\n",
    "            back_translate_df = back_translate_df.append(pd.DataFrame(group))"
   ]
  },
  {
   "cell_type": "code",
   "execution_count": 57,
   "metadata": {},
   "outputs": [
    {
     "name": "stdout",
     "output_type": "stream",
     "text": [
      "                       label  \\\n",
      "188000  __label__WrittenWork   \n",
      "188001  __label__WrittenWork   \n",
      "188002  __label__WrittenWork   \n",
      "188003  __label__WrittenWork   \n",
      "188004  __label__WrittenWork   \n",
      "\n",
      "                                                 sentence  \n",
      "188000  Embrace (novel), Embrace is a 2001 novel by So...  \n",
      "188001  British Film (magazine), British Film was a pu...  \n",
      "188002  Twin Research and Human Genetics, Twin Researc...  \n",
      "188003  Revista del Museo Argentino de Ciencias Natura...  \n",
      "188004  The Unicorn Murders, The Unicorn Murders is a ...  \n",
      "188000    Embrace (novel), Embrace is a 2001 novel by So...\n",
      "188001    British Film (magazine), British Film was a pu...\n",
      "188002    Twin Research and Human Genetics, Twin Researc...\n",
      "188003    Revista del Museo Argentino de Ciencias Natura...\n",
      "188004    The Unicorn Murders, The Unicorn Murders is a ...\n",
      "188005    FEU Advocate, Far Eastern University (FEU) Adv...\n",
      "188006    Hoy (Ecuadorian newspaper), Hoy a morning news...\n",
      "188007    Company (magazine), Company is a monthly fashi...\n",
      "188008    Jadoo Teri Nazar, Jadoo Teri Nazar is a Marath...\n",
      "188009    Peacemaker Kurogane, Peacemaker Kurogane (PEAC...\n",
      "188010    How Your Body Works, How Your Body Works was a...\n",
      "188011    Take Me Out (play), Take Me Out is a 2002 play...\n",
      "188012    Sacré Blues, Sacré Blues: An Unsentimental Jou...\n",
      "188013    Saint Seiya - Saintia Shō, Saint Seiya - Saint...\n",
      "188014    Bleak Spring, Bleak Spring is a 1993 novel fro...\n",
      "188015    Kleinzeit, Kleinzeit is a metaphysical novel b...\n",
      "188016    Sexual Politics, Sexual Politics is a 1969 boo...\n",
      "188017    Behind the Beat, Behind the Beat: Hip Hop Home...\n",
      "188018    Le Courrier, Le Courrier (literally The Mail) ...\n",
      "188019    Geology Today, Geology Today is a publication ...\n",
      "Name: sentence, dtype: object\n"
     ]
    }
   ],
   "source": [
    "# due to above error, some catalog has not been back_translate\n",
    "bt_grouped = step2_df.groupby('label')\n",
    "group_missing = bt_grouped.get_group(\"__label__WrittenWork\")\n",
    "print(group_missing.head())\n",
    "\n",
    "def handle_missing_back_translate(name, missing_groups):    \n",
    "    num = get_index_from_label(name)\n",
    "\n",
    "    if num != 1:\n",
    "        print (\"processing: \" + str(num) + \",\" + name)\n",
    "\n",
    "        n1 = calcu_n1(name, missing_groups)\n",
    "        if n1 > 100:\n",
    "            label_translation_list = get_label_translation_list(name, missing_groups.sentence, n1)\n",
    "            group_df = pd.DataFrame(label_translation_list,columns=['label','sentence'])\n",
    "            back_translate_df = back_translate_df.append(group_df)\n",
    "        else:\n",
    "            back_translate_df = back_translate_df.append(pd.DataFrame(missing_groups))\n",
    "            \n",
    "handle_missing_back_translate('__label__WrittenWork',group_missing)"
   ]
  },
  {
   "cell_type": "markdown",
   "metadata": {},
   "source": [
    "5. 查看回译后的数据分布"
   ]
  },
  {
   "cell_type": "code",
   "execution_count": 56,
   "metadata": {},
   "outputs": [
    {
     "name": "stdout",
     "output_type": "stream",
     "text": [
      "__label__Company                   40000\n",
      "__label__EducationalInstitution    38000\n",
      "__label__Artist                    18000\n",
      "__label__Athlete                   17000\n",
      "__label__OfficeHolder              16000\n",
      "__label__MeanOfTransportation      15000\n",
      "__label__Building                  14000\n",
      "__label__NaturalPlace              13000\n",
      "__label__Village                    8000\n",
      "__label__Animal                     5000\n",
      "__label__Film                       3259\n",
      "__label__Plant                      3000\n",
      "__label__Album                       900\n",
      "Name: label, dtype: int64\n"
     ]
    },
    {
     "data": {
      "image/png": "[encoded data removed]",
      "text/plain": [
       "<Figure size 432x288 with 1 Axes>"
      ]
     },
     "metadata": {
      "needs_background": "light"
     },
     "output_type": "display_data"
    }
   ],
   "source": [
    "back_tanslate_classes = back_translate_df.label.value_counts()\n",
    "\n",
    "back_tanslate_classes.plot(kind = 'bar')\n",
    "plt.title(\"Label distribution (Back Translate)\")\n",
    "plt.xlabel(\"Class\")\n",
    "plt.ylabel(\"Frequency\");\n",
    "\n",
    "print(back_tanslate_classes)"
   ]
  },
  {
   "cell_type": "markdown",
   "metadata": {},
   "source": [
    "### 过采样方法二：EDA\n",
    "\n",
    "同义词替换、随机插入、随机交换、随机删除"
   ]
  },
  {
   "cell_type": "markdown",
   "metadata": {},
   "source": [
    "1. 使用开源EDA工具"
   ]
  },
  {
   "cell_type": "code",
   "execution_count": 24,
   "metadata": {},
   "outputs": [
    {
     "name": "stdout",
     "output_type": "stream",
     "text": [
      "Cloning into 'eda_nlp'...\n",
      "remote: Enumerating objects: 14, done.\u001b[K\n",
      "remote: Counting objects: 100% (14/14), done.\u001b[K\n",
      "remote: Compressing objects: 100% (10/10), done.\u001b[K\n",
      "remote: Total 393 (delta 4), reused 10 (delta 4), pack-reused 379\u001b[K\n",
      "Receiving objects: 100% (393/393), 20.41 MiB | 6.32 MiB/s, done.\n",
      "Resolving deltas: 100% (187/187), done.\n"
     ]
    },
    {
     "name": "stderr",
     "output_type": "stream",
     "text": [
      "[nltk_data] Downloading package wordnet to /home/ec2-user/nltk_data...\n",
      "[nltk_data]   Unzipping corpora/wordnet.zip.\n"
     ]
    },
    {
     "data": {
      "text/plain": [
       "True"
      ]
     },
     "execution_count": 24,
     "metadata": {},
     "output_type": "execute_result"
    }
   ],
   "source": [
    "!git clone https://github.com/jasonwei20/eda_nlp.git\n",
    "\n",
    "import nltk\n",
    "\n",
    "nltk.download('wordnet')"
   ]
  },
  {
   "cell_type": "markdown",
   "metadata": {},
   "source": [
    "2. 每个 group 都要进行不同级别的 EDA 处理，把每个 group 单独保存为一个文件"
   ]
  },
  {
   "cell_type": "code",
   "execution_count": 51,
   "metadata": {},
   "outputs": [],
   "source": [
    "eda_grouped = step2_df.groupby('label')\n",
    "#eda_grouped = back_translate_df.groupby('label') ##基于`回译`结果做EDA\n",
    "eda_file_path = 'unblance_oversampling_eda_groups'\n",
    "os.makedirs(eda_file_path, exist_ok = True)\n",
    "\n",
    "for name, group in eda_grouped:\n",
    "    every_group_df = pd.DataFrame(group)\n",
    "    filename = eda_file_path + \"/group\" + name + \".csv\"\n",
    "    every_group_df.to_csv(filename, sep=\"\\t\", header=0, index=0)"
   ]
  },
  {
   "cell_type": "markdown",
   "metadata": {},
   "source": [
    "3. 计算 EDA 阶段需要增强的倍数 n2 值"
   ]
  },
  {
   "cell_type": "code",
   "execution_count": 52,
   "metadata": {},
   "outputs": [],
   "source": [
    "import math\n",
    "\n",
    "'''\n",
    "计算n2值\n",
    "'''\n",
    "def calcu_n2(name, group):\n",
    "    num = get_index_from_label(name)\n",
    "    \n",
    "    current_num = group.label.value_counts().iloc[0]\n",
    "    expected_num = 40000-2000*(num-1)\n",
    "        \n",
    "    n2 = math.floor(expected_num/current_num)-1\n",
    "    return n2"
   ]
  },
  {
   "cell_type": "markdown",
   "metadata": {},
   "source": [
    "4. EDA工具对每一组文件进行处理\n",
    "\n",
    "\n",
    "- Synonym Replacement (SR): Randomly choose n words from the sentence that are not stop words. Replace each of these words with one of its synonyms chosen at random.\n",
    "- Random Insertion (RI): Find a random synonym of a random word in the sentence that is not a stop word. Insert that synonym into a random position in the sentence. Do this n times.\n",
    "- Random Swap (RS): Randomly choose two words in the sentence and swap their positions. Do this n times.\n",
    "- Random Deletion (RD): For each word in the sentence, randomly remove it with probability p.\n"
   ]
  },
  {
   "cell_type": "code",
   "execution_count": 58,
   "metadata": {},
   "outputs": [
    {
     "name": "stdout",
     "output_type": "stream",
     "text": [
      "generated augmented sentences with eda for unblance_oversampling_eda_groups/group__label__Album.csv to unblance_oversampling_eda_groups/eda_group__label__Album.csv with num_aug=19\n",
      "generated augmented sentences with eda for unblance_oversampling_eda_groups/group__label__Animal.csv to unblance_oversampling_eda_groups/eda_group__label__Animal.csv with num_aug=3\n",
      "generated augmented sentences with eda for unblance_oversampling_eda_groups/group__label__Artist.csv to unblance_oversampling_eda_groups/eda_group__label__Artist.csv with num_aug=1\n",
      "generated augmented sentences with eda for unblance_oversampling_eda_groups/group__label__Athlete.csv to unblance_oversampling_eda_groups/eda_group__label__Athlete.csv with num_aug=1\n",
      "generated augmented sentences with eda for unblance_oversampling_eda_groups/group__label__Building.csv to unblance_oversampling_eda_groups/eda_group__label__Building.csv with num_aug=1\n",
      "copied file: group__label__Company.csv\n",
      "copied file: group__label__EducationalInstitution.csv\n",
      "generated augmented sentences with eda for unblance_oversampling_eda_groups/group__label__Film.csv to unblance_oversampling_eda_groups/eda_group__label__Film.csv with num_aug=159\n",
      "generated augmented sentences with eda for unblance_oversampling_eda_groups/group__label__MeanOfTransportation.csv to unblance_oversampling_eda_groups/eda_group__label__MeanOfTransportation.csv with num_aug=1\n",
      "generated augmented sentences with eda for unblance_oversampling_eda_groups/group__label__NaturalPlace.csv to unblance_oversampling_eda_groups/eda_group__label__NaturalPlace.csv with num_aug=1\n",
      "generated augmented sentences with eda for unblance_oversampling_eda_groups/group__label__OfficeHolder.csv to unblance_oversampling_eda_groups/eda_group__label__OfficeHolder.csv with num_aug=1\n",
      "generated augmented sentences with eda for unblance_oversampling_eda_groups/group__label__Plant.csv to unblance_oversampling_eda_groups/eda_group__label__Plant.csv with num_aug=5\n",
      "generated augmented sentences with eda for unblance_oversampling_eda_groups/group__label__Village.csv to unblance_oversampling_eda_groups/eda_group__label__Village.csv with num_aug=2\n",
      "generated augmented sentences with eda for unblance_oversampling_eda_groups/group__label__WrittenWork.csv to unblance_oversampling_eda_groups/eda_group__label__WrittenWork.csv with num_aug=699\n"
     ]
    }
   ],
   "source": [
    "from shutil import copyfile\n",
    "\n",
    "eda_grouped = step2_df.groupby('label')\n",
    "#eda_grouped = back_translate_df.groupby('label') ##基于`回译`结果做EDA\n",
    "\n",
    "for name, group in eda_grouped:\n",
    "    num = get_index_from_label(name)\n",
    "    n2 = calcu_n2(name,group)\n",
    "    #print('calcu_n2',n2)\n",
    "    filename = \"group\" + name + \".csv\"\n",
    "    if n2 > 0:\n",
    "        !python eda_nlp/code/augment.py --input=$eda_file_path/$filename --num_aug=$n2 --alpha_sr=0.05 --alpha_ri=0.0 --alpha_rs=0.1 --alpha_rd=0.0 \n",
    "    else:\n",
    "        copyfile(eda_file_path + \"/\" + filename, eda_file_path + \"/\" + \"eda_\" + filename)\n",
    "        print(\"copied file: \" + filename)"
   ]
  },
  {
   "cell_type": "markdown",
   "metadata": {},
   "source": [
    "5. 合并EDA处理后的各个文件"
   ]
  },
  {
   "cell_type": "code",
   "execution_count": 60,
   "metadata": {},
   "outputs": [
    {
     "name": "stdout",
     "output_type": "stream",
     "text": [
      "unblance_oversampling_eda_groups/eda_group__label__Athlete.csv\n",
      "unblance_oversampling_eda_groups/eda_group__label__Plant.csv\n",
      "unblance_oversampling_eda_groups/eda_group__label__NaturalPlace.csv\n",
      "unblance_oversampling_eda_groups/eda_group__label__Film.csv\n",
      "unblance_oversampling_eda_groups/eda_group__label__WrittenWork.csv\n",
      "unblance_oversampling_eda_groups/eda_group__label__MeanOfTransportation.csv\n",
      "unblance_oversampling_eda_groups/eda_group__label__Artist.csv\n",
      "unblance_oversampling_eda_groups/eda_group__label__EducationalInstitution.csv\n",
      "unblance_oversampling_eda_groups/eda_group__label__OfficeHolder.csv\n",
      "unblance_oversampling_eda_groups/eda_group__label__Album.csv\n",
      "unblance_oversampling_eda_groups/eda_group__label__Building.csv\n",
      "unblance_oversampling_eda_groups/eda_group__label__Village.csv\n",
      "unblance_oversampling_eda_groups/eda_group__label__Company.csv\n",
      "unblance_oversampling_eda_groups/eda_group__label__Animal.csv\n"
     ]
    }
   ],
   "source": [
    "import os\n",
    "\n",
    "step3_df = pd.DataFrame(columns=['label', 'sentence'])\n",
    "\n",
    "for root,dirs,files in os.walk(eda_file_path):\n",
    "    for file in files:\n",
    "        #获取文件路径\n",
    "        file_path = os.path.join(root,file)\n",
    "\n",
    "        if \"eda_group__\" in file_path:\n",
    "            print(file_path)\n",
    "            file_df = pd.read_csv(file_path, sep=\"\\t\", header=0, names=['label', 'sentence'])\n",
    "            step3_df = step3_df.append(file_df)"
   ]
  },
  {
   "cell_type": "markdown",
   "metadata": {},
   "source": [
    "6. 查看 EDA 处理后的样本分布"
   ]
  },
  {
   "cell_type": "code",
   "execution_count": 61,
   "metadata": {},
   "outputs": [
    {
     "name": "stdout",
     "output_type": "stream",
     "text": [
      "__label__Company                   39999\n",
      "__label__EducationalInstitution    37999\n",
      "__label__Artist                    35999\n",
      "__label__Athlete                   33999\n",
      "__label__OfficeHolder              31999\n",
      "__label__MeanOfTransportation      29999\n",
      "__label__Building                  27999\n",
      "__label__NaturalPlace              25999\n",
      "__label__Village                   23999\n",
      "__label__Plant                     14999\n",
      "__label__Animal                    14999\n",
      "__label__Album                      9899\n",
      "__label__Film                       8099\n",
      "__label__WrittenWork                7019\n",
      "Name: label, dtype: int64\n"
     ]
    },
    {
     "data": {
      "image/png": "[encoded data removed]",
      "text/plain": [
       "<Figure size 432x288 with 1 Axes>"
      ]
     },
     "metadata": {
      "needs_background": "light"
     },
     "output_type": "display_data"
    }
   ],
   "source": [
    "translate_eda_classes = step3_df.label.value_counts()\n",
    "translate_eda_classes.plot(kind = 'bar')\n",
    "plt.title(\"Label distribution (Back Translate and eda)\")\n",
    "plt.xlabel(\"Class\")\n",
    "plt.ylabel(\"Frequency\");\n",
    "\n",
    "print(translate_eda_classes)"
   ]
  },
  {
   "cell_type": "markdown",
   "metadata": {},
   "source": [
    "7. 保存EDA处理并合并后的数据"
   ]
  },
  {
   "cell_type": "code",
   "execution_count": 63,
   "metadata": {},
   "outputs": [],
   "source": [
    "oversampling_file_path = 'oversampling_dataset'\n",
    "os.makedirs(oversampling_file_path, exist_ok = True)\n",
    "\n",
    "step3_df.to_csv(oversampling_file_path + \"/dataset_oversampling.csv\", sep=\" \", header=0, index=0)"
   ]
  },
  {
   "cell_type": "markdown",
   "metadata": {},
   "source": [
    "## Step4 - 模型训练\n",
    "\n",
    "1. 划分训练集和测试集, 85% 训练集，15% 验证集"
   ]
  },
  {
   "cell_type": "code",
   "execution_count": 64,
   "metadata": {},
   "outputs": [],
   "source": [
    "import numpy as np\n",
    "from sklearn.model_selection import train_test_split\n",
    "\n",
    "sampling_train, sampling_test = train_test_split(step3_df, test_size=0.15)\n",
    "sampling_train.to_csv(oversampling_file_path + \"/sampling_train.csv\", sep=\" \", header=0, index=0)\n",
    "sampling_test.to_csv(oversampling_file_path + \"/sampling_test.csv\", sep=\" \", header=0, index=0)"
   ]
  },
  {
   "cell_type": "markdown",
   "metadata": {},
   "source": [
    "2. 上传到S3"
   ]
  },
  {
   "cell_type": "code",
   "execution_count": 66,
   "metadata": {},
   "outputs": [],
   "source": [
    "train_channel = input_prefix + '/oversampling' + '/train'\n",
    "validation_channel = input_prefix + '/oversampling' + '/validation'\n",
    "\n",
    "sess.upload_data(path=oversampling_file_path + '/sampling_train.csv', bucket=bucket, key_prefix=train_channel)\n",
    "sess.upload_data(path=oversampling_file_path+ '/sampling_test.csv', bucket=bucket, key_prefix=validation_channel)\n",
    "\n",
    "s3_train_data = 's3://{}/{}'.format(bucket, train_channel)\n",
    "s3_validation_data = 's3://{}/{}'.format(bucket, validation_channel)"
   ]
  },
  {
   "cell_type": "markdown",
   "metadata": {},
   "source": [
    "3. 获取blazingtext模型"
   ]
  },
  {
   "cell_type": "code",
   "execution_count": 67,
   "metadata": {},
   "outputs": [
    {
     "name": "stderr",
     "output_type": "stream",
     "text": [
      "'get_image_uri' method will be deprecated in favor of 'ImageURIProvider' class in SageMaker Python SDK v2.\n"
     ]
    },
    {
     "name": "stdout",
     "output_type": "stream",
     "text": [
      "Using SageMaker BlazingText container: 390948362332.dkr.ecr.cn-north-1.amazonaws.com.cn/blazingtext:latest (cn-north-1)\n"
     ]
    }
   ],
   "source": [
    "s3_output_location = 's3://{}/{}/sampling/output'.format(bucket, input_prefix)\n",
    "region_name = boto3.Session().region_name\n",
    "\n",
    "container = sagemaker.amazon.amazon_estimator.get_image_uri(region_name, \"blazingtext\", \"latest\")\n",
    "print('Using SageMaker BlazingText container: {} ({})'.format(container, region_name))"
   ]
  },
  {
   "cell_type": "markdown",
   "metadata": {},
   "source": [
    "4. 创建训练预测模型和超参调优"
   ]
  },
  {
   "cell_type": "code",
   "execution_count": 68,
   "metadata": {},
   "outputs": [
    {
     "name": "stderr",
     "output_type": "stream",
     "text": [
      "Parameter image_name will be renamed to image_uri in SageMaker Python SDK v2.\n"
     ]
    }
   ],
   "source": [
    "sampling_model = sagemaker.estimator.Estimator(container,\n",
    "                                         role, \n",
    "                                         train_instance_count=1, \n",
    "                                         train_instance_type='ml.c4.4xlarge',\n",
    "                                         train_volume_size = 30,\n",
    "                                         train_max_run = 360000,\n",
    "                                         input_mode= 'File',\n",
    "                                         output_path=s3_output_location,\n",
    "                                         sagemaker_session=sess)\n",
    "\n",
    "sampling_model.set_hyperparameters(mode=\"supervised\",\n",
    "                            epochs=10,\n",
    "                            min_count=2,\n",
    "                            learning_rate=0.05,\n",
    "                            vector_dim=10,\n",
    "                            early_stopping=True,\n",
    "                            patience=4,\n",
    "                            min_epochs=5,\n",
    "                            word_ngrams=2)"
   ]
  },
  {
   "cell_type": "markdown",
   "metadata": {},
   "source": [
    "5. 模型输入"
   ]
  },
  {
   "cell_type": "code",
   "execution_count": 69,
   "metadata": {},
   "outputs": [
    {
     "name": "stderr",
     "output_type": "stream",
     "text": [
      "'s3_input' class will be renamed to 'TrainingInput' in SageMaker Python SDK v2.\n",
      "'s3_input' class will be renamed to 'TrainingInput' in SageMaker Python SDK v2.\n"
     ]
    }
   ],
   "source": [
    "train_data = sagemaker.session.s3_input(s3_train_data, distribution='FullyReplicated', \n",
    "                        content_type='text/plain', s3_data_type='S3Prefix')\n",
    "\n",
    "validation_data = sagemaker.session.s3_input(s3_validation_data, distribution='FullyReplicated', \n",
    "                             content_type='text/plain', s3_data_type='S3Prefix')\n",
    "\n",
    "data_channels = {'train': train_data, 'validation': validation_data}"
   ]
  },
  {
   "cell_type": "markdown",
   "metadata": {},
   "source": [
    "6. 模型训练"
   ]
  },
  {
   "cell_type": "code",
   "execution_count": 70,
   "metadata": {},
   "outputs": [
    {
     "name": "stdout",
     "output_type": "stream",
     "text": [
      "2020-11-18 03:47:21 Starting - Starting the training job...\n",
      "2020-11-18 03:47:23 Starting - Launching requested ML instances......\n",
      "2020-11-18 03:48:36 Starting - Preparing the instances for training......\n",
      "2020-11-18 03:49:47 Downloading - Downloading input data...\n",
      "2020-11-18 03:50:13 Training - Training image download completed. Training in progress.\u001b[34mArguments: train\u001b[0m\n",
      "\u001b[34m[11/18/2020 03:50:14 WARNING 139996959356288] Loggers have already been setup.\u001b[0m\n",
      "\u001b[34m[11/18/2020 03:50:14 WARNING 139996959356288] Loggers have already been setup.\u001b[0m\n",
      "\u001b[34m[11/18/2020 03:50:14 INFO 139996959356288] nvidia-smi took: 0.025358200073242188 secs to identify 0 gpus\u001b[0m\n",
      "\u001b[34m[11/18/2020 03:50:14 INFO 139996959356288] Running single machine CPU BlazingText training using supervised mode.\u001b[0m\n",
      "\u001b[34mNumber of CPU sockets found in instance is  1\u001b[0m\n",
      "\u001b[34m[11/18/2020 03:50:14 INFO 139996959356288] Processing /opt/ml/input/data/train/sampling_train.csv . File size: 88.80525398254395 MB\u001b[0m\n",
      "\u001b[34m[11/18/2020 03:50:14 INFO 139996959356288] Processing /opt/ml/input/data/validation/sampling_test.csv . File size: 15.688470840454102 MB\u001b[0m\n",
      "\u001b[34mRead 10M words\u001b[0m\n",
      "\u001b[34mRead 14M words\u001b[0m\n",
      "\u001b[34mNumber of words:  293268\u001b[0m\n",
      "\u001b[34mLoading validation data from /opt/ml/input/data/validation/sampling_test.csv\u001b[0m\n",
      "\u001b[34mLoaded validation data.\u001b[0m\n",
      "\u001b[34m-------------- End of epoch: 1\u001b[0m\n",
      "\u001b[34m##### Alpha: 0.0423  Progress: 15.30%  Million Words/sec: 35.72 #####\u001b[0m\n",
      "\u001b[34m##### Alpha: 0.0398  Progress: 20.33%  Million Words/sec: 36.16 #####\u001b[0m\n",
      "\u001b[34m-------------- End of epoch: 2\u001b[0m\n",
      "\u001b[34m##### Alpha: 0.0373  Progress: 25.42%  Million Words/sec: 36.53 #####\u001b[0m\n",
      "\u001b[34m##### Alpha: 0.0347  Progress: 30.50%  Million Words/sec: 36.76 #####\u001b[0m\n",
      "\u001b[34m-------------- End of epoch: 3\u001b[0m\n",
      "\u001b[34m##### Alpha: 0.0322  Progress: 35.57%  Million Words/sec: 36.92 #####\u001b[0m\n",
      "\u001b[34m##### Alpha: 0.0297  Progress: 40.67%  Million Words/sec: 37.07 #####\u001b[0m\n",
      "\u001b[34m-------------- End of epoch: 4\u001b[0m\n",
      "\u001b[34m##### Alpha: 0.0272  Progress: 45.70%  Million Words/sec: 37.11 #####\u001b[0m\n",
      "\u001b[34m##### Alpha: 0.0246  Progress: 50.80%  Million Words/sec: 37.22 #####\u001b[0m\n",
      "\u001b[34m-------------- End of epoch: 5\u001b[0m\n",
      "\u001b[34mUsing 16 threads for prediction!\u001b[0m\n",
      "\u001b[34mValidation accuracy: 0.989971\u001b[0m\n",
      "\u001b[34mValidation accuracy improved! Storing best weights...\u001b[0m\n",
      "\u001b[34m##### Alpha: 0.0217  Progress: 56.54%  Million Words/sec: 33.97 #####\u001b[0m\n",
      "\u001b[34m##### Alpha: 0.0192  Progress: 61.64%  Million Words/sec: 34.29 #####\u001b[0m\n",
      "\u001b[34m-------------- End of epoch: 6\u001b[0m\n",
      "\u001b[34mUsing 16 threads for prediction!\u001b[0m\n",
      "\u001b[34mValidation accuracy: 0.990768\u001b[0m\n",
      "\u001b[34mValidation accuracy improved! Storing best weights...\u001b[0m\n",
      "\u001b[34m##### Alpha: 0.0162  Progress: 67.59%  Million Words/sec: 32.25 #####\u001b[0m\n",
      "\u001b[34m-------------- End of epoch: 7\u001b[0m\n",
      "\u001b[34mUsing 16 threads for prediction!\u001b[0m\n",
      "\u001b[34mValidation accuracy: 0.990904\u001b[0m\n",
      "\u001b[34mValidation accuracy improved! Storing best weights...\u001b[0m\n",
      "\u001b[34m##### Alpha: 0.0131  Progress: 73.83%  Million Words/sec: 31.24 #####\u001b[0m\n",
      "\u001b[34m##### Alpha: 0.0105  Progress: 78.93%  Million Words/sec: 31.61 #####\u001b[0m\n",
      "\u001b[34m-------------- End of epoch: 8\u001b[0m\n",
      "\u001b[34mUsing 16 threads for prediction!\u001b[0m\n",
      "\u001b[34mValidation accuracy: 0.991312\u001b[0m\n",
      "\u001b[34mValidation accuracy improved! Storing best weights...\u001b[0m\n",
      "\u001b[34m##### Alpha: 0.0074  Progress: 85.13%  Million Words/sec: 30.80 #####\u001b[0m\n",
      "\u001b[34m##### Alpha: 0.0049  Progress: 90.25%  Million Words/sec: 31.14 #####\u001b[0m\n",
      "\u001b[34m-------------- End of epoch: 9\u001b[0m\n",
      "\u001b[34mUsing 16 threads for prediction!\u001b[0m\n",
      "\u001b[34mValidation accuracy: 0.991604\u001b[0m\n",
      "\u001b[34mValidation accuracy improved! Storing best weights...\u001b[0m\n",
      "\u001b[34m##### Alpha: 0.0017  Progress: 96.53%  Million Words/sec: 30.52 #####\u001b[0m\n",
      "\u001b[34m-------------- End of epoch: 10\u001b[0m\n",
      "\u001b[34mUsing 16 threads for prediction!\u001b[0m\n",
      "\u001b[34mValidation accuracy: 0.991681\u001b[0m\n",
      "\u001b[34mValidation accuracy improved! Storing best weights...\u001b[0m\n",
      "\u001b[34m##### Alpha: 0.0000  Progress: 100.00%  Million Words/sec: 29.74 #####\u001b[0m\n",
      "\u001b[34mTraining finished.\u001b[0m\n",
      "\u001b[34mAverage throughput in Million words/sec: 29.74\u001b[0m\n",
      "\u001b[34mTotal training time in seconds: 5.04\n",
      "\u001b[0m\n",
      "\u001b[34m#train_accuracy: 0.9977\u001b[0m\n",
      "\u001b[34mNumber of train examples: 291555\n",
      "\u001b[0m\n",
      "\u001b[34m#validation_accuracy: 0.9917\u001b[0m\n",
      "\u001b[34mNumber of validation examples: 51451\u001b[0m\n",
      "\n",
      "2020-11-18 03:50:51 Uploading - Uploading generated training model\n",
      "2020-11-18 03:50:51 Completed - Training job completed\n",
      "Training seconds: 64\n",
      "Billable seconds: 64\n"
     ]
    }
   ],
   "source": [
    "sampling_model.fit(inputs=data_channels, logs=True)"
   ]
  },
  {
   "cell_type": "markdown",
   "metadata": {},
   "source": [
    "## Step5 - Oversampling 模型部署"
   ]
  },
  {
   "cell_type": "code",
   "execution_count": 71,
   "metadata": {},
   "outputs": [
    {
     "name": "stderr",
     "output_type": "stream",
     "text": [
      "Parameter image will be renamed to image_uri in SageMaker Python SDK v2.\n",
      "Using already existing model: blazingtext-2020-11-18-03-47-21-521\n"
     ]
    },
    {
     "name": "stdout",
     "output_type": "stream",
     "text": [
      "-------------!"
     ]
    }
   ],
   "source": [
    "sampling_classifier = sampling_model.deploy(initial_instance_count = 1,instance_type = 'ml.m4.xlarge')"
   ]
  },
  {
   "cell_type": "markdown",
   "metadata": {},
   "source": [
    "## Step 6 - Oversampling 模型评估和测试"
   ]
  },
  {
   "cell_type": "code",
   "execution_count": 72,
   "metadata": {},
   "outputs": [
    {
     "name": "stdout",
     "output_type": "stream",
     "text": [
      "                                 precision    recall  f1-score   support\n",
      "\n",
      "                 __label__Album       0.99      1.00      1.00      1519\n",
      "                __label__Animal       1.00      0.99      0.99      2209\n",
      "                __label__Artist       0.99      0.99      0.99      5383\n",
      "               __label__Athlete       1.00      1.00      1.00      5142\n",
      "              __label__Building       0.99      0.99      0.99      4084\n",
      "               __label__Company       0.98      0.99      0.99      5959\n",
      "__label__EducationalInstitution       0.99      0.99      0.99      5770\n",
      "                  __label__Film       1.00      1.00      1.00      1189\n",
      "  __label__MeanOfTransportation       0.99      0.99      0.99      4455\n",
      "          __label__NaturalPlace       0.99      1.00      1.00      3942\n",
      "          __label__OfficeHolder       0.99      0.99      0.99      4839\n",
      "                 __label__Plant       0.99      1.00      1.00      2312\n",
      "               __label__Village       1.00      1.00      1.00      3591\n",
      "           __label__WrittenWork       1.00      1.00      1.00      1057\n",
      "\n",
      "                       accuracy                           0.99     51451\n",
      "                      macro avg       0.99      0.99      0.99     51451\n",
      "                   weighted avg       0.99      0.99      0.99     51451\n",
      "\n"
     ]
    }
   ],
   "source": [
    "from sklearn.metrics import classification_report\n",
    "import json\n",
    "\n",
    "sentenses = sampling_test['sentence'].tolist()\n",
    "# print(sentenses)\n",
    "\n",
    "payload = {\"instances\" : sentenses}\n",
    "response = sampling_classifier.predict(json.dumps(payload))\n",
    "predictions = json.loads(response)\n",
    "# print(predictions)\n",
    "\n",
    "predict_label = []\n",
    "for one in predictions:\n",
    "#     print(one['label'][0])\n",
    "    predict_label.append(one['label'][0])\n",
    "# print(predict_label)\n",
    "\n",
    "real_label = sampling_test['label'].tolist()\n",
    "# print(real_label)\n",
    "\n",
    "sampling_report = classification_report(real_label, predict_label)\n",
    "print(sampling_report)"
   ]
  },
  {
   "cell_type": "markdown",
   "metadata": {},
   "source": [
    "2. 预测结束，删除endpoint"
   ]
  },
  {
   "cell_type": "code",
   "execution_count": 73,
   "metadata": {},
   "outputs": [],
   "source": [
    "sampling_classifier.delete_endpoint()"
   ]
  },
  {
   "cell_type": "markdown",
   "metadata": {},
   "source": [
    "# 经过样本不均衡处理的Oversampling超参调优实验\n",
    "\n",
    "    Step 1 - 超参自动调优配置 learning_rate， vector_dim， word_ngrams\n",
    "    Step 2 - 启动超参数优化作业和模型训练\n",
    "    Step 3 - 模型部署，评估和测试\n"
   ]
  },
  {
   "cell_type": "markdown",
   "metadata": {},
   "source": [
    "## Step 1 设置超参数优化作业\n",
    "\n",
    "这里我们没有设置learning_rate, vector_dim, word_ngrams 三个超参，让SageMaker帮我们进行超参自动调优"
   ]
  },
  {
   "cell_type": "code",
   "execution_count": 74,
   "metadata": {},
   "outputs": [
    {
     "name": "stderr",
     "output_type": "stream",
     "text": [
      "Parameter image_name will be renamed to image_uri in SageMaker Python SDK v2.\n"
     ]
    }
   ],
   "source": [
    "sampling_hyperparameter_model = sagemaker.estimator.Estimator(container,\n",
    "                                         role, \n",
    "                                         train_instance_count=1, \n",
    "                                         train_instance_type='ml.c4.4xlarge',\n",
    "                                         train_volume_size = 30,\n",
    "                                         train_max_run = 360000,\n",
    "                                         input_mode= 'File',\n",
    "                                         output_path=s3_output_location,\n",
    "                                         sagemaker_session=sess)\n",
    "\n",
    "sampling_hyperparameter_model.set_hyperparameters(\n",
    "                            mode=\"supervised\",\n",
    "                            epochs=10,\n",
    "                            min_count=2,\n",
    "                            early_stopping=True,\n",
    "                            patience=4,\n",
    "                            min_epochs=5)"
   ]
  },
  {
   "cell_type": "code",
   "execution_count": 75,
   "metadata": {},
   "outputs": [],
   "source": [
    "from sagemaker.tuner import IntegerParameter, CategoricalParameter, ContinuousParameter, HyperparameterTuner\n",
    "\n",
    "hyperparameter_ranges = {'learning_rate': ContinuousParameter(0.03, 0.06),\n",
    "                         'vector_dim': IntegerParameter(100, 200),\n",
    "                         'word_ngrams': IntegerParameter(1, 3)}\n",
    "\n",
    "objective_metric_name = 'validation:accuracy'\n",
    "\n",
    "tuner = HyperparameterTuner(sampling_hyperparameter_model,\n",
    "                            objective_metric_name,\n",
    "                            hyperparameter_ranges,\n",
    "                            objective_type='Maximize',\n",
    "                            max_jobs=9,\n",
    "                            max_parallel_jobs=3)"
   ]
  },
  {
   "cell_type": "markdown",
   "metadata": {},
   "source": [
    "## Step 2 - 启动超参数优化作业和模型训练"
   ]
  },
  {
   "cell_type": "code",
   "execution_count": 80,
   "metadata": {},
   "outputs": [
    {
     "name": "stdout",
     "output_type": "stream",
     "text": [
      "05-09-29\n",
      "...................................................................................................................................................................................................!\n"
     ]
    }
   ],
   "source": [
    "from datetime import datetime\n",
    "\n",
    "now = datetime.now()\n",
    "current_time = now.strftime(\"%H-%M-%S\")\n",
    "print(current_time)\n",
    "\n",
    "tuner.fit(inputs=data_channels, job_name=\"hyper-oversampling-job\"+current_time, logs=True)\n",
    "\n",
    "tuner.wait()"
   ]
  },
  {
   "cell_type": "code",
   "execution_count": 81,
   "metadata": {},
   "outputs": [
    {
     "data": {
      "text/plain": [
       "{'TrainingJobName': 'hyper-oversampling-job05-09-29-009-b3a0ec48',\n",
       " 'TrainingJobArn': 'arn:aws-cn:sagemaker:cn-north-1:876820548815:training-job/hyper-oversampling-job05-09-29-009-b3a0ec48',\n",
       " 'CreationTime': datetime.datetime(2020, 11, 18, 5, 21, 38, tzinfo=tzlocal()),\n",
       " 'TrainingStartTime': datetime.datetime(2020, 11, 18, 5, 24, 6, tzinfo=tzlocal()),\n",
       " 'TrainingEndTime': datetime.datetime(2020, 11, 18, 5, 25, 20, tzinfo=tzlocal()),\n",
       " 'TrainingJobStatus': 'Completed',\n",
       " 'TunedHyperParameters': {'learning_rate': '0.059442906196165005',\n",
       "  'vector_dim': '149',\n",
       "  'word_ngrams': '1'},\n",
       " 'FinalHyperParameterTuningJobObjectiveMetric': {'MetricName': 'validation:accuracy',\n",
       "  'Value': 0.992900013923645},\n",
       " 'ObjectiveStatus': 'Succeeded'}"
      ]
     },
     "execution_count": 81,
     "metadata": {},
     "output_type": "execute_result"
    }
   ],
   "source": [
    "tuner.describe()['BestTrainingJob']"
   ]
  },
  {
   "cell_type": "code",
   "execution_count": 82,
   "metadata": {},
   "outputs": [
    {
     "data": {
      "text/plain": [
       "'hyper-oversampling-job05-09-29-009-b3a0ec48'"
      ]
     },
     "execution_count": 82,
     "metadata": {},
     "output_type": "execute_result"
    }
   ],
   "source": [
    "tuner.best_training_job()"
   ]
  },
  {
   "cell_type": "code",
   "execution_count": 83,
   "metadata": {},
   "outputs": [
    {
     "name": "stderr",
     "output_type": "stream",
     "text": [
      "Parameter image_name will be renamed to image_uri in SageMaker Python SDK v2.\n",
      "Parameter image will be renamed to image_uri in SageMaker Python SDK v2.\n"
     ]
    },
    {
     "name": "stdout",
     "output_type": "stream",
     "text": [
      "2020-11-18 05:25:20 Starting - Preparing the instances for training\n",
      "2020-11-18 05:25:20 Downloading - Downloading input data\n",
      "2020-11-18 05:25:20 Training - Training image download completed. Training in progress.\n",
      "2020-11-18 05:25:20 Uploading - Uploading generated training model\n",
      "2020-11-18 05:25:20 Completed - Training job completed\u001b[34mArguments: train\u001b[0m\n",
      "\u001b[34m[11/18/2020 05:24:37 WARNING 139840286659968] Loggers have already been setup.\u001b[0m\n",
      "\u001b[34m[11/18/2020 05:24:37 WARNING 139840286659968] Loggers have already been setup.\u001b[0m\n",
      "\u001b[34m[11/18/2020 05:24:37 INFO 139840286659968] nvidia-smi took: 0.02535247802734375 secs to identify 0 gpus\u001b[0m\n",
      "\u001b[34m[11/18/2020 05:24:37 INFO 139840286659968] Running single machine CPU BlazingText training using supervised mode.\u001b[0m\n",
      "\u001b[34mNumber of CPU sockets found in instance is  1\u001b[0m\n",
      "\u001b[34m[11/18/2020 05:24:37 INFO 139840286659968] tuning_objective_metric: validation:accuracy\u001b[0m\n",
      "\u001b[34m[11/18/2020 05:24:37 INFO 139840286659968] Processing /opt/ml/input/data/train/sampling_train.csv . File size: 88.80525398254395 MB\u001b[0m\n",
      "\u001b[34m[11/18/2020 05:24:37 INFO 139840286659968] Processing /opt/ml/input/data/validation/sampling_test.csv . File size: 15.688470840454102 MB\u001b[0m\n",
      "\u001b[34mRead 10M words\u001b[0m\n",
      "\u001b[34mRead 14M words\u001b[0m\n",
      "\u001b[34mNumber of words:  293268\u001b[0m\n",
      "\u001b[34mLoading validation data from /opt/ml/input/data/validation/sampling_test.csv\u001b[0m\n",
      "\u001b[34mLoaded validation data.\u001b[0m\n",
      "\u001b[34m##### Alpha: 0.0525  Progress: 11.73%  Million Words/sec: 30.42 #####\u001b[0m\n",
      "\u001b[34m-------------- End of epoch: 1\u001b[0m\n",
      "\u001b[34m##### Alpha: 0.0487  Progress: 18.08%  Million Words/sec: 30.83 #####\u001b[0m\n",
      "\u001b[34m-------------- End of epoch: 2\u001b[0m\n",
      "\u001b[34m##### Alpha: 0.0449  Progress: 24.49%  Million Words/sec: 31.12 #####\u001b[0m\n",
      "\u001b[34m##### Alpha: 0.0411  Progress: 30.88%  Million Words/sec: 31.26 #####\u001b[0m\n",
      "\u001b[34m-------------- End of epoch: 3\u001b[0m\n",
      "\u001b[34m##### Alpha: 0.0373  Progress: 37.28%  Million Words/sec: 31.36 #####\u001b[0m\n",
      "\u001b[34m-------------- End of epoch: 4\u001b[0m\n",
      "\u001b[34m##### Alpha: 0.0335  Progress: 43.58%  Million Words/sec: 31.36 #####\u001b[0m\n",
      "\u001b[34m##### Alpha: 0.0297  Progress: 49.98%  Million Words/sec: 31.43 #####\u001b[0m\n",
      "\u001b[34m-------------- End of epoch: 5\u001b[0m\n",
      "\u001b[34mUsing 16 threads for prediction!\u001b[0m\n",
      "\u001b[34mValidation accuracy: 0.991565\u001b[0m\n",
      "\u001b[34mValidation accuracy improved! Storing best weights...\u001b[0m\n",
      "\u001b[34m##### Alpha: 0.0263  Progress: 55.82%  Million Words/sec: 29.23 #####\u001b[0m\n",
      "\u001b[34m-------------- End of epoch: 6\u001b[0m\n",
      "\u001b[34mUsing 16 threads for prediction!\u001b[0m\n",
      "\u001b[34mValidation accuracy: 0.991895\u001b[0m\n",
      "\u001b[34mValidation accuracy improved! Storing best weights...\u001b[0m\n",
      "\u001b[34m##### Alpha: 0.0230  Progress: 61.29%  Million Words/sec: 27.59 #####\u001b[0m\n",
      "\u001b[34m##### Alpha: 0.0192  Progress: 67.68%  Million Words/sec: 27.94 #####\u001b[0m\n",
      "\u001b[34m-------------- End of epoch: 7\u001b[0m\n",
      "\u001b[34mUsing 16 threads for prediction!\u001b[0m\n",
      "\u001b[34mValidation accuracy: 0.992517\u001b[0m\n",
      "\u001b[34mValidation accuracy improved! Storing best weights...\u001b[0m\n",
      "\u001b[34m##### Alpha: 0.0159  Progress: 73.29%  Million Words/sec: 26.79 #####\u001b[0m\n",
      "\u001b[34m##### Alpha: 0.0121  Progress: 79.71%  Million Words/sec: 27.14 #####\u001b[0m\n",
      "\u001b[34m-------------- End of epoch: 8\u001b[0m\n",
      "\u001b[34mUsing 16 threads for prediction!\u001b[0m\n",
      "\u001b[34mValidation accuracy: 0.99277\u001b[0m\n",
      "\u001b[34mValidation accuracy improved! Storing best weights...\u001b[0m\n",
      "\u001b[34m##### Alpha: 0.0088  Progress: 85.19%  Million Words/sec: 26.26 #####\u001b[0m\n",
      "\u001b[34m##### Alpha: 0.0050  Progress: 91.58%  Million Words/sec: 26.58 #####\u001b[0m\n",
      "\u001b[34m-------------- End of epoch: 9\u001b[0m\n",
      "\u001b[34mUsing 16 threads for prediction!\u001b[0m\n",
      "\u001b[34mValidation accuracy: 0.992886\u001b[0m\n",
      "\u001b[34mValidation accuracy improved! Storing best weights...\u001b[0m\n",
      "\u001b[34m##### Alpha: 0.0018  Progress: 97.05%  Million Words/sec: 25.88 #####\u001b[0m\n",
      "\u001b[34m-------------- End of epoch: 10\u001b[0m\n",
      "\u001b[34mUsing 16 threads for prediction!\u001b[0m\n",
      "\u001b[34mValidation accuracy: 0.992867\u001b[0m\n",
      "\u001b[34mValidation accuracy has not improved for last 1 epochs.\u001b[0m\n",
      "\u001b[34m##### Alpha: 0.0000  Progress: 100.00%  Million Words/sec: 25.64 #####\u001b[0m\n",
      "\u001b[34mTraining finished.\u001b[0m\n",
      "\u001b[34mAverage throughput in Million words/sec: 25.64\u001b[0m\n",
      "\u001b[34mTotal training time in seconds: 5.84\n",
      "\u001b[0m\n",
      "\u001b[34m#train_accuracy: 0.9985\u001b[0m\n",
      "\u001b[34mNumber of train examples: 291555\n",
      "\u001b[0m\n",
      "\u001b[34m#validation_accuracy: 0.9929\u001b[0m\n",
      "\u001b[34mNumber of validation examples: 51451\u001b[0m\n",
      "Training seconds: 74\n",
      "Billable seconds: 74\n",
      "-------------!"
     ]
    }
   ],
   "source": [
    "sampling_hyperparameter_classifier = tuner.deploy(initial_instance_count = 1,instance_type = 'ml.m4.xlarge')"
   ]
  },
  {
   "cell_type": "markdown",
   "metadata": {},
   "source": [
    "## Step 3 模型评估和测试"
   ]
  },
  {
   "cell_type": "code",
   "execution_count": 85,
   "metadata": {},
   "outputs": [
    {
     "name": "stdout",
     "output_type": "stream",
     "text": [
      "                                 precision    recall  f1-score   support\n",
      "\n",
      "                 __label__Album       0.99      1.00      1.00      1519\n",
      "                __label__Animal       1.00      1.00      1.00      2209\n",
      "                __label__Artist       0.99      0.99      0.99      5383\n",
      "               __label__Athlete       1.00      1.00      1.00      5142\n",
      "              __label__Building       0.99      0.99      0.99      4084\n",
      "               __label__Company       0.98      0.99      0.99      5959\n",
      "__label__EducationalInstitution       0.99      0.99      0.99      5770\n",
      "                  __label__Film       1.00      1.00      1.00      1189\n",
      "  __label__MeanOfTransportation       1.00      1.00      1.00      4455\n",
      "          __label__NaturalPlace       1.00      1.00      1.00      3942\n",
      "          __label__OfficeHolder       0.99      0.99      0.99      4839\n",
      "                 __label__Plant       1.00      1.00      1.00      2312\n",
      "               __label__Village       1.00      1.00      1.00      3591\n",
      "           __label__WrittenWork       1.00      1.00      1.00      1057\n",
      "\n",
      "                       accuracy                           0.99     51451\n",
      "                      macro avg       0.99      0.99      0.99     51451\n",
      "                   weighted avg       0.99      0.99      0.99     51451\n",
      "\n",
      "                                 precision    recall  f1-score   support\n",
      "\n",
      "                 __label__Album       0.99      1.00      1.00      1519\n",
      "                __label__Animal       1.00      0.99      0.99      2209\n",
      "                __label__Artist       0.99      0.99      0.99      5383\n",
      "               __label__Athlete       1.00      1.00      1.00      5142\n",
      "              __label__Building       0.99      0.99      0.99      4084\n",
      "               __label__Company       0.98      0.99      0.99      5959\n",
      "__label__EducationalInstitution       0.99      0.99      0.99      5770\n",
      "                  __label__Film       1.00      1.00      1.00      1189\n",
      "  __label__MeanOfTransportation       0.99      0.99      0.99      4455\n",
      "          __label__NaturalPlace       0.99      1.00      1.00      3942\n",
      "          __label__OfficeHolder       0.99      0.99      0.99      4839\n",
      "                 __label__Plant       0.99      1.00      1.00      2312\n",
      "               __label__Village       1.00      1.00      1.00      3591\n",
      "           __label__WrittenWork       1.00      1.00      1.00      1057\n",
      "\n",
      "                       accuracy                           0.99     51451\n",
      "                      macro avg       0.99      0.99      0.99     51451\n",
      "                   weighted avg       0.99      0.99      0.99     51451\n",
      "\n"
     ]
    }
   ],
   "source": [
    "from sklearn.metrics import classification_report\n",
    "import json\n",
    "\n",
    "sentences = sampling_test['sentence'].tolist()\n",
    "# print(sentenses)\n",
    "\n",
    "payload = {\"instances\" : sentences}\n",
    "response = sampling_hyperparameter_classifier.predict(json.dumps(payload))\n",
    "predictions = json.loads(response)\n",
    "# print(predictions)\n",
    "\n",
    "predict_label = []\n",
    "for one in predictions:\n",
    "#     print(one['label'][0])\n",
    "    predict_label.append(one['label'][0])\n",
    "# print(predict_label)\n",
    "\n",
    "real_label = sampling_test['label'].tolist()\n",
    "# print(real_label)\n",
    "\n",
    "sampling_hyperparameter_report = classification_report(real_label, predict_label)\n",
    "print(sampling_hyperparameter_report)\n",
    "\n",
    "print(sampling_report)"
   ]
  },
  {
   "cell_type": "markdown",
   "metadata": {},
   "source": [
    "## 预测结束，删除endpoint\n"
   ]
  },
  {
   "cell_type": "code",
   "execution_count": null,
   "metadata": {},
   "outputs": [],
   "source": [
    "sampling_hyperparameter_classifier.delete_endpoint()"
   ]
  },
  {
   "cell_type": "code",
   "execution_count": null,
   "metadata": {},
   "outputs": [],
   "source": []
  }
 ],
 "metadata": {
  "kernelspec": {
   "display_name": "conda_python3",
   "language": "python",
   "name": "conda_python3"
  },
  "language_info": {
   "codemirror_mode": {
    "name": "ipython",
    "version": 3
   },
   "file_extension": ".py",
   "mimetype": "text/x-python",
   "name": "python",
   "nbconvert_exporter": "python",
   "pygments_lexer": "ipython3",
   "version": "3.6.10"
  }
 },
 "nbformat": 4,
 "nbformat_minor": 4
}
