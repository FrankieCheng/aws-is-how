{
 "cells": [
  {
   "cell_type": "code",
   "execution_count": 1,
   "metadata": {},
   "outputs": [],
   "source": [
    "import json\n",
    "import pandas as pd # data processing, CSV file I/O (e.g. pd.read_csv)\n",
    "import matplotlib.pyplot as plt"
   ]
  },
  {
   "cell_type": "code",
   "execution_count": 6,
   "metadata": {},
   "outputs": [
    {
     "name": "stdout",
     "output_type": "stream",
     "text": [
      "{\"BARCODE\":\"MN635582\",\"INDEX\":24566,\"DATE\":\"11\\/10\\/2020\",\"S.TIME\":\"11:54:09\",\"E.TIME\":\"11:54:15\",\"CYCLE\":6,\"JOB\":\"A5E41637164-04-BOT\",\"RESULT\":\"FAIL\",\"USER\":\"SV\",\"LOTINFO\":\"KOHYOUNG\",\"MACHINE\":null,\"aggrate_component_info\":{\"ComponentID\":\"1:\",\"Volume_percentage_\":105.857,\"Height_um_\":125.153,\"Area_percentage_\":101.498,\"OffsetX_percentage_\":-0.04,\"OffsetY_percentage_\":0.47,\"Volume_um3_\":31230310,\"Area_um2_\":249537,\"Result\":\"GOOD\",\"PinNumber\":null,\"PadVerification\":null,\"Shape\":\"45.6um\",\"Library_Name\":\"PART2\",\"Vol_Min_percentage_\":45,\"Vol_Max_percentage_\":190,\"Height_Low_um_\":60,\"Height_High_um_\":230,\"Area_Min_percentage_\":60,\"Area_Max_percentage_\":170,\"OffsetX_Error_mm_\":0.18,\"OffsetY_Error_mm_\":0.18,\"Unnamed_21\":null}}\n",
      "{\"BARCODE\":\"MN635582\",\"INDEX\":24566,\"DATE\":\"11\\/10\\/2020\",\"S.TIME\":\"11:54:09\",\"E.TIME\":\"11:54:15\",\"CYCLE\":6,\"JOB\":\"A5E41637164-04-BOT\",\"RESULT\":\"FAIL\",\"USER\":\"SV\",\"LOTINFO\":\"KOHYOUNG\",\"MACHINE\":null,\"aggrate_component_info\":{\"ComponentID\":\"1:\",\"Volume_percentage_\":107.827,\"Height_um_\":129.04,\"Area_percentage_\":100.273,\"OffsetX_percentage_\":1.115,\"OffsetY_percentage_\":-1.028,\"Volume_um3_\":31811670,\"Area_um2_\":246525,\"Result\":\"GOOD\",\"PinNumber\":null,\"PadVerification\":null,\"Shape\":\"54.1um\",\"Library_Name\":\"PART2\",\"Vol_Min_percentage_\":45,\"Vol_Max_percentage_\":190,\"Height_Low_um_\":60,\"Height_High_um_\":230,\"Area_Min_percentage_\":60,\"Area_Max_percentage_\":170,\"OffsetX_Error_mm_\":0.18,\"OffsetY_Error_mm_\":0.18,\"Unnamed_21\":null}}\n"
     ]
    }
   ],
   "source": [
    "!head -n 2 aggrate_component_info.json"
   ]
  },
  {
   "cell_type": "code",
   "execution_count": 7,
   "metadata": {},
   "outputs": [],
   "source": [
    "df = pd.read_json(\"aggrate_component_info.json\", orient='records', lines=True)\n",
    "pd\n",
    "\n",
    "df.to_csv(\"aggrate_component_info.csv\", index=False)"
   ]
  },
  {
   "cell_type": "code",
   "execution_count": 8,
   "metadata": {},
   "outputs": [
    {
     "name": "stdout",
     "output_type": "stream",
     "text": [
      "BARCODE,INDEX,DATE,S.TIME,E.TIME,CYCLE,JOB,RESULT,USER,LOTINFO,MACHINE,aggrate_component_info\n",
      "MN635582,24566,2020-11-10,11:54:09,11:54:15,6,A5E41637164-04-BOT,FAIL,SV,KOHYOUNG,,\"{'ComponentID': '1:', 'Volume_percentage_': 105.857, 'Height_um_': 125.153, 'Area_percentage_': 101.498, 'OffsetX_percentage_': -0.04, 'OffsetY_percentage_': 0.47000000000000003, 'Volume_um3_': 31230310, 'Area_um2_': 249537, 'Result': 'GOOD', 'PinNumber': None, 'PadVerification': None, 'Shape': '45.6um', 'Library_Name': 'PART2', 'Vol_Min_percentage_': 45, 'Vol_Max_percentage_': 190, 'Height_Low_um_': 60, 'Height_High_um_': 230, 'Area_Min_percentage_': 60, 'Area_Max_percentage_': 170, 'OffsetX_Error_mm_': 0.18, 'OffsetY_Error_mm_': 0.18, 'Unnamed_21': None}\"\n",
      "MN635582,24566,2020-11-10,11:54:09,11:54:15,6,A5E41637164-04-BOT,FAIL,SV,KOHYOUNG,,\"{'ComponentID': '1:', 'Volume_percentage_': 107.827, 'Height_um_': 129.04, 'Area_percentage_': 100.273, 'OffsetX_percentage_': 1.115, 'OffsetY_percentage_': -1.028, 'Volume_um3_': 31811670, 'Area_um2_': 246525, 'Result': 'GOOD', 'PinNumber': None, 'PadVerification': None, 'Shape': '54.1um', 'Library_Name': 'PART2', 'Vol_Min_percentage_': 45, 'Vol_Max_percentage_': 190, 'Height_Low_um_': 60, 'Height_High_um_': 230, 'Area_Min_percentage_': 60, 'Area_Max_percentage_': 170, 'OffsetX_Error_mm_': 0.18, 'OffsetY_Error_mm_': 0.18, 'Unnamed_21': None}\"\n"
     ]
    }
   ],
   "source": [
    "!head -n 3 aggrate_component_info.csv"
   ]
  },
  {
   "cell_type": "code",
   "execution_count": 24,
   "metadata": {},
   "outputs": [],
   "source": [
    "with open(\"securityhub-findings.json\", \"r\") as outfile: \n",
    "    data = json.load(outfile)\n",
    "    df = pd.json_normalize(data['Findings']) #load json into dataframe\n",
    "    df.to_csv('securityhub-findings.csv', index=False, sep=',', encoding='utf-8') #save as csv"
   ]
  },
  {
   "cell_type": "code",
   "execution_count": 25,
   "metadata": {},
   "outputs": [
    {
     "name": "stdout",
     "output_type": "stream",
     "text": [
      "SchemaVersion,Id,ProductArn,GeneratorId,AwsAccountId,Types,FirstObservedAt,LastObservedAt,CreatedAt,UpdatedAt,Title,Description,Resources,WorkflowState,RecordState,Severity.Product,Severity.Label,Severity.Normalized,Severity.Original,Remediation.Recommendation.Text,Remediation.Recommendation.Url,ProductFields.StandardsArn,ProductFields.StandardsSubscriptionArn,ProductFields.ControlId,ProductFields.RecommendationUrl,ProductFields.RelatedAWSResources:0/name,ProductFields.RelatedAWSResources:0/type,ProductFields.StandardsControlArn,ProductFields.aws/securityhub/ProductName,ProductFields.aws/securityhub/CompanyName,ProductFields.aws/securityhub/FindingId,Compliance.Status,Workflow.Status,Compliance.RelatedRequirements,ProductFields.aws/securityhub/annotation,ProductFields.StandardsGuideArn,ProductFields.StandardsGuideSubscriptionArn,ProductFields.RuleId,Compliance.StatusReasons,ProductFields.RelatedAWSResources:1/name,ProductFields.RelatedAWSResources:1/type\n",
      "2018-10-08,arn:aws-cn:securityhub:cn-northwest-1:876820548815:subscription/aws-foundational-security-best-practices/v/1.0.0/RDS.5/finding/db959225-b371-41ea-a93e-7f1619ca7552,arn:aws-cn:securityhub:cn-northwest-1::product/aws/securityhub,aws-foundational-security-best-practices/v/1.0.0/RDS.5,876820548815,['Software and Configuration Checks/Industry and Regulatory Standards/AWS-Foundational-Security-Best-Practices'],2020-10-28T14:03:29.103Z,2020-12-28T06:59:02.146Z,2020-10-28T14:03:29.103Z,2020-12-28T06:59:00.968Z,RDS.5 RDS DB instances should be configured with multiple Availability Zones,This control checks whether high availability is enabled for your RDS DB instances.,\"[{'Type': 'AwsRdsDbInstance', 'Id': 'arn:aws-cn:rds:cn-northwest-1:876820548815:db:mysqldemo', 'Partition': 'aws-cn', 'Region': 'cn-northwest-1', 'Details': {'AwsRdsDbInstance': {'CACertificateIdentifier': 'rds-ca-2017', 'DBInstanceIdentifier': 'mysqldemo', 'DBInstanceClass': 'db.t2.medium', 'DbInstancePort': 0, 'DbiResourceId': 'db-L3S6XDWQBT4LAJDLWYCLMBXMWQ', 'DBName': 'testdb', 'DeletionProtection': False, 'Endpoint': {'Address': 'mysqldemo.cznqsqgcjv3s.rds.cn-northwest-1.amazonaws.com.cn', 'Port': 3306, 'HostedZoneId': 'Z1BJHPUGKGJOC5'}, 'Engine': 'mysql', 'EngineVersion': '5.7.26', 'IAMDatabaseAuthenticationEnabled': False, 'InstanceCreateTime': '2020-05-14T03:37:37.805Z', 'PubliclyAccessible': False, 'StorageEncrypted': False, 'VpcSecurityGroups': [{'VpcSecurityGroupId': 'sg-041b990f4d35eaa67', 'Status': 'active'}], 'MultiAz': False, 'EnhancedMonitoringResourceArn': 'arn:aws-cn:logs:cn-northwest-1:876820548815:log-group:RDSOSMetrics:log-stream:db-L3S6XDWQBT4LAJDLWYCLMBXMWQ', 'DbInstanceStatus': 'stopping', 'MasterUsername': 'dbadmin', 'AllocatedStorage': 50, 'PreferredBackupWindow': '09:22-09:52', 'BackupRetentionPeriod': 1, 'DbParameterGroups': [{'DbParameterGroupName': 'default.mysql5.7', 'ParameterApplyStatus': 'in-sync'}], 'AvailabilityZone': 'cn-northwest-1b', 'DbSubnetGroup': {'DbSubnetGroupName': 'ray-demo-db-sngp', 'DbSubnetGroupDescription': 'ray-demo-db subnet group', 'VpcId': 'vpc-00d4874adbfc118c0', 'SubnetGroupStatus': 'Complete', 'Subnets': [{'SubnetIdentifier': 'subnet-03a0e4c2c3feb49c8', 'SubnetAvailabilityZone': {'Name': 'cn-northwest-1b'}, 'SubnetStatus': 'Active'}, {'SubnetIdentifier': 'subnet-082079fb3f35f20cc', 'SubnetAvailabilityZone': {'Name': 'cn-northwest-1a'}, 'SubnetStatus': 'Active'}]}, 'PreferredMaintenanceWindow': 'fri:06:55-fri:07:25', 'LatestRestorableTime': '2020-12-28T02:00:00.000Z', 'AutoMinorVersionUpgrade': True, 'LicenseModel': 'general-public-license', 'OptionGroupMemberships': [{'OptionGroupName': 'default:mysql-5-7', 'Status': 'in-sync'}], 'StorageType': 'gp2', 'CopyTagsToSnapshot': True, 'MonitoringInterval': 60, 'MonitoringRoleArn': 'arn:aws-cn:iam::876820548815:role/rds-monitoring-role', 'PerformanceInsightsEnabled': True, 'PerformanceInsightsKmsKeyId': 'arn:aws-cn:kms:cn-northwest-1:876820548815:key/4b79f73a-e4e3-4f24-b105-4d43f3a2ed35', 'PerformanceInsightsRetentionPeriod': 7, 'EnabledCloudWatchLogsExports': ['audit', 'error', 'general', 'slowquery'], 'MaxAllocatedStorage': 1000}}}]\",NEW,ACTIVE,40,MEDIUM,40,MEDIUM,\"For directions on how to fix this issue, please consult the AWS Security Hub Foundational Security Best Practices documentation.\",https://docs.aws.amazon.com/console/securityhub/RDS.5/remediation,arn:aws-cn:securityhub:::standards/aws-foundational-security-best-practices/v/1.0.0,arn:aws-cn:securityhub:cn-northwest-1:876820548815:subscription/aws-foundational-security-best-practices/v/1.0.0,RDS.5,https://docs.aws.amazon.com/console/securityhub/RDS.5/remediation,securityhub-rds-multi-az-support-22905cfd,AWS::Config::ConfigRule,arn:aws-cn:securityhub:cn-northwest-1:876820548815:control/aws-foundational-security-best-practices/v/1.0.0/RDS.5,Security Hub,AWS,arn:aws-cn:securityhub:cn-northwest-1::product/aws/securityhub/arn:aws-cn:securityhub:cn-northwest-1:876820548815:subscription/aws-foundational-security-best-practices/v/1.0.0/RDS.5/finding/db959225-b371-41ea-a93e-7f1619ca7552,FAILED,NEW,,,,,,,,\n",
      "2018-10-08,arn:aws-cn:securityhub:cn-northwest-1:876820548815:subscription/aws-foundational-security-best-practices/v/1.0.0/S3.3/finding/f9f9fb62-f409-497d-a1c2-ecf14ec6f3e2,arn:aws-cn:securityhub:cn-northwest-1::product/aws/securityhub,aws-foundational-security-best-practices/v/1.0.0/S3.3,876820548815,['Effects/Data Exposure/AWS-Foundational-Security-Best-Practices'],2020-10-28T14:02:52.713Z,2020-12-28T06:59:01.023Z,2020-10-28T14:02:52.713Z,2020-12-28T06:58:59.698Z,S3.3 S3 buckets should prohibit public write access,\"This AWS control checks whether your S3 buckets allow public write access by evaluating the Block Public Access settings, the bucket policy, and the bucket access control list (ACL).\",\"[{'Type': 'AwsS3Bucket', 'Id': 'arn:aws-cn:s3:::solutions-scheduler', 'Partition': 'aws-cn', 'Region': 'cn-northwest-1', 'Details': {'AwsS3Bucket': {'OwnerId': 'f3459af5b1226079b6ff0497ce91044a85f6c0d27ef6133a35f27a82f57916cd'}}}]\",NEW,ACTIVE,0,INFORMATIONAL,0,INFORMATIONAL,\"For directions on how to fix this issue, please consult the AWS Security Hub Foundational Security Best Practices documentation.\",https://docs.aws.amazon.com/console/securityhub/S3.3/remediation,arn:aws-cn:securityhub:::standards/aws-foundational-security-best-practices/v/1.0.0,arn:aws-cn:securityhub:cn-northwest-1:876820548815:subscription/aws-foundational-security-best-practices/v/1.0.0,S3.3,https://docs.aws.amazon.com/console/securityhub/S3.3/remediation,securityhub-s3-bucket-public-write-prohibited-c0273522,AWS::Config::ConfigRule,arn:aws-cn:securityhub:cn-northwest-1:876820548815:control/aws-foundational-security-best-practices/v/1.0.0/S3.3,Security Hub,AWS,arn:aws-cn:securityhub:cn-northwest-1::product/aws/securityhub/arn:aws-cn:securityhub:cn-northwest-1:876820548815:subscription/aws-foundational-security-best-practices/v/1.0.0/S3.3/finding/f9f9fb62-f409-497d-a1c2-ecf14ec6f3e2,PASSED,RESOLVED,,,,,,,,\n"
     ]
    }
   ],
   "source": [
    "!head -n 3 securityhub-findings.csv"
   ]
  },
  {
   "cell_type": "code",
   "execution_count": 42,
   "metadata": {},
   "outputs": [
    {
     "name": "stdout",
     "output_type": "stream",
     "text": [
      "0    {'SchemaVersion': '2018-10-08', 'Id': 'arn:aws...\n",
      "1    {'SchemaVersion': '2018-10-08', 'Id': 'arn:aws...\n",
      "2    {'SchemaVersion': '2018-10-08', 'Id': 'arn:aws...\n",
      "3    {'SchemaVersion': '2018-10-08', 'Id': 'arn:aws...\n",
      "4    {'SchemaVersion': '2018-10-08', 'Id': 'arn:aws...\n",
      "Name: Findings, dtype: object\n"
     ]
    }
   ],
   "source": [
    "df = pd.read_json(\"securityhub-findings.json\", orient='records')\n",
    "print(df['Findings'].head())\n",
    "\n",
    "pd.json_normalize(df['Findings']).to_csv(\"securityhub-findings-pandas.csv\", index=False, sep=',', encoding='utf-8')"
   ]
  },
  {
   "cell_type": "code",
   "execution_count": 43,
   "metadata": {},
   "outputs": [
    {
     "name": "stdout",
     "output_type": "stream",
     "text": [
      "SchemaVersion,Id,ProductArn,GeneratorId,AwsAccountId,Types,FirstObservedAt,LastObservedAt,CreatedAt,UpdatedAt,Title,Description,Resources,WorkflowState,RecordState,Severity.Product,Severity.Label,Severity.Normalized,Severity.Original,Remediation.Recommendation.Text,Remediation.Recommendation.Url,ProductFields.StandardsArn,ProductFields.StandardsSubscriptionArn,ProductFields.ControlId,ProductFields.RecommendationUrl,ProductFields.RelatedAWSResources:0/name,ProductFields.RelatedAWSResources:0/type,ProductFields.StandardsControlArn,ProductFields.aws/securityhub/ProductName,ProductFields.aws/securityhub/CompanyName,ProductFields.aws/securityhub/FindingId,Compliance.Status,Workflow.Status,Compliance.RelatedRequirements,ProductFields.aws/securityhub/annotation,ProductFields.StandardsGuideArn,ProductFields.StandardsGuideSubscriptionArn,ProductFields.RuleId,Compliance.StatusReasons,ProductFields.RelatedAWSResources:1/name,ProductFields.RelatedAWSResources:1/type\n",
      "2018-10-08,arn:aws-cn:securityhub:cn-northwest-1:876820548815:subscription/aws-foundational-security-best-practices/v/1.0.0/RDS.5/finding/db959225-b371-41ea-a93e-7f1619ca7552,arn:aws-cn:securityhub:cn-northwest-1::product/aws/securityhub,aws-foundational-security-best-practices/v/1.0.0/RDS.5,876820548815,['Software and Configuration Checks/Industry and Regulatory Standards/AWS-Foundational-Security-Best-Practices'],2020-10-28T14:03:29.103Z,2020-12-28T06:59:02.146Z,2020-10-28T14:03:29.103Z,2020-12-28T06:59:00.968Z,RDS.5 RDS DB instances should be configured with multiple Availability Zones,This control checks whether high availability is enabled for your RDS DB instances.,\"[{'Type': 'AwsRdsDbInstance', 'Id': 'arn:aws-cn:rds:cn-northwest-1:876820548815:db:mysqldemo', 'Partition': 'aws-cn', 'Region': 'cn-northwest-1', 'Details': {'AwsRdsDbInstance': {'CACertificateIdentifier': 'rds-ca-2017', 'DBInstanceIdentifier': 'mysqldemo', 'DBInstanceClass': 'db.t2.medium', 'DbInstancePort': 0, 'DbiResourceId': 'db-L3S6XDWQBT4LAJDLWYCLMBXMWQ', 'DBName': 'testdb', 'DeletionProtection': False, 'Endpoint': {'Address': 'mysqldemo.cznqsqgcjv3s.rds.cn-northwest-1.amazonaws.com.cn', 'Port': 3306, 'HostedZoneId': 'Z1BJHPUGKGJOC5'}, 'Engine': 'mysql', 'EngineVersion': '5.7.26', 'IAMDatabaseAuthenticationEnabled': False, 'InstanceCreateTime': '2020-05-14T03:37:37.805Z', 'PubliclyAccessible': False, 'StorageEncrypted': False, 'VpcSecurityGroups': [{'VpcSecurityGroupId': 'sg-041b990f4d35eaa67', 'Status': 'active'}], 'MultiAz': False, 'EnhancedMonitoringResourceArn': 'arn:aws-cn:logs:cn-northwest-1:876820548815:log-group:RDSOSMetrics:log-stream:db-L3S6XDWQBT4LAJDLWYCLMBXMWQ', 'DbInstanceStatus': 'stopping', 'MasterUsername': 'dbadmin', 'AllocatedStorage': 50, 'PreferredBackupWindow': '09:22-09:52', 'BackupRetentionPeriod': 1, 'DbParameterGroups': [{'DbParameterGroupName': 'default.mysql5.7', 'ParameterApplyStatus': 'in-sync'}], 'AvailabilityZone': 'cn-northwest-1b', 'DbSubnetGroup': {'DbSubnetGroupName': 'ray-demo-db-sngp', 'DbSubnetGroupDescription': 'ray-demo-db subnet group', 'VpcId': 'vpc-00d4874adbfc118c0', 'SubnetGroupStatus': 'Complete', 'Subnets': [{'SubnetIdentifier': 'subnet-03a0e4c2c3feb49c8', 'SubnetAvailabilityZone': {'Name': 'cn-northwest-1b'}, 'SubnetStatus': 'Active'}, {'SubnetIdentifier': 'subnet-082079fb3f35f20cc', 'SubnetAvailabilityZone': {'Name': 'cn-northwest-1a'}, 'SubnetStatus': 'Active'}]}, 'PreferredMaintenanceWindow': 'fri:06:55-fri:07:25', 'LatestRestorableTime': '2020-12-28T02:00:00.000Z', 'AutoMinorVersionUpgrade': True, 'LicenseModel': 'general-public-license', 'OptionGroupMemberships': [{'OptionGroupName': 'default:mysql-5-7', 'Status': 'in-sync'}], 'StorageType': 'gp2', 'CopyTagsToSnapshot': True, 'MonitoringInterval': 60, 'MonitoringRoleArn': 'arn:aws-cn:iam::876820548815:role/rds-monitoring-role', 'PerformanceInsightsEnabled': True, 'PerformanceInsightsKmsKeyId': 'arn:aws-cn:kms:cn-northwest-1:876820548815:key/4b79f73a-e4e3-4f24-b105-4d43f3a2ed35', 'PerformanceInsightsRetentionPeriod': 7, 'EnabledCloudWatchLogsExports': ['audit', 'error', 'general', 'slowquery'], 'MaxAllocatedStorage': 1000}}}]\",NEW,ACTIVE,40,MEDIUM,40,MEDIUM,\"For directions on how to fix this issue, please consult the AWS Security Hub Foundational Security Best Practices documentation.\",https://docs.aws.amazon.com/console/securityhub/RDS.5/remediation,arn:aws-cn:securityhub:::standards/aws-foundational-security-best-practices/v/1.0.0,arn:aws-cn:securityhub:cn-northwest-1:876820548815:subscription/aws-foundational-security-best-practices/v/1.0.0,RDS.5,https://docs.aws.amazon.com/console/securityhub/RDS.5/remediation,securityhub-rds-multi-az-support-22905cfd,AWS::Config::ConfigRule,arn:aws-cn:securityhub:cn-northwest-1:876820548815:control/aws-foundational-security-best-practices/v/1.0.0/RDS.5,Security Hub,AWS,arn:aws-cn:securityhub:cn-northwest-1::product/aws/securityhub/arn:aws-cn:securityhub:cn-northwest-1:876820548815:subscription/aws-foundational-security-best-practices/v/1.0.0/RDS.5/finding/db959225-b371-41ea-a93e-7f1619ca7552,FAILED,NEW,,,,,,,,\n",
      "2018-10-08,arn:aws-cn:securityhub:cn-northwest-1:876820548815:subscription/aws-foundational-security-best-practices/v/1.0.0/S3.3/finding/f9f9fb62-f409-497d-a1c2-ecf14ec6f3e2,arn:aws-cn:securityhub:cn-northwest-1::product/aws/securityhub,aws-foundational-security-best-practices/v/1.0.0/S3.3,876820548815,['Effects/Data Exposure/AWS-Foundational-Security-Best-Practices'],2020-10-28T14:02:52.713Z,2020-12-28T06:59:01.023Z,2020-10-28T14:02:52.713Z,2020-12-28T06:58:59.698Z,S3.3 S3 buckets should prohibit public write access,\"This AWS control checks whether your S3 buckets allow public write access by evaluating the Block Public Access settings, the bucket policy, and the bucket access control list (ACL).\",\"[{'Type': 'AwsS3Bucket', 'Id': 'arn:aws-cn:s3:::solutions-scheduler', 'Partition': 'aws-cn', 'Region': 'cn-northwest-1', 'Details': {'AwsS3Bucket': {'OwnerId': 'f3459af5b1226079b6ff0497ce91044a85f6c0d27ef6133a35f27a82f57916cd'}}}]\",NEW,ACTIVE,0,INFORMATIONAL,0,INFORMATIONAL,\"For directions on how to fix this issue, please consult the AWS Security Hub Foundational Security Best Practices documentation.\",https://docs.aws.amazon.com/console/securityhub/S3.3/remediation,arn:aws-cn:securityhub:::standards/aws-foundational-security-best-practices/v/1.0.0,arn:aws-cn:securityhub:cn-northwest-1:876820548815:subscription/aws-foundational-security-best-practices/v/1.0.0,S3.3,https://docs.aws.amazon.com/console/securityhub/S3.3/remediation,securityhub-s3-bucket-public-write-prohibited-c0273522,AWS::Config::ConfigRule,arn:aws-cn:securityhub:cn-northwest-1:876820548815:control/aws-foundational-security-best-practices/v/1.0.0/S3.3,Security Hub,AWS,arn:aws-cn:securityhub:cn-northwest-1::product/aws/securityhub/arn:aws-cn:securityhub:cn-northwest-1:876820548815:subscription/aws-foundational-security-best-practices/v/1.0.0/S3.3/finding/f9f9fb62-f409-497d-a1c2-ecf14ec6f3e2,PASSED,RESOLVED,,,,,,,,\n"
     ]
    }
   ],
   "source": [
    "!head -n 3 securityhub-findings-pandas.csv"
   ]
  },
  {
   "cell_type": "code",
   "execution_count": null,
   "metadata": {},
   "outputs": [],
   "source": []
  }
 ],
 "metadata": {
  "kernelspec": {
   "display_name": "conda_python3",
   "language": "python",
   "name": "conda_python3"
  },
  "language_info": {
   "codemirror_mode": {
    "name": "ipython",
    "version": 3
   },
   "file_extension": ".py",
   "mimetype": "text/x-python",
   "name": "python",
   "nbconvert_exporter": "python",
   "pygments_lexer": "ipython3",
   "version": "3.6.10"
  }
 },
 "nbformat": 4,
 "nbformat_minor": 4
}
