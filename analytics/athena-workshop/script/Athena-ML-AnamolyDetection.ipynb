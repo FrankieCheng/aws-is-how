{
 "cells": [
  {
   "cell_type": "code",
   "execution_count": null,
   "metadata": {},
   "outputs": [],
   "source": [
    "import sys\n",
    "!{sys.executable} -m pip install PyAthena\n",
    "from pyathena import connect \n",
    "import pandas as pd\n",
    "import sagemaker\n",
    "import boto3"
   ]
  },
  {
   "cell_type": "code",
   "execution_count": null,
   "metadata": {},
   "outputs": [],
   "source": [
    "#TODO: Change the bucket name and replace it with your athena federation workshop bucket name , already created for you. We will use this s3 bucket for model output and training data\n",
    "s3 = boto3.client('s3')\n",
    "bucket = 'athena-federation-workshop-***********'\n",
    "output_location = 's3://' + bucket + '/athena-ml/'\n",
    "connection = connect(s3_staging_dir=output_location, region_name='us-east-1', work_group='AmazonAthenaPreviewFunctionality')"
   ]
  },
  {
   "cell_type": "code",
   "execution_count": null,
   "metadata": {},
   "outputs": [],
   "source": [
    "## Select the entire dataset and save it to a variable to be used later to fit the model.\n",
    "results = pd.read_sql('SELECT o_orderdate, count(*) as number FROM \"lambda:mysql\".sales.orders group by o_orderdate', connection)"
   ]
  },
  {
   "cell_type": "code",
   "execution_count": null,
   "metadata": {},
   "outputs": [],
   "source": [
    "## Lets see the data we are working with\n",
    "results"
   ]
  },
  {
   "cell_type": "code",
   "execution_count": null,
   "metadata": {},
   "outputs": [],
   "source": [
    "from sagemaker import RandomCutForest\n",
    "\n",
    "prefix = 'athena-ml/anomalydetection'\n",
    "execution_role = sagemaker.get_execution_role()\n",
    "session = sagemaker.Session()\n",
    "\n",
    "# specify general training job information\n",
    "rcf = RandomCutForest(role=execution_role,\n",
    "                      train_instance_count=1,\n",
    "                      train_instance_type='ml.c4.2xlarge',\n",
    "                      data_location='s3://{}/{}/'.format(bucket, prefix),\n",
    "                      output_path='s3://{}/{}/output'.format(bucket, prefix),\n",
    "                      num_samples_per_tree=512,\n",
    "                      num_trees=50)\n",
    "\n",
    "# Run the training job using the results we got from the Athena query earlier\n",
    "rcf.fit(rcf.record_set(results.number.values.reshape(-1,1)))\n",
    "\n",
    "print('Training job name: {}'.format(rcf.latest_training_job.job_name))\n",
    "\n",
    "rcf_inference = rcf.deploy(\n",
    "    initial_instance_count=1,\n",
    "    instance_type='ml.c4.2xlarge',\n",
    ")\n",
    "\n",
    "print('\\nEndpoint name (used by Athena): {}'.format(rcf_inference.endpoint))"
   ]
  },
  {
   "cell_type": "code",
   "execution_count": null,
   "metadata": {},
   "outputs": [],
   "source": []
  }
 ],
 "metadata": {
  "kernelspec": {
   "display_name": "conda_python3",
   "language": "python",
   "name": "conda_python3"
  },
  "language_info": {
   "codemirror_mode": {
    "name": "ipython",
    "version": 3
   },
   "file_extension": ".py",
   "mimetype": "text/x-python",
   "name": "python",
   "nbconvert_exporter": "python",
   "pygments_lexer": "ipython3",
   "version": "3.6.5"
  }
 },
 "nbformat": 4,
 "nbformat_minor": 4
}
