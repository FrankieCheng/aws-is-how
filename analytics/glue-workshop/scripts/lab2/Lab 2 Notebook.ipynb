{
 "cells": [
  {
   "cell_type": "code",
   "execution_count": 1,
   "id": "1ff474e5",
   "metadata": {},
   "outputs": [
    {
     "name": "stdout",
     "output_type": "stream",
     "text": [
      "Starting Spark application\n"
     ]
    },
    {
     "data": {
      "text/html": [
       "<table>\n",
       "<tr><th>ID</th><th>YARN Application ID</th><th>Kind</th><th>State</th><th>Spark UI</th><th>Driver log</th><th>User</th><th>Current session?</th></tr><tr><td>4</td><td>application_1623861101193_0005</td><td>pyspark</td><td>idle</td><td><a target=\"_blank\" href=\"http://ip-172-32-26-31.us-east-2.compute.internal:20888/proxy/application_1623861101193_0005/\">Link</a></td><td><a target=\"_blank\" href=\"http://ip-172-32-26-52.us-east-2.compute.internal:8042/node/containerlogs/container_1623861101193_0005_01_000002/livy\">Link</a></td><td>None</td><td>✔</td></tr></table>"
      ],
      "text/plain": [
       "<IPython.core.display.HTML object>"
      ]
     },
     "metadata": {},
     "output_type": "display_data"
    },
    {
     "data": {
      "application/vnd.jupyter.widget-view+json": {
       "model_id": "",
       "version_major": 2,
       "version_minor": 0
      },
      "text/plain": [
       "FloatProgress(value=0.0, bar_style='info', description='Progress:', layout=Layout(height='25px', width='50%'),…"
      ]
     },
     "metadata": {},
     "output_type": "display_data"
    },
    {
     "name": "stdout",
     "output_type": "stream",
     "text": [
      "SparkSession available as 'spark'.\n"
     ]
    },
    {
     "data": {
      "application/vnd.jupyter.widget-view+json": {
       "model_id": "",
       "version_major": 2,
       "version_minor": 0
      },
      "text/plain": [
       "FloatProgress(value=0.0, bar_style='info', description='Progress:', layout=Layout(height='25px', width='50%'),…"
      ]
     },
     "metadata": {},
     "output_type": "display_data"
    },
    {
     "name": "stdout",
     "output_type": "stream",
     "text": [
      "<pyspark.sql.session.SparkSession object at 0x7f9fe641ea20>"
     ]
    }
   ],
   "source": [
    "spark"
   ]
  },
  {
   "cell_type": "code",
   "execution_count": 3,
   "id": "7f134471",
   "metadata": {},
   "outputs": [
    {
     "data": {
      "application/vnd.jupyter.widget-view+json": {
       "model_id": "",
       "version_major": 2,
       "version_minor": 0
      },
      "text/plain": [
       "FloatProgress(value=0.0, bar_style='info', description='Progress:', layout=Layout(height='25px', width='50%'),…"
      ]
     },
     "metadata": {},
     "output_type": "display_data"
    },
    {
     "name": "stdout",
     "output_type": "stream",
     "text": [
      "\n",
      "Welcome to Python 3.6's help utility!\n",
      "\n",
      "If this is your first time using Python, you should definitely check out\n",
      "the tutorial on the Internet at https://docs.python.org/3.6/tutorial/.\n",
      "\n",
      "Enter the name of any module, keyword, or topic to get help on writing\n",
      "Python programs and using Python modules.  To quit this help utility and\n",
      "return to the interpreter, just type \"quit\".\n",
      "\n",
      "To get a list of available modules, keywords, symbols, or topics, type\n",
      "\"modules\", \"keywords\", \"symbols\", or \"topics\".  Each module also comes\n",
      "with a one-line summary of what it does; to list the modules whose name\n",
      "or summary contain a given string such as \"spam\", type \"modules spam\".\n",
      "\n",
      "help> \n",
      "You are now leaving help and returning to the Python interpreter.\n",
      "If you want to ask for help on a particular object directly from the\n",
      "interpreter, you can type \"help(object)\".  Executing \"help('string')\"\n",
      "has the same effect as typing a particular string at the help> prompt."
     ]
    }
   ],
   "source": [
    "help()\n",
    "s3_bucket = 'glueworkshop-ray-us-east-2'"
   ]
  },
  {
   "cell_type": "markdown",
   "id": "e4f0b6d0",
   "metadata": {},
   "source": [
    "# Work with RDD"
   ]
  },
  {
   "cell_type": "code",
   "execution_count": 5,
   "id": "9f8788f8",
   "metadata": {},
   "outputs": [
    {
     "data": {
      "application/vnd.jupyter.widget-view+json": {
       "model_id": "",
       "version_major": 2,
       "version_minor": 0
      },
      "text/plain": [
       "FloatProgress(value=0.0, bar_style='info', description='Progress:', layout=Layout(height='25px', width='50%'),…"
      ]
     },
     "metadata": {},
     "output_type": "display_data"
    },
    {
     "name": "stdout",
     "output_type": "stream",
     "text": [
      "s3://glueworkshop-ray-us-east-2/input/lab2/sample.csv"
     ]
    }
   ],
   "source": [
    "s3_sample_file = 's3://{}/{}'.format(s3_bucket, \"input/lab2/sample.csv\")\n",
    "print(s3_sample_file)\n",
    "rdd = spark.sparkContext.textFile(s3_sample_file)"
   ]
  },
  {
   "cell_type": "code",
   "execution_count": 6,
   "id": "d4674cd3",
   "metadata": {},
   "outputs": [
    {
     "data": {
      "application/vnd.jupyter.widget-view+json": {
       "model_id": "",
       "version_major": 2,
       "version_minor": 0
      },
      "text/plain": [
       "FloatProgress(value=0.0, bar_style='info', description='Progress:', layout=Layout(height='25px', width='50%'),…"
      ]
     },
     "metadata": {},
     "output_type": "display_data"
    },
    {
     "name": "stdout",
     "output_type": "stream",
     "text": [
      "<class 'pyspark.rdd.RDD'>"
     ]
    }
   ],
   "source": [
    "type(rdd)"
   ]
  },
  {
   "cell_type": "code",
   "execution_count": 7,
   "id": "d89bf27d",
   "metadata": {},
   "outputs": [
    {
     "data": {
      "application/vnd.jupyter.widget-view+json": {
       "model_id": "",
       "version_major": 2,
       "version_minor": 0
      },
      "text/plain": [
       "FloatProgress(value=0.0, bar_style='info', description='Progress:', layout=Layout(height='25px', width='50%'),…"
      ]
     },
     "metadata": {},
     "output_type": "display_data"
    },
    {
     "name": "stdout",
     "output_type": "stream",
     "text": [
      "'uuid,Country,ItemType,SalesChannel,OrderPriority,OrderDate,Region,ShipDate,UnitsSold,UnitPrice,UnitCost,TotalRevenue,TotalCost,TotalProfit'"
     ]
    }
   ],
   "source": [
    "rdd.first()"
   ]
  },
  {
   "cell_type": "code",
   "execution_count": 8,
   "id": "8c996735",
   "metadata": {},
   "outputs": [
    {
     "data": {
      "application/vnd.jupyter.widget-view+json": {
       "model_id": "",
       "version_major": 2,
       "version_minor": 0
      },
      "text/plain": [
       "FloatProgress(value=0.0, bar_style='info', description='Progress:', layout=Layout(height='25px', width='50%'),…"
      ]
     },
     "metadata": {},
     "output_type": "display_data"
    },
    {
     "name": "stdout",
     "output_type": "stream",
     "text": [
      "['uuid,Country,ItemType,SalesChannel,OrderPriority,OrderDate,Region,ShipDate,UnitsSold,UnitPrice,UnitCost,TotalRevenue,TotalCost,TotalProfit', '535113847,Azerbaijan,Snacks,Online,C,10/8/14,Middle East and North Africa,10/23/14,934,152.58,97.44,142509.72,91008.96,51500.76', '874708545,Panama,Cosmetics,Offline,L,2/22/15,Central America and the Caribbean,2/27/15,4551,437.2,263.33,1989697.2,1198414.83,791282.37', '854349935,Sao Tome and Principe,Fruits,Offline,M,12/9/15,Sub-Saharan Africa,1/18/16,9986,9.33,6.92,93169.38,69103.12,24066.26', '892836844,Sao Tome and Principe,Personal Care,Online,M,9/17/14,Sub-Saharan Africa,10/12/14,9118,81.73,56.67,745214.14,516717.06,228497.08']"
     ]
    }
   ],
   "source": [
    "rdd.take(5)"
   ]
  },
  {
   "cell_type": "markdown",
   "id": "5800df17",
   "metadata": {},
   "source": [
    "## Remove Header"
   ]
  },
  {
   "cell_type": "code",
   "execution_count": 9,
   "id": "a7a34657",
   "metadata": {},
   "outputs": [
    {
     "data": {
      "application/vnd.jupyter.widget-view+json": {
       "model_id": "",
       "version_major": 2,
       "version_minor": 0
      },
      "text/plain": [
       "FloatProgress(value=0.0, bar_style='info', description='Progress:', layout=Layout(height='25px', width='50%'),…"
      ]
     },
     "metadata": {},
     "output_type": "display_data"
    },
    {
     "name": "stdout",
     "output_type": "stream",
     "text": [
      "['535113847,Azerbaijan,Snacks,Online,C,10/8/14,Middle East and North Africa,10/23/14,934,152.58,97.44,142509.72,91008.96,51500.76', '874708545,Panama,Cosmetics,Offline,L,2/22/15,Central America and the Caribbean,2/27/15,4551,437.2,263.33,1989697.2,1198414.83,791282.37']"
     ]
    }
   ],
   "source": [
    "rddheader = rdd.first()\n",
    "\n",
    "rddwithoutheader = rdd.filter(lambda c: c != rddheader)\n",
    "\n",
    "rddwithoutheader.take(2)"
   ]
  },
  {
   "cell_type": "markdown",
   "id": "3acb6150",
   "metadata": {},
   "source": [
    "## Convert string into list"
   ]
  },
  {
   "cell_type": "code",
   "execution_count": 10,
   "id": "568b889d",
   "metadata": {},
   "outputs": [
    {
     "data": {
      "application/vnd.jupyter.widget-view+json": {
       "model_id": "",
       "version_major": 2,
       "version_minor": 0
      },
      "text/plain": [
       "FloatProgress(value=0.0, bar_style='info', description='Progress:', layout=Layout(height='25px', width='50%'),…"
      ]
     },
     "metadata": {},
     "output_type": "display_data"
    },
    {
     "name": "stdout",
     "output_type": "stream",
     "text": [
      "<class 'str'>"
     ]
    }
   ],
   "source": [
    "# reading first record form rdd after removing header\n",
    "s = rddwithoutheader.first()\n",
    "\n",
    "# checkig type\n",
    "type(s)"
   ]
  },
  {
   "cell_type": "code",
   "execution_count": 11,
   "id": "e796d9c1",
   "metadata": {},
   "outputs": [
    {
     "data": {
      "application/vnd.jupyter.widget-view+json": {
       "model_id": "",
       "version_major": 2,
       "version_minor": 0
      },
      "text/plain": [
       "FloatProgress(value=0.0, bar_style='info', description='Progress:', layout=Layout(height='25px', width='50%'),…"
      ]
     },
     "metadata": {},
     "output_type": "display_data"
    },
    {
     "name": "stdout",
     "output_type": "stream",
     "text": [
      "535113847,Azerbaijan,Snacks,Online,C,10/8/14,Middle East and North Africa,10/23/14,934,152.58,97.44,142509.72,91008.96,51500.76"
     ]
    }
   ],
   "source": [
    "# printing value of s\n",
    "print(s)"
   ]
  },
  {
   "cell_type": "code",
   "execution_count": 12,
   "id": "95471256",
   "metadata": {},
   "outputs": [
    {
     "data": {
      "application/vnd.jupyter.widget-view+json": {
       "model_id": "",
       "version_major": 2,
       "version_minor": 0
      },
      "text/plain": [
       "FloatProgress(value=0.0, bar_style='info', description='Progress:', layout=Layout(height='25px', width='50%'),…"
      ]
     },
     "metadata": {},
     "output_type": "display_data"
    },
    {
     "name": "stdout",
     "output_type": "stream",
     "text": [
      "<class 'list'>"
     ]
    }
   ],
   "source": [
    "# converting string into list\n",
    "sl = s.split(',')\n",
    "\n",
    "# checking type\n",
    "type(sl)"
   ]
  },
  {
   "cell_type": "code",
   "execution_count": 13,
   "id": "aec27f56",
   "metadata": {},
   "outputs": [
    {
     "data": {
      "application/vnd.jupyter.widget-view+json": {
       "model_id": "",
       "version_major": 2,
       "version_minor": 0
      },
      "text/plain": [
       "FloatProgress(value=0.0, bar_style='info', description='Progress:', layout=Layout(height='25px', width='50%'),…"
      ]
     },
     "metadata": {},
     "output_type": "display_data"
    },
    {
     "name": "stdout",
     "output_type": "stream",
     "text": [
      "535113847\n",
      "Azerbaijan\n",
      "Snacks\n",
      "Online\n",
      "C\n",
      "10/8/14\n",
      "Middle East and North Africa\n",
      "10/23/14\n",
      "934\n",
      "152.58\n",
      "97.44\n",
      "142509.72\n",
      "91008.96\n",
      "51500.76"
     ]
    }
   ],
   "source": [
    "# printing list\n",
    "for i in sl[0:len(sl)]:\n",
    "    print(i)"
   ]
  },
  {
   "cell_type": "markdown",
   "id": "15ebf4d3",
   "metadata": {},
   "source": [
    "## Find distinct Country"
   ]
  },
  {
   "cell_type": "code",
   "execution_count": 14,
   "id": "7cfaf266",
   "metadata": {},
   "outputs": [
    {
     "data": {
      "application/vnd.jupyter.widget-view+json": {
       "model_id": "",
       "version_major": 2,
       "version_minor": 0
      },
      "text/plain": [
       "FloatProgress(value=0.0, bar_style='info', description='Progress:', layout=Layout(height='25px', width='50%'),…"
      ]
     },
     "metadata": {},
     "output_type": "display_data"
    },
    {
     "name": "stdout",
     "output_type": "stream",
     "text": [
      "'Azerbaijan'"
     ]
    }
   ],
   "source": [
    "sl[1]"
   ]
  },
  {
   "cell_type": "code",
   "execution_count": 15,
   "id": "0a9f8790",
   "metadata": {},
   "outputs": [
    {
     "data": {
      "application/vnd.jupyter.widget-view+json": {
       "model_id": "",
       "version_major": 2,
       "version_minor": 0
      },
      "text/plain": [
       "FloatProgress(value=0.0, bar_style='info', description='Progress:', layout=Layout(height='25px', width='50%'),…"
      ]
     },
     "metadata": {},
     "output_type": "display_data"
    }
   ],
   "source": [
    "rddcounty = rddwithoutheader.map(lambda r : r.split(',')[1]).distinct()"
   ]
  },
  {
   "cell_type": "code",
   "execution_count": 16,
   "id": "114d8e65",
   "metadata": {},
   "outputs": [
    {
     "data": {
      "application/vnd.jupyter.widget-view+json": {
       "model_id": "",
       "version_major": 2,
       "version_minor": 0
      },
      "text/plain": [
       "FloatProgress(value=0.0, bar_style='info', description='Progress:', layout=Layout(height='25px', width='50%'),…"
      ]
     },
     "metadata": {},
     "output_type": "display_data"
    },
    {
     "name": "stdout",
     "output_type": "stream",
     "text": [
      "185"
     ]
    }
   ],
   "source": [
    "rddcounty.count()"
   ]
  },
  {
   "cell_type": "code",
   "execution_count": 17,
   "id": "26fbeb50",
   "metadata": {},
   "outputs": [
    {
     "data": {
      "application/vnd.jupyter.widget-view+json": {
       "model_id": "",
       "version_major": 2,
       "version_minor": 0
      },
      "text/plain": [
       "FloatProgress(value=0.0, bar_style='info', description='Progress:', layout=Layout(height='25px', width='50%'),…"
      ]
     },
     "metadata": {},
     "output_type": "display_data"
    },
    {
     "name": "stdout",
     "output_type": "stream",
     "text": [
      "Belize\n",
      "Denmark\n",
      "Kazakhstan\n",
      "Cambodia\n",
      "Bahrain\n",
      "Solomon Islands\n",
      "Monaco\n",
      "Iceland\n",
      "Zambia\n",
      "Togo"
     ]
    }
   ],
   "source": [
    "# printing list\n",
    "for i in rddcounty.take(10):\n",
    "    print(i)"
   ]
  },
  {
   "cell_type": "markdown",
   "id": "6f8875a5",
   "metadata": {},
   "source": [
    "## filter all the records where county is United Kingdom"
   ]
  },
  {
   "cell_type": "code",
   "execution_count": 18,
   "id": "2f01ed82",
   "metadata": {},
   "outputs": [
    {
     "data": {
      "application/vnd.jupyter.widget-view+json": {
       "model_id": "",
       "version_major": 2,
       "version_minor": 0
      },
      "text/plain": [
       "FloatProgress(value=0.0, bar_style='info', description='Progress:', layout=Layout(height='25px', width='50%'),…"
      ]
     },
     "metadata": {},
     "output_type": "display_data"
    },
    {
     "name": "stdout",
     "output_type": "stream",
     "text": [
      "517"
     ]
    }
   ],
   "source": [
    "rddcountyuk = rddwithoutheader.filter(lambda o : o.split(',')[1] in ('United Kingdom'))\n",
    "\n",
    "rddcountyuk.count()"
   ]
  },
  {
   "cell_type": "code",
   "execution_count": 19,
   "id": "586448e8",
   "metadata": {},
   "outputs": [
    {
     "data": {
      "application/vnd.jupyter.widget-view+json": {
       "model_id": "",
       "version_major": 2,
       "version_minor": 0
      },
      "text/plain": [
       "FloatProgress(value=0.0, bar_style='info', description='Progress:', layout=Layout(height='25px', width='50%'),…"
      ]
     },
     "metadata": {},
     "output_type": "display_data"
    },
    {
     "name": "stdout",
     "output_type": "stream",
     "text": [
      "847788178,United Kingdom,Snacks,Online,H,12/29/12,Europe,1/15/13,8217,152.58,97.44,1253749.86,800664.48,453085.38\n",
      "757665097,United Kingdom,Clothes,Offline,C,5/7/15,Europe,5/14/15,8794,109.28,35.84,961008.32,315176.96,645831.36\n",
      "579393041,United Kingdom,Personal Care,Offline,C,11/22/15,Europe,12/26/15,4131,81.73,56.67,337626.63,234103.77,103522.86\n",
      "228189742,United Kingdom,Office Supplies,Offline,C,2/28/10,Europe,3/17/10,5270,651.21,524.96,3431876.7,2766539.2,665337.5\n",
      "981146752,United Kingdom,Personal Care,Offline,H,6/14/14,Europe,7/20/14,1982,81.73,56.67,161988.86,112319.94,49668.92\n",
      "361647021,United Kingdom,Personal Care,Online,L,3/1/12,Europe,3/4/12,8245,81.73,56.67,673863.85,467244.15,206619.7\n",
      "136305415,United Kingdom,Personal Care,Online,L,10/13/12,Europe,11/24/12,4656,81.73,56.67,380534.88,263855.52,116679.36\n",
      "675350463,United Kingdom,Baby Food,Offline,C,1/15/17,Europe,1/23/17,65,255.28,159.42,16593.2,10362.3,6230.9\n",
      "981978023,United Kingdom,Household,Offline,C,4/3/10,Europe,4/13/10,7973,668.27,502.54,5328116.71,4006751.42,1321365.29\n",
      "530562245,United Kingdom,Cereal,Offline,C,3/26/16,Europe,4/25/16,4014,205.7,117.11,825679.8,470079.54,355600.26"
     ]
    }
   ],
   "source": [
    "for i in rddcountyuk.take(10):\n",
    "    print(i)"
   ]
  },
  {
   "cell_type": "markdown",
   "id": "f0d4ea5b",
   "metadata": {},
   "source": [
    "## Working with Key-Value Pairs"
   ]
  },
  {
   "cell_type": "code",
   "execution_count": 20,
   "id": "e1c438b3",
   "metadata": {},
   "outputs": [
    {
     "data": {
      "application/vnd.jupyter.widget-view+json": {
       "model_id": "",
       "version_major": 2,
       "version_minor": 0
      },
      "text/plain": [
       "FloatProgress(value=0.0, bar_style='info', description='Progress:', layout=Layout(height='25px', width='50%'),…"
      ]
     },
     "metadata": {},
     "output_type": "display_data"
    },
    {
     "name": "stdout",
     "output_type": "stream",
     "text": [
      "[('Snacks', 1), ('Clothes', 1), ('Personal Care', 1), ('Office Supplies', 1), ('Personal Care', 1), ('Personal Care', 1), ('Personal Care', 1), ('Baby Food', 1), ('Household', 1), ('Cereal', 1)]"
     ]
    }
   ],
   "source": [
    "## convert RDD into KeyValue tuble; here we have indexed \"Item Type\" and assign 1 to each \"Item Type\"; \n",
    "## this will help us to count each \"Item Type\"\n",
    "\n",
    "rddcountyukkv = rddcountyuk.map(lambda r : (r.split(',')[2],1))\n",
    "\n",
    "# list 10 item_type \n",
    "rddcountyukkv.take(10)"
   ]
  },
  {
   "cell_type": "code",
   "execution_count": 21,
   "id": "2d209e3e",
   "metadata": {},
   "outputs": [
    {
     "data": {
      "application/vnd.jupyter.widget-view+json": {
       "model_id": "",
       "version_major": 2,
       "version_minor": 0
      },
      "text/plain": [
       "FloatProgress(value=0.0, bar_style='info', description='Progress:', layout=Layout(height='25px', width='50%'),…"
      ]
     },
     "metadata": {},
     "output_type": "display_data"
    },
    {
     "name": "stdout",
     "output_type": "stream",
     "text": [
      "('Snacks', 44)\n",
      "('Clothes', 46)\n",
      "('Baby Food', 39)\n",
      "('Cereal', 39)\n",
      "('Cosmetics', 45)\n",
      "('Fruits', 40)\n",
      "('Personal Care', 46)\n",
      "('Office Supplies', 41)\n",
      "('Household', 46)\n",
      "('Beverages', 48)\n",
      "('Meat', 41)\n",
      "('Vegetables', 42)"
     ]
    }
   ],
   "source": [
    "## count the total \"Item Type\" by using reduceByKey\n",
    "\n",
    "rddcountyukkvrkey = rddcountyukkv.reduceByKey(lambda a, b: a + b)\n",
    "\n",
    "## print item_type with count\n",
    "\n",
    "for i in rddcountyukkvrkey.take(20):\n",
    "    print(i)"
   ]
  },
  {
   "cell_type": "markdown",
   "id": "bb0a3628",
   "metadata": {},
   "source": [
    "## Sorting the value of Spark RDD"
   ]
  },
  {
   "cell_type": "code",
   "execution_count": 22,
   "id": "b38fc5f1",
   "metadata": {},
   "outputs": [
    {
     "data": {
      "application/vnd.jupyter.widget-view+json": {
       "model_id": "",
       "version_major": 2,
       "version_minor": 0
      },
      "text/plain": [
       "FloatProgress(value=0.0, bar_style='info', description='Progress:', layout=Layout(height='25px', width='50%'),…"
      ]
     },
     "metadata": {},
     "output_type": "display_data"
    },
    {
     "name": "stdout",
     "output_type": "stream",
     "text": [
      "('Baby Food', 39)\n",
      "('Beverages', 48)\n",
      "('Cereal', 39)\n",
      "('Clothes', 46)\n",
      "('Cosmetics', 45)\n",
      "('Fruits', 40)\n",
      "('Household', 46)\n",
      "('Meat', 41)\n",
      "('Office Supplies', 41)\n",
      "('Personal Care', 46)\n",
      "('Snacks', 44)\n",
      "('Vegetables', 42)"
     ]
    }
   ],
   "source": [
    "## sorting the Item_Type with count; In Spark RDD you can use sortByKey to perform the sort\n",
    "\n",
    "rddcountyukkvrkeysort = rddcountyukkvrkey.sortByKey()\n",
    "\n",
    "for i in rddcountyukkvrkeysort.take(20):\n",
    "    print(i)"
   ]
  },
  {
   "cell_type": "code",
   "execution_count": 23,
   "id": "7477b950",
   "metadata": {},
   "outputs": [
    {
     "data": {
      "application/vnd.jupyter.widget-view+json": {
       "model_id": "",
       "version_major": 2,
       "version_minor": 0
      },
      "text/plain": [
       "FloatProgress(value=0.0, bar_style='info', description='Progress:', layout=Layout(height='25px', width='50%'),…"
      ]
     },
     "metadata": {},
     "output_type": "display_data"
    },
    {
     "name": "stdout",
     "output_type": "stream",
     "text": [
      "[(44, 'Snacks'), (46, 'Clothes'), (39, 'Baby Food'), (39, 'Cereal'), (45, 'Cosmetics'), (40, 'Fruits'), (46, 'Personal Care'), (41, 'Office Supplies'), (46, 'Household'), (48, 'Beverages'), (41, 'Meat'), (42, 'Vegetables')]"
     ]
    }
   ],
   "source": [
    "# if you see the previous output; it performed the sorting but on Item_Type \n",
    "# not on count; it is because sortByKey perform the sorting on Key insted \n",
    "# Value i.e. why now we need to perform one transform change the key value pair\n",
    "\n",
    "rddcountyukkvrkey = rddcountyukkvrkey.map(lambda o : (o[1],o[0]))\n",
    "\n",
    "rddcountyukkvrkey.take(20)"
   ]
  },
  {
   "cell_type": "code",
   "execution_count": 24,
   "id": "9129d38d",
   "metadata": {},
   "outputs": [
    {
     "data": {
      "application/vnd.jupyter.widget-view+json": {
       "model_id": "",
       "version_major": 2,
       "version_minor": 0
      },
      "text/plain": [
       "FloatProgress(value=0.0, bar_style='info', description='Progress:', layout=Layout(height='25px', width='50%'),…"
      ]
     },
     "metadata": {},
     "output_type": "display_data"
    },
    {
     "name": "stdout",
     "output_type": "stream",
     "text": [
      "(48, 'Beverages')\n",
      "(46, 'Clothes')\n",
      "(46, 'Personal Care')\n",
      "(46, 'Household')\n",
      "(45, 'Cosmetics')\n",
      "(44, 'Snacks')\n",
      "(42, 'Vegetables')\n",
      "(41, 'Office Supplies')\n",
      "(41, 'Meat')\n",
      "(40, 'Fruits')\n",
      "(39, 'Baby Food')\n",
      "(39, 'Cereal')"
     ]
    }
   ],
   "source": [
    "## Now let's perform the sorting \n",
    "rddcountyukkvrkeysort = rddcountyukkvrkey.sortByKey(False)\n",
    "\n",
    "for i in rddcountyukkvrkeysort.take(20):\n",
    "    print(i)"
   ]
  },
  {
   "cell_type": "markdown",
   "id": "175caf38",
   "metadata": {},
   "source": [
    "## Saving the data to S3"
   ]
  },
  {
   "cell_type": "code",
   "execution_count": 25,
   "id": "afc13ca7",
   "metadata": {},
   "outputs": [
    {
     "data": {
      "application/vnd.jupyter.widget-view+json": {
       "model_id": "",
       "version_major": 2,
       "version_minor": 0
      },
      "text/plain": [
       "FloatProgress(value=0.0, bar_style='info', description='Progress:', layout=Layout(height='25px', width='50%'),…"
      ]
     },
     "metadata": {},
     "output_type": "display_data"
    },
    {
     "name": "stdout",
     "output_type": "stream",
     "text": [
      "('Beverages', 48)\n",
      "('Clothes', 46)\n",
      "('Personal Care', 46)\n",
      "('Household', 46)\n",
      "('Cosmetics', 45)\n",
      "('Snacks', 44)\n",
      "('Vegetables', 42)\n",
      "('Office Supplies', 41)\n",
      "('Meat', 41)\n",
      "('Fruits', 40)\n",
      "('Baby Food', 39)\n",
      "('Cereal', 39)"
     ]
    }
   ],
   "source": [
    "## before saving the file to S3 let's do final transform\n",
    "\n",
    "rddcountyukkvrkeysort = rddcountyukkvrkeysort.map(lambda o : (o[1],o[0]))\n",
    "\n",
    "## print the value\n",
    "\n",
    "for i in rddcountyukkvrkeysort.take(20):\n",
    "    print(i)"
   ]
  },
  {
   "cell_type": "code",
   "execution_count": 25,
   "id": "98f09a6e",
   "metadata": {},
   "outputs": [
    {
     "data": {
      "application/vnd.jupyter.widget-view+json": {
       "model_id": "",
       "version_major": 2,
       "version_minor": 0
      },
      "text/plain": [
       "FloatProgress(value=0.0, bar_style='info', description='Progress:', layout=Layout(height='25px', width='50%'),…"
      ]
     },
     "metadata": {},
     "output_type": "display_data"
    }
   ],
   "source": [
    "## save the value to s3 as text/CSV file with Gzip compression\n",
    "\n",
    "sc._jsc.hadoopConfiguration().set(\"mapred.output.committer.class\", \"org.apache.hadoop.mapred.DirectFileOutputCommitter\")\n",
    "codec = \"org.apache.hadoop.io.compress.GzipCodec\"\n",
    "s3_output_path = 's3://{}/{}'.format(s3_bucket, \"input/lab2/result\")\n",
    "rddcountyukkvrkeysort.saveAsTextFile(s3_output_path + \"/part-0000*\" , codec)"
   ]
  },
  {
   "cell_type": "code",
   "execution_count": 26,
   "id": "ce3b7b3f",
   "metadata": {},
   "outputs": [
    {
     "data": {
      "application/vnd.jupyter.widget-view+json": {
       "model_id": "",
       "version_major": 2,
       "version_minor": 0
      },
      "text/plain": [
       "FloatProgress(value=0.0, bar_style='info', description='Progress:', layout=Layout(height='25px', width='50%'),…"
      ]
     },
     "metadata": {},
     "output_type": "display_data"
    }
   ],
   "source": [
    "import boto3\n",
    "from boto3 import session\n",
    "import pandas as pd\n",
    "\n",
    "session = boto3.session.Session(region_name='us-east-2')\n",
    "s3_client = session.client('s3')"
   ]
  },
  {
   "cell_type": "code",
   "execution_count": 27,
   "id": "d489b1dd",
   "metadata": {},
   "outputs": [
    {
     "data": {
      "application/vnd.jupyter.widget-view+json": {
       "model_id": "",
       "version_major": 2,
       "version_minor": 0
      },
      "text/plain": [
       "FloatProgress(value=0.0, bar_style='info', description='Progress:', layout=Layout(height='25px', width='50%'),…"
      ]
     },
     "metadata": {},
     "output_type": "display_data"
    }
   ],
   "source": [
    "\"\"\"\n",
    "    List objects in an S3 bucket.\n",
    "\n",
    "    :param bucket: Name of the S3 bucket.\n",
    "    :param prefix: Only fetch objects whose key starts with\n",
    "        this prefix (optional).\n",
    "    :param suffix: Only fetch objects whose keys end with\n",
    "        this suffix (optional).\n",
    "\"\"\"\n",
    "def get_all_s3_objects(bucket, prefix='', suffix=''):\n",
    "    \"\"\"Get a list of all keys in an S3 bucket.\"\"\"\n",
    "    paginator = s3_client.get_paginator(\"list_objects_v2\")\n",
    "\n",
    "    kwargs = {'Bucket': bucket}\n",
    "    if isinstance(prefix, str):\n",
    "        prefixes = (prefix, )\n",
    "    else:\n",
    "        prefixes = prefix\n",
    "\n",
    "    for key_prefix in prefixes:\n",
    "        kwargs[\"Prefix\"] = key_prefix\n",
    "\n",
    "        for page in paginator.paginate(**kwargs):\n",
    "            try:\n",
    "                contents = page[\"Contents\"]\n",
    "            except KeyError:\n",
    "                break\n",
    "\n",
    "            for obj in contents:\n",
    "                key = obj[\"Key\"]\n",
    "                if key.endswith(suffix) and key != prefix:\n",
    "                    yield obj\n",
    "\n",
    "\n",
    "def get_all_s3_keys(bucket, prefix=\"\", suffix=\"\"):\n",
    "    \"\"\"\n",
    "    Generate the keys in an S3 bucket.\n",
    "\n",
    "    :param bucket: Name of the S3 bucket.\n",
    "    :param prefix: Only fetch keys that start with this prefix (optional).\n",
    "    :param suffix: Only fetch keys that end with this suffix (optional).\n",
    "    \"\"\"\n",
    "    for obj in get_all_s3_objects(bucket, prefix, suffix):\n",
    "        yield obj[\"Key\"]"
   ]
  },
  {
   "cell_type": "code",
   "execution_count": 28,
   "id": "9b525287",
   "metadata": {},
   "outputs": [
    {
     "data": {
      "application/vnd.jupyter.widget-view+json": {
       "model_id": "",
       "version_major": 2,
       "version_minor": 0
      },
      "text/plain": [
       "FloatProgress(value=0.0, bar_style='info', description='Progress:', layout=Layout(height='25px', width='50%'),…"
      ]
     },
     "metadata": {},
     "output_type": "display_data"
    },
    {
     "name": "stdout",
     "output_type": "stream",
     "text": [
      "s3://glueworkshop-ray-us-east-2/input/lab2/result/part-0000*/part-00000.gz\n",
      "s3://glueworkshop-ray-us-east-2/input/lab2/result/part-0000*/part-00001.gz"
     ]
    }
   ],
   "source": [
    "\"\"\"\n",
    "Read the csv file from S3\n",
    "\n",
    "raw_board_csv_df = pd.read_csv(s3.open(file_path,mode='rb'), index_col=None, nrows=1, skipinitialspace=True, delim_whitespace=True)\n",
    "raw_board_csv_df = wr.s3.read_csv(file_path, index_col=None, nrows=1, skipinitialspace=True, delim_whitespace=True)\n",
    "\n",
    "Convert the csv to json as \n",
    "    {barcode=xxx, index=xxx, ... job= xxx, component=[{Component ID=aaa, Volume=bbb, Height=ccc ...}, {Component ID=aaa1, Volume=bbb1, Height=ccc1 ...}, ....]}\n",
    "\"\"\"\n",
    "# Reading remote files\n",
    "# https://pandas.pydata.org/pandas-docs/stable/user_guide/io.html#reading-remote-files\n",
    "# !pip install -i https://pypi.tuna.tsinghua.edu.cn/simple s3fs\n",
    "s3_csv_prefix = 'input/lab2/result/'\n",
    "for s3_key in get_all_s3_keys(s3_bucket, s3_csv_prefix):\n",
    "    file_path = 's3://{}/{}'.format(s3_bucket, s3_key)\n",
    "    print(file_path)"
   ]
  },
  {
   "cell_type": "markdown",
   "id": "ba406c18",
   "metadata": {},
   "source": [
    "## Calcuate sum of total reveue per Item Type"
   ]
  },
  {
   "cell_type": "code",
   "execution_count": 29,
   "id": "8368b2a5",
   "metadata": {},
   "outputs": [
    {
     "data": {
      "application/vnd.jupyter.widget-view+json": {
       "model_id": "",
       "version_major": 2,
       "version_minor": 0
      },
      "text/plain": [
       "FloatProgress(value=0.0, bar_style='info', description='Progress:', layout=Layout(height='25px', width='50%'),…"
      ]
     },
     "metadata": {},
     "output_type": "display_data"
    },
    {
     "name": "stdout",
     "output_type": "stream",
     "text": [
      "('Snacks', 33305620.14)\n",
      "('Clothes', 26638202.080000002)\n",
      "('Baby Food', 46536522.88000001)\n",
      "('Cereal', 42633382.000000015)\n",
      "('Cosmetics', 109017131.60000001)\n",
      "('Fruits', 1491064.62)\n",
      "('Personal Care', 19192247.25)\n",
      "('Office Supplies', 133824306.21000002)\n",
      "('Household', 165361406.69)\n",
      "('Beverages', 11407217.250000002)"
     ]
    }
   ],
   "source": [
    "# In this part; we are going to calculate sum of total revenue per item type\n",
    "\n",
    "# let's convert the data into key value pair to extract Item Type and Total Revenue  \n",
    " \n",
    "rddcountyukkv = rddcountyuk.map(lambda sl : (sl.split(',')[2],float(sl.split(',')[11])))\n",
    "\n",
    "# perform the sum by using reduceByKey()\n",
    "\n",
    "rddcountyukkvggregateByKey = rddcountyukkv.reduceByKey(lambda total, value : total + value )\n",
    "\n",
    "# print 10 values\n",
    "\n",
    "for i in rddcountyukkvggregateByKey.take(10):\n",
    "    print(i)\n"
   ]
  },
  {
   "cell_type": "markdown",
   "id": "4d9904dd",
   "metadata": {},
   "source": [
    "## Converting DataFrame from RDD"
   ]
  },
  {
   "cell_type": "code",
   "execution_count": 31,
   "id": "ef19a9d5",
   "metadata": {},
   "outputs": [
    {
     "data": {
      "application/vnd.jupyter.widget-view+json": {
       "model_id": "",
       "version_major": 2,
       "version_minor": 0
      },
      "text/plain": [
       "FloatProgress(value=0.0, bar_style='info', description='Progress:', layout=Layout(height='25px', width='50%'),…"
      ]
     },
     "metadata": {},
     "output_type": "display_data"
    },
    {
     "name": "stdout",
     "output_type": "stream",
     "text": [
      "<class 'pyspark.rdd.PipelinedRDD'>"
     ]
    }
   ],
   "source": [
    "# run one by one\n",
    "type(rddcountyukkvggregateByKey)"
   ]
  },
  {
   "cell_type": "code",
   "execution_count": 32,
   "id": "4a6877e9",
   "metadata": {},
   "outputs": [
    {
     "data": {
      "application/vnd.jupyter.widget-view+json": {
       "model_id": "",
       "version_major": 2,
       "version_minor": 0
      },
      "text/plain": [
       "FloatProgress(value=0.0, bar_style='info', description='Progress:', layout=Layout(height='25px', width='50%'),…"
      ]
     },
     "metadata": {},
     "output_type": "display_data"
    },
    {
     "name": "stdout",
     "output_type": "stream",
     "text": [
      "<class 'pyspark.sql.dataframe.DataFrame'>"
     ]
    }
   ],
   "source": [
    "rddcountyukkvggregateByKeyDF = rddcountyukkvggregateByKey.toDF()\n",
    "\n",
    "type(rddcountyukkvggregateByKeyDF)"
   ]
  },
  {
   "cell_type": "code",
   "execution_count": 33,
   "id": "ebed45e3",
   "metadata": {},
   "outputs": [
    {
     "data": {
      "application/vnd.jupyter.widget-view+json": {
       "model_id": "",
       "version_major": 2,
       "version_minor": 0
      },
      "text/plain": [
       "FloatProgress(value=0.0, bar_style='info', description='Progress:', layout=Layout(height='25px', width='50%'),…"
      ]
     },
     "metadata": {},
     "output_type": "display_data"
    },
    {
     "name": "stdout",
     "output_type": "stream",
     "text": [
      "root\n",
      " |-- _1: string (nullable = true)\n",
      " |-- _2: double (nullable = true)"
     ]
    }
   ],
   "source": [
    "rddcountyukkvggregateByKeyDF.printSchema()"
   ]
  },
  {
   "cell_type": "code",
   "execution_count": 34,
   "id": "78e55bb2",
   "metadata": {},
   "outputs": [
    {
     "data": {
      "application/vnd.jupyter.widget-view+json": {
       "model_id": "",
       "version_major": 2,
       "version_minor": 0
      },
      "text/plain": [
       "FloatProgress(value=0.0, bar_style='info', description='Progress:', layout=Layout(height='25px', width='50%'),…"
      ]
     },
     "metadata": {},
     "output_type": "display_data"
    }
   ],
   "source": [
    "# Create a schema for the dataframe\n",
    "\n",
    "from pyspark.sql.types import StructField, StructType, StringType, IntegerType , FloatType\n",
    "\n",
    "schema = StructType([\n",
    "    StructField('Item Type', StringType(), True),\n",
    "    StructField('Sum of Total Revenue', FloatType(), True)\n",
    "])"
   ]
  },
  {
   "cell_type": "code",
   "execution_count": 35,
   "id": "d6c81d1d",
   "metadata": {},
   "outputs": [
    {
     "data": {
      "application/vnd.jupyter.widget-view+json": {
       "model_id": "",
       "version_major": 2,
       "version_minor": 0
      },
      "text/plain": [
       "FloatProgress(value=0.0, bar_style='info', description='Progress:', layout=Layout(height='25px', width='50%'),…"
      ]
     },
     "metadata": {},
     "output_type": "display_data"
    },
    {
     "name": "stdout",
     "output_type": "stream",
     "text": [
      "+---------------+--------------------+\n",
      "|      Item Type|Sum of Total Revenue|\n",
      "+---------------+--------------------+\n",
      "|         Snacks|          3.330562E7|\n",
      "|        Clothes|         2.6638202E7|\n",
      "|      Baby Food|         4.6536524E7|\n",
      "|         Cereal|         4.2633384E7|\n",
      "|      Cosmetics|        1.09017128E8|\n",
      "|         Fruits|           1491064.6|\n",
      "|  Personal Care|         1.9192248E7|\n",
      "|Office Supplies|        1.33824304E8|\n",
      "|      Household|        1.65361408E8|\n",
      "|      Beverages|         1.1407217E7|\n",
      "|           Meat|         8.0643008E7|\n",
      "|     Vegetables|         3.2463986E7|\n",
      "+---------------+--------------------+"
     ]
    }
   ],
   "source": [
    "# Create data frame\n",
    "\n",
    "df = spark.createDataFrame(rddcountyukkvggregateByKey,schema)\n",
    "\n",
    "# show data frame\n",
    "\n",
    "df.show()"
   ]
  },
  {
   "cell_type": "markdown",
   "id": "155ddf44",
   "metadata": {},
   "source": [
    "# Work with DataFrame"
   ]
  },
  {
   "cell_type": "markdown",
   "id": "38671365",
   "metadata": {},
   "source": [
    "## Create the DataFrame"
   ]
  },
  {
   "cell_type": "code",
   "execution_count": 36,
   "id": "32248e72",
   "metadata": {},
   "outputs": [
    {
     "data": {
      "application/vnd.jupyter.widget-view+json": {
       "model_id": "",
       "version_major": 2,
       "version_minor": 0
      },
      "text/plain": [
       "FloatProgress(value=0.0, bar_style='info', description='Progress:', layout=Layout(height='25px', width='50%'),…"
      ]
     },
     "metadata": {},
     "output_type": "display_data"
    }
   ],
   "source": [
    "s3_sample_file = 's3://{}/{}'.format(s3_bucket, \"input/lab2/sample.csv\")\n",
    "df = spark.read.load(s3_sample_file, \n",
    "                          format=\"csv\", \n",
    "                          sep=\",\", \n",
    "                          inferSchema=\"true\",\n",
    "                          header=\"true\")"
   ]
  },
  {
   "cell_type": "code",
   "execution_count": 37,
   "id": "f6e4f646",
   "metadata": {},
   "outputs": [
    {
     "data": {
      "application/vnd.jupyter.widget-view+json": {
       "model_id": "",
       "version_major": 2,
       "version_minor": 0
      },
      "text/plain": [
       "FloatProgress(value=0.0, bar_style='info', description='Progress:', layout=Layout(height='25px', width='50%'),…"
      ]
     },
     "metadata": {},
     "output_type": "display_data"
    },
    {
     "name": "stdout",
     "output_type": "stream",
     "text": [
      "<class 'pyspark.sql.dataframe.DataFrame'>"
     ]
    }
   ],
   "source": [
    "type(df)"
   ]
  },
  {
   "cell_type": "code",
   "execution_count": 38,
   "id": "d4b17416",
   "metadata": {},
   "outputs": [
    {
     "data": {
      "application/vnd.jupyter.widget-view+json": {
       "model_id": "",
       "version_major": 2,
       "version_minor": 0
      },
      "text/plain": [
       "FloatProgress(value=0.0, bar_style='info', description='Progress:', layout=Layout(height='25px', width='50%'),…"
      ]
     },
     "metadata": {},
     "output_type": "display_data"
    },
    {
     "name": "stdout",
     "output_type": "stream",
     "text": [
      "root\n",
      " |-- uuid: integer (nullable = true)\n",
      " |-- Country: string (nullable = true)\n",
      " |-- ItemType: string (nullable = true)\n",
      " |-- SalesChannel: string (nullable = true)\n",
      " |-- OrderPriority: string (nullable = true)\n",
      " |-- OrderDate: string (nullable = true)\n",
      " |-- Region: string (nullable = true)\n",
      " |-- ShipDate: string (nullable = true)\n",
      " |-- UnitsSold: integer (nullable = true)\n",
      " |-- UnitPrice: double (nullable = true)\n",
      " |-- UnitCost: double (nullable = true)\n",
      " |-- TotalRevenue: double (nullable = true)\n",
      " |-- TotalCost: double (nullable = true)\n",
      " |-- TotalProfit: double (nullable = true)"
     ]
    }
   ],
   "source": [
    "# spark, sparkDFcsv are from the previous example\n",
    "# Print the schema in a tree format\n",
    "\n",
    "df.printSchema()"
   ]
  },
  {
   "cell_type": "code",
   "execution_count": 39,
   "id": "581c4374",
   "metadata": {},
   "outputs": [
    {
     "data": {
      "application/vnd.jupyter.widget-view+json": {
       "model_id": "",
       "version_major": 2,
       "version_minor": 0
      },
      "text/plain": [
       "FloatProgress(value=0.0, bar_style='info', description='Progress:', layout=Layout(height='25px', width='50%'),…"
      ]
     },
     "metadata": {},
     "output_type": "display_data"
    },
    {
     "name": "stdout",
     "output_type": "stream",
     "text": [
      "100000"
     ]
    }
   ],
   "source": [
    "## count the total no. of rows in DataFrame\n",
    "\n",
    "df.count()"
   ]
  },
  {
   "cell_type": "code",
   "execution_count": 40,
   "id": "f3cb27c2",
   "metadata": {},
   "outputs": [
    {
     "data": {
      "application/vnd.jupyter.widget-view+json": {
       "model_id": "",
       "version_major": 2,
       "version_minor": 0
      },
      "text/plain": [
       "FloatProgress(value=0.0, bar_style='info', description='Progress:', layout=Layout(height='25px', width='50%'),…"
      ]
     },
     "metadata": {},
     "output_type": "display_data"
    },
    {
     "name": "stdout",
     "output_type": "stream",
     "text": [
      "DataFrame[Country: string]"
     ]
    }
   ],
   "source": [
    "# Select only the \"Country\" column\n",
    "df.select('Country')"
   ]
  },
  {
   "cell_type": "code",
   "execution_count": 41,
   "id": "866db7a3",
   "metadata": {},
   "outputs": [
    {
     "data": {
      "application/vnd.jupyter.widget-view+json": {
       "model_id": "",
       "version_major": 2,
       "version_minor": 0
      },
      "text/plain": [
       "FloatProgress(value=0.0, bar_style='info', description='Progress:', layout=Layout(height='25px', width='50%'),…"
      ]
     },
     "metadata": {},
     "output_type": "display_data"
    },
    {
     "name": "stdout",
     "output_type": "stream",
     "text": [
      "+--------------------+\n",
      "|             Country|\n",
      "+--------------------+\n",
      "|          Azerbaijan|\n",
      "|              Panama|\n",
      "|Sao Tome and Prin...|\n",
      "|Sao Tome and Prin...|\n",
      "|              Belize|\n",
      "|             Denmark|\n",
      "|             Germany|\n",
      "|              Turkey|\n",
      "|      United Kingdom|\n",
      "|          Kazakhstan|\n",
      "|               Haiti|\n",
      "|               Italy|\n",
      "|               Malta|\n",
      "|              Jordan|\n",
      "|            Cambodia|\n",
      "|Saint Kitts and N...|\n",
      "|            Cameroon|\n",
      "|             Bahrain|\n",
      "|     Solomon Islands|\n",
      "|              Monaco|\n",
      "+--------------------+\n",
      "only showing top 20 rows"
     ]
    }
   ],
   "source": [
    "# Select only the \"Country\" column\n",
    "# calling action\n",
    "\n",
    "df.select('Country').show()"
   ]
  },
  {
   "cell_type": "code",
   "execution_count": 42,
   "id": "a0dbafcc",
   "metadata": {},
   "outputs": [
    {
     "data": {
      "application/vnd.jupyter.widget-view+json": {
       "model_id": "",
       "version_major": 2,
       "version_minor": 0
      },
      "text/plain": [
       "FloatProgress(value=0.0, bar_style='info', description='Progress:', layout=Layout(height='25px', width='50%'),…"
      ]
     },
     "metadata": {},
     "output_type": "display_data"
    },
    {
     "name": "stdout",
     "output_type": "stream",
     "text": [
      "+---------------------+\n",
      "|Country              |\n",
      "+---------------------+\n",
      "|Azerbaijan           |\n",
      "|Panama               |\n",
      "|Sao Tome and Principe|\n",
      "|Sao Tome and Principe|\n",
      "|Belize               |\n",
      "|Denmark              |\n",
      "|Germany              |\n",
      "|Turkey               |\n",
      "|United Kingdom       |\n",
      "|Kazakhstan           |\n",
      "+---------------------+\n",
      "only showing top 10 rows"
     ]
    }
   ],
   "source": [
    "df.select('Country').show(10,truncate=False)"
   ]
  },
  {
   "cell_type": "code",
   "execution_count": 43,
   "id": "257cdd7e",
   "metadata": {},
   "outputs": [
    {
     "data": {
      "application/vnd.jupyter.widget-view+json": {
       "model_id": "",
       "version_major": 2,
       "version_minor": 0
      },
      "text/plain": [
       "FloatProgress(value=0.0, bar_style='info', description='Progress:', layout=Layout(height='25px', width='50%'),…"
      ]
     },
     "metadata": {},
     "output_type": "display_data"
    },
    {
     "name": "stdout",
     "output_type": "stream",
     "text": [
      "+---------------------+-------------+------------+------------+\n",
      "|Country              |ItemType     |SalesChannel|TotalRevenue|\n",
      "+---------------------+-------------+------------+------------+\n",
      "|Azerbaijan           |Snacks       |Online      |142509.72   |\n",
      "|Panama               |Cosmetics    |Offline     |1989697.2   |\n",
      "|Sao Tome and Principe|Fruits       |Offline     |93169.38    |\n",
      "|Sao Tome and Principe|Personal Care|Online      |745214.14   |\n",
      "|Belize               |Household    |Offline     |3914725.66  |\n",
      "|Denmark              |Clothes      |Online      |125562.72   |\n",
      "|Germany              |Cosmetics    |Offline     |3481860.8   |\n",
      "|Turkey               |Fruits       |Online      |58844.31    |\n",
      "|United Kingdom       |Snacks       |Online      |1253749.86  |\n",
      "|Kazakhstan           |Cosmetics    |Online      |1205797.6   |\n",
      "+---------------------+-------------+------------+------------+\n",
      "only showing top 10 rows"
     ]
    }
   ],
   "source": [
    "### show multiple columns and create new dataframe\n",
    "\n",
    "dfselect = df.select(df['Country'], df['ItemType'], df['SalesChannel'],df['TotalRevenue'])\n",
    "\n",
    "dfselect.show(10,truncate=False)"
   ]
  },
  {
   "cell_type": "code",
   "execution_count": 44,
   "id": "d22a545c",
   "metadata": {},
   "outputs": [
    {
     "data": {
      "application/vnd.jupyter.widget-view+json": {
       "model_id": "",
       "version_major": 2,
       "version_minor": 0
      },
      "text/plain": [
       "FloatProgress(value=0.0, bar_style='info', description='Progress:', layout=Layout(height='25px', width='50%'),…"
      ]
     },
     "metadata": {},
     "output_type": "display_data"
    },
    {
     "name": "stdout",
     "output_type": "stream",
     "text": [
      "+--------------+---------------+------------+------------+\n",
      "|Country       |ItemType       |SalesChannel|TotalRevenue|\n",
      "+--------------+---------------+------------+------------+\n",
      "|United Kingdom|Snacks         |Online      |1253749.86  |\n",
      "|United Kingdom|Clothes        |Offline     |961008.32   |\n",
      "|United Kingdom|Personal Care  |Offline     |337626.63   |\n",
      "|United Kingdom|Office Supplies|Offline     |3431876.7   |\n",
      "|United Kingdom|Personal Care  |Offline     |161988.86   |\n",
      "|United Kingdom|Personal Care  |Online      |673863.85   |\n",
      "|United Kingdom|Personal Care  |Online      |380534.88   |\n",
      "|United Kingdom|Baby Food      |Offline     |16593.2     |\n",
      "|United Kingdom|Household      |Offline     |5328116.71  |\n",
      "|United Kingdom|Cereal         |Offline     |825679.8    |\n",
      "+--------------+---------------+------------+------------+\n",
      "only showing top 10 rows"
     ]
    }
   ],
   "source": [
    "### Filter by country\n",
    "\n",
    "dfselect.filter(dfselect['Country'] == 'United Kingdom').show(10,truncate=False)"
   ]
  },
  {
   "cell_type": "code",
   "execution_count": 45,
   "id": "98694914",
   "metadata": {},
   "outputs": [
    {
     "data": {
      "application/vnd.jupyter.widget-view+json": {
       "model_id": "",
       "version_major": 2,
       "version_minor": 0
      },
      "text/plain": [
       "FloatProgress(value=0.0, bar_style='info', description='Progress:', layout=Layout(height='25px', width='50%'),…"
      ]
     },
     "metadata": {},
     "output_type": "display_data"
    },
    {
     "name": "stdout",
     "output_type": "stream",
     "text": [
      "+--------------+-------------+------------+------------+\n",
      "|Country       |ItemType     |SalesChannel|TotalRevenue|\n",
      "+--------------+-------------+------------+------------+\n",
      "|United Kingdom|Personal Care|Offline     |161988.86   |\n",
      "|United Kingdom|Baby Food    |Offline     |16593.2     |\n",
      "|United Kingdom|Personal Care|Offline     |181277.14   |\n",
      "|United Kingdom|Vegetables   |Offline     |91665.7     |\n",
      "|United Kingdom|Fruits       |Online      |33317.43    |\n",
      "|United Kingdom|Fruits       |Online      |35080.8     |\n",
      "|United Kingdom|Snacks       |Offline     |24260.22    |\n",
      "|United Kingdom|Fruits       |Online      |78810.51    |\n",
      "|United Kingdom|Snacks       |Offline     |108789.54   |\n",
      "|United Kingdom|Fruits       |Online      |75386.4     |\n",
      "+--------------+-------------+------------+------------+\n",
      "only showing top 10 rows"
     ]
    }
   ],
   "source": [
    "### Filter by country and Total Revenue and create new dataframe\n",
    "\n",
    "dfselectfilter = dfselect.filter((dfselect['Country'] == 'United Kingdom') & (dfselect['TotalRevenue'] <= 200000.00))\n",
    "\n",
    "dfselectfilter.show(10,truncate=False)"
   ]
  },
  {
   "cell_type": "code",
   "execution_count": 46,
   "id": "14c38afc",
   "metadata": {},
   "outputs": [
    {
     "data": {
      "application/vnd.jupyter.widget-view+json": {
       "model_id": "",
       "version_major": 2,
       "version_minor": 0
      },
      "text/plain": [
       "FloatProgress(value=0.0, bar_style='info', description='Progress:', layout=Layout(height='25px', width='50%'),…"
      ]
     },
     "metadata": {},
     "output_type": "display_data"
    },
    {
     "name": "stdout",
     "output_type": "stream",
     "text": [
      "+---------------+-----------------+\n",
      "|ItemType       |sum(TotalRevenue)|\n",
      "+---------------+-----------------+\n",
      "|Baby Food      |180482.96        |\n",
      "|Cereal         |470435.9         |\n",
      "|Household      |177091.55        |\n",
      "|Vegetables     |1096136.9        |\n",
      "|Beverages      |2300803.05       |\n",
      "|Office Supplies|172570.65        |\n",
      "|Cosmetics      |73886.8          |\n",
      "|Personal Care  |1086927.27       |\n",
      "|Fruits         |1491064.62       |\n",
      "|Snacks         |414407.28        |\n",
      "+---------------+-----------------+\n",
      "only showing top 10 rows"
     ]
    }
   ],
   "source": [
    "dfselectfiltergroupby = dfselectfilter.groupBy(\"ItemType\").sum(\"TotalRevenue\")\n",
    "\n",
    "dfselectfiltergroupby.show(10,truncate=False)"
   ]
  },
  {
   "cell_type": "code",
   "execution_count": 47,
   "id": "97bc7b59",
   "metadata": {},
   "outputs": [
    {
     "data": {
      "application/vnd.jupyter.widget-view+json": {
       "model_id": "",
       "version_major": 2,
       "version_minor": 0
      },
      "text/plain": [
       "FloatProgress(value=0.0, bar_style='info', description='Progress:', layout=Layout(height='25px', width='50%'),…"
      ]
     },
     "metadata": {},
     "output_type": "display_data"
    },
    {
     "name": "stdout",
     "output_type": "stream",
     "text": [
      "+---------------+-----------------+\n",
      "|ItemType       |sum(TotalRevenue)|\n",
      "+---------------+-----------------+\n",
      "|Beverages      |2300803.05       |\n",
      "|Fruits         |1491064.62       |\n",
      "|Vegetables     |1096136.9        |\n",
      "|Personal Care  |1086927.27       |\n",
      "|Clothes        |967565.1199999999|\n",
      "|Cereal         |470435.9         |\n",
      "|Snacks         |414407.28        |\n",
      "|Baby Food      |180482.96        |\n",
      "|Household      |177091.55        |\n",
      "|Office Supplies|172570.65        |\n",
      "+---------------+-----------------+\n",
      "only showing top 10 rows"
     ]
    }
   ],
   "source": [
    "dfselectfiltergroupbyorderby = dfselectfiltergroupby.orderBy(\"sum(TotalRevenue)\", ascending=False)\n",
    "\n",
    "dfselectfiltergroupbyorderby.show(10,truncate=False)"
   ]
  },
  {
   "cell_type": "markdown",
   "id": "5d9e1511",
   "metadata": {},
   "source": [
    "# USING 3RD PARTY LIBRARY"
   ]
  },
  {
   "cell_type": "code",
   "execution_count": 48,
   "id": "7c059c5b",
   "metadata": {},
   "outputs": [
    {
     "data": {
      "application/vnd.jupyter.widget-view+json": {
       "model_id": "",
       "version_major": 2,
       "version_minor": 0
      },
      "text/plain": [
       "FloatProgress(value=0.0, bar_style='info', description='Progress:', layout=Layout(height='25px', width='50%'),…"
      ]
     },
     "metadata": {},
     "output_type": "display_data"
    }
   ],
   "source": [
    "from pyspark.sql.functions import udf, col\n",
    "from pyspark.sql.types import IntegerType, StringType\n",
    "from pyspark import SparkContext\n",
    "from pyspark.sql import SQLContext\n",
    "\n",
    "from datetime import datetime\n",
    "from pycountry_convert import (\n",
    "    convert_country_alpha2_to_country_name,\n",
    "    convert_country_alpha2_to_continent,\n",
    "    convert_country_name_to_country_alpha2,\n",
    "    convert_country_alpha3_to_country_alpha2,\n",
    ")"
   ]
  },
  {
   "cell_type": "code",
   "execution_count": 49,
   "id": "f8b8c833",
   "metadata": {},
   "outputs": [
    {
     "data": {
      "application/vnd.jupyter.widget-view+json": {
       "model_id": "",
       "version_major": 2,
       "version_minor": 0
      },
      "text/plain": [
       "FloatProgress(value=0.0, bar_style='info', description='Progress:', layout=Layout(height='25px', width='50%'),…"
      ]
     },
     "metadata": {},
     "output_type": "display_data"
    }
   ],
   "source": [
    "def get_country_code2(country_name):\n",
    "    country_code2 = 'US'\n",
    "    try:\n",
    "        country_code2 = convert_country_name_to_country_alpha2(country_name)\n",
    "    except KeyError:\n",
    "        country_code2 = ''\n",
    "    return country_code2\n",
    "\n",
    "udf_get_country_code2 = udf(lambda z: get_country_code2(z), StringType())"
   ]
  },
  {
   "cell_type": "code",
   "execution_count": 50,
   "id": "e03e84d5",
   "metadata": {},
   "outputs": [
    {
     "data": {
      "application/vnd.jupyter.widget-view+json": {
       "model_id": "",
       "version_major": 2,
       "version_minor": 0
      },
      "text/plain": [
       "FloatProgress(value=0.0, bar_style='info', description='Progress:', layout=Layout(height='25px', width='50%'),…"
      ]
     },
     "metadata": {},
     "output_type": "display_data"
    },
    {
     "name": "stdout",
     "output_type": "stream",
     "text": [
      "root\n",
      " |-- uuid: integer (nullable = true)\n",
      " |-- Country: string (nullable = true)\n",
      " |-- ItemType: string (nullable = true)\n",
      " |-- SalesChannel: string (nullable = true)\n",
      " |-- OrderPriority: string (nullable = true)\n",
      " |-- OrderDate: string (nullable = true)\n",
      " |-- Region: string (nullable = true)\n",
      " |-- ShipDate: string (nullable = true)\n",
      " |-- UnitsSold: integer (nullable = true)\n",
      " |-- UnitPrice: double (nullable = true)\n",
      " |-- UnitCost: double (nullable = true)\n",
      " |-- TotalRevenue: double (nullable = true)\n",
      " |-- TotalCost: double (nullable = true)\n",
      " |-- TotalProfit: double (nullable = true)\n",
      " |-- country_code_2: string (nullable = true)"
     ]
    }
   ],
   "source": [
    "new_df = df.withColumn('country_code_2', udf_get_country_code2(col(\"Country\")))\n",
    "new_df.printSchema()"
   ]
  },
  {
   "cell_type": "code",
   "execution_count": 51,
   "id": "c2cf23a2",
   "metadata": {},
   "outputs": [
    {
     "data": {
      "application/vnd.jupyter.widget-view+json": {
       "model_id": "",
       "version_major": 2,
       "version_minor": 0
      },
      "text/plain": [
       "FloatProgress(value=0.0, bar_style='info', description='Progress:', layout=Layout(height='25px', width='50%'),…"
      ]
     },
     "metadata": {},
     "output_type": "display_data"
    },
    {
     "name": "stdout",
     "output_type": "stream",
     "text": [
      "+---------+--------------------+-------------+------------+-------------+---------+--------------------+--------+---------+---------+--------+------------+----------+-----------+--------------+\n",
      "|     uuid|             Country|     ItemType|SalesChannel|OrderPriority|OrderDate|              Region|ShipDate|UnitsSold|UnitPrice|UnitCost|TotalRevenue| TotalCost|TotalProfit|country_code_2|\n",
      "+---------+--------------------+-------------+------------+-------------+---------+--------------------+--------+---------+---------+--------+------------+----------+-----------+--------------+\n",
      "|535113847|          Azerbaijan|       Snacks|      Online|            C|  10/8/14|Middle East and N...|10/23/14|      934|   152.58|   97.44|   142509.72|  91008.96|   51500.76|            AZ|\n",
      "|874708545|              Panama|    Cosmetics|     Offline|            L|  2/22/15|Central America a...| 2/27/15|     4551|    437.2|  263.33|   1989697.2|1198414.83|  791282.37|            PA|\n",
      "|854349935|Sao Tome and Prin...|       Fruits|     Offline|            M|  12/9/15|  Sub-Saharan Africa| 1/18/16|     9986|     9.33|    6.92|    93169.38|  69103.12|   24066.26|              |\n",
      "|892836844|Sao Tome and Prin...|Personal Care|      Online|            M|  9/17/14|  Sub-Saharan Africa|10/12/14|     9118|    81.73|   56.67|   745214.14| 516717.06|  228497.08|              |\n",
      "|129280602|              Belize|    Household|     Offline|            H|   2/4/10|Central America a...|  3/5/10|     5858|   668.27|  502.54|  3914725.66|2943879.32|  970846.34|            BZ|\n",
      "|473105037|             Denmark|      Clothes|      Online|            C|  2/20/13|              Europe| 2/28/13|     1149|   109.28|   35.84|   125562.72|  41180.16|   84382.56|            DK|\n",
      "|754046475|             Germany|    Cosmetics|     Offline|            M|  3/31/13|              Europe|  5/3/13|     7964|    437.2|  263.33|   3481860.8|2097160.12| 1384700.68|            DE|\n",
      "|772153747|              Turkey|       Fruits|      Online|            C|  3/26/12|Middle East and N...|  4/7/12|     6307|     9.33|    6.92|    58844.31|  43644.44|   15199.87|            TR|\n",
      "|847788178|      United Kingdom|       Snacks|      Online|            H| 12/29/12|              Europe| 1/15/13|     8217|   152.58|   97.44|  1253749.86| 800664.48|  453085.38|            GB|\n",
      "|471623599|          Kazakhstan|    Cosmetics|      Online|            H|  9/11/15|                Asia| 9/18/15|     2758|    437.2|  263.33|   1205797.6| 726264.14|  479533.46|            KZ|\n",
      "+---------+--------------------+-------------+------------+-------------+---------+--------------------+--------+---------+---------+--------+------------+----------+-----------+--------------+\n",
      "only showing top 10 rows"
     ]
    }
   ],
   "source": [
    "new_df.show(10)"
   ]
  },
  {
   "cell_type": "markdown",
   "id": "cc6855d8",
   "metadata": {},
   "source": [
    "# USING DATA CATALOG"
   ]
  },
  {
   "cell_type": "code",
   "execution_count": 53,
   "id": "003360c3",
   "metadata": {},
   "outputs": [
    {
     "data": {
      "application/vnd.jupyter.widget-view+json": {
       "model_id": "",
       "version_major": 2,
       "version_minor": 0
      },
      "text/plain": [
       "FloatProgress(value=0.0, bar_style='info', description='Progress:', layout=Layout(height='25px', width='50%'),…"
      ]
     },
     "metadata": {},
     "output_type": "display_data"
    },
    {
     "name": "stdout",
     "output_type": "stream",
     "text": [
      "root\n",
      "|-- uuid: long\n",
      "|-- country: string\n",
      "|-- item type: string\n",
      "|-- sales channel: string\n",
      "|-- order priority: string\n",
      "|-- order date: string\n",
      "|-- region: string\n",
      "|-- ship date: string\n",
      "|-- units sold: long\n",
      "|-- unit price: double\n",
      "|-- unit cost: double\n",
      "|-- total revenue: double\n",
      "|-- total cost: double\n",
      "|-- total profit: double"
     ]
    }
   ],
   "source": [
    "import sys\n",
    "from awsglue.transforms import *\n",
    "from awsglue.utils import getResolvedOptions\n",
    "from pyspark.context import SparkContext\n",
    "from awsglue.context import GlueContext\n",
    "from awsglue.job import Job\n",
    "from awsglue.dynamicframe import DynamicFrame\n",
    "\n",
    "glueContext = GlueContext(SparkContext.getOrCreate())\n",
    "\n",
    "dynamic_frame = glueContext.create_dynamic_frame.from_catalog(database=\"console-glueworkshop\", table_name=\"console_glueworkshop_csv\")\n",
    "dynamic_frame.printSchema()"
   ]
  },
  {
   "cell_type": "code",
   "execution_count": 54,
   "id": "15a3473e",
   "metadata": {},
   "outputs": [
    {
     "data": {
      "application/vnd.jupyter.widget-view+json": {
       "model_id": "",
       "version_major": 2,
       "version_minor": 0
      },
      "text/plain": [
       "FloatProgress(value=0.0, bar_style='info', description='Progress:', layout=Layout(height='25px', width='50%'),…"
      ]
     },
     "metadata": {},
     "output_type": "display_data"
    },
    {
     "name": "stdout",
     "output_type": "stream",
     "text": [
      "+---------+--------------------+-------------+-------------+--------------+----------+--------------------+---------+----------+----------+---------+-------------+----------+------------+\n",
      "|     uuid|             country|    item type|sales channel|order priority|order date|              region|ship date|units sold|unit price|unit cost|total revenue|total cost|total profit|\n",
      "+---------+--------------------+-------------+-------------+--------------+----------+--------------------+---------+----------+----------+---------+-------------+----------+------------+\n",
      "|535113847|          Azerbaijan|       Snacks|       Online|             C|   10/8/14|Middle East and N...| 10/23/14|       934|    152.58|    97.44|    142509.72|  91008.96|    51500.76|\n",
      "|874708545|              Panama|    Cosmetics|      Offline|             L|   2/22/15|Central America a...|  2/27/15|      4551|     437.2|   263.33|    1989697.2|1198414.83|   791282.37|\n",
      "|854349935|Sao Tome and Prin...|       Fruits|      Offline|             M|   12/9/15|  Sub-Saharan Africa|  1/18/16|      9986|      9.33|     6.92|     93169.38|  69103.12|    24066.26|\n",
      "|892836844|Sao Tome and Prin...|Personal Care|       Online|             M|   9/17/14|  Sub-Saharan Africa| 10/12/14|      9118|     81.73|    56.67|    745214.14| 516717.06|   228497.08|\n",
      "|129280602|              Belize|    Household|      Offline|             H|    2/4/10|Central America a...|   3/5/10|      5858|    668.27|   502.54|   3914725.66|2943879.32|   970846.34|\n",
      "|473105037|             Denmark|      Clothes|       Online|             C|   2/20/13|              Europe|  2/28/13|      1149|    109.28|    35.84|    125562.72|  41180.16|    84382.56|\n",
      "|754046475|             Germany|    Cosmetics|      Offline|             M|   3/31/13|              Europe|   5/3/13|      7964|     437.2|   263.33|    3481860.8|2097160.12|  1384700.68|\n",
      "|772153747|              Turkey|       Fruits|       Online|             C|   3/26/12|Middle East and N...|   4/7/12|      6307|      9.33|     6.92|     58844.31|  43644.44|    15199.87|\n",
      "|847788178|      United Kingdom|       Snacks|       Online|             H|  12/29/12|              Europe|  1/15/13|      8217|    152.58|    97.44|   1253749.86| 800664.48|   453085.38|\n",
      "|471623599|          Kazakhstan|    Cosmetics|       Online|             H|   9/11/15|                Asia|  9/18/15|      2758|     437.2|   263.33|    1205797.6| 726264.14|   479533.46|\n",
      "+---------+--------------------+-------------+-------------+--------------+----------+--------------------+---------+----------+----------+---------+-------------+----------+------------+\n",
      "only showing top 10 rows"
     ]
    }
   ],
   "source": [
    "dynamic_frame.toDF().show(10)"
   ]
  },
  {
   "cell_type": "code",
   "execution_count": null,
   "id": "21b139a6",
   "metadata": {},
   "outputs": [],
   "source": []
  }
 ],
 "metadata": {
  "kernelspec": {
   "display_name": "Sparkmagic (PySpark)",
   "language": "python",
   "name": "pysparkkernel"
  },
  "language_info": {
   "codemirror_mode": {
    "name": "python",
    "version": 3
   },
   "file_extension": ".py",
   "mimetype": "text/x-python",
   "name": "pyspark",
   "pygments_lexer": "python3"
  }
 },
 "nbformat": 4,
 "nbformat_minor": 5
}
