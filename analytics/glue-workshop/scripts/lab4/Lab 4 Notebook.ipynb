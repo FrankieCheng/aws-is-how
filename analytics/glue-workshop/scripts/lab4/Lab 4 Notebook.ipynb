{
 "cells": [
  {
   "cell_type": "code",
   "execution_count": 1,
   "id": "5e9f1360",
   "metadata": {},
   "outputs": [
    {
     "name": "stdout",
     "output_type": "stream",
     "text": [
      "Starting Spark application\n"
     ]
    },
    {
     "data": {
      "text/html": [
       "<table>\n",
       "<tr><th>ID</th><th>YARN Application ID</th><th>Kind</th><th>State</th><th>Spark UI</th><th>Driver log</th><th>User</th><th>Current session?</th></tr><tr><td>6</td><td>application_1623861101193_0007</td><td>pyspark</td><td>idle</td><td><a target=\"_blank\" href=\"http://ip-172-32-26-31.us-east-2.compute.internal:20888/proxy/application_1623861101193_0007/\">Link</a></td><td><a target=\"_blank\" href=\"http://ip-172-32-26-52.us-east-2.compute.internal:8042/node/containerlogs/container_1623861101193_0007_01_000001/livy\">Link</a></td><td>None</td><td>✔</td></tr></table>"
      ],
      "text/plain": [
       "<IPython.core.display.HTML object>"
      ]
     },
     "metadata": {},
     "output_type": "display_data"
    },
    {
     "data": {
      "application/vnd.jupyter.widget-view+json": {
       "model_id": "",
       "version_major": 2,
       "version_minor": 0
      },
      "text/plain": [
       "FloatProgress(value=0.0, bar_style='info', description='Progress:', layout=Layout(height='25px', width='50%'),…"
      ]
     },
     "metadata": {},
     "output_type": "display_data"
    },
    {
     "name": "stdout",
     "output_type": "stream",
     "text": [
      "SparkSession available as 'spark'.\n"
     ]
    },
    {
     "data": {
      "application/vnd.jupyter.widget-view+json": {
       "model_id": "",
       "version_major": 2,
       "version_minor": 0
      },
      "text/plain": [
       "FloatProgress(value=0.0, bar_style='info', description='Progress:', layout=Layout(height='25px', width='50%'),…"
      ]
     },
     "metadata": {},
     "output_type": "display_data"
    }
   ],
   "source": [
    "import sys\n",
    "from awsglue.transforms import *\n",
    "from awsglue.utils import getResolvedOptions\n",
    "from pyspark.context import SparkContext\n",
    "from awsglue.context import GlueContext\n",
    "from awsglue.job import Job\n",
    "from awsglue.dynamicframe import DynamicFrame\n",
    "from pyspark.sql.functions import udf, col\n",
    "from pyspark.sql.types import IntegerType, StringType\n",
    "from pyspark import SparkContext\n",
    "from pyspark.sql import SQLContext\n",
    "from datetime import datetime\n",
    "\n",
    "glueContext = GlueContext(SparkContext.getOrCreate())\n",
    "s3_bucket = \"s3://glueworkshop-ray-us-east-2\"\n",
    "output_path = s3_bucket + \"/output/lab4/notebook/\"\n",
    "job_time_string = datetime.now().strftime(\"%Y%m%d%H%M%S\")\n",
    "s3_target = output_path + job_time_string"
   ]
  },
  {
   "cell_type": "code",
   "execution_count": 2,
   "id": "87933ca4",
   "metadata": {},
   "outputs": [
    {
     "data": {
      "application/vnd.jupyter.widget-view+json": {
       "model_id": "",
       "version_major": 2,
       "version_minor": 0
      },
      "text/plain": [
       "FloatProgress(value=0.0, bar_style='info', description='Progress:', layout=Layout(height='25px', width='50%'),…"
      ]
     },
     "metadata": {},
     "output_type": "display_data"
    }
   ],
   "source": [
    "country_lookup_frame = glueContext.create_dynamic_frame.from_options(\n",
    "                            format_options = {\"withHeader\":True, \"separator\":\",\", \"quoteChar\":\"\\\"\"},\n",
    "                            connection_type = \"s3\", \n",
    "                            format = \"csv\", \n",
    "                            connection_options = {\"paths\": [s3_bucket + \"/input/lab4/country_lookup/\"], \"recurse\":True}, \n",
    "                            transformation_ctx = \"coutry_lookup_frame\")"
   ]
  },
  {
   "cell_type": "code",
   "execution_count": 3,
   "id": "412dfd3e",
   "metadata": {},
   "outputs": [
    {
     "data": {
      "application/vnd.jupyter.widget-view+json": {
       "model_id": "",
       "version_major": 2,
       "version_minor": 0
      },
      "text/plain": [
       "FloatProgress(value=0.0, bar_style='info', description='Progress:', layout=Layout(height='25px', width='50%'),…"
      ]
     },
     "metadata": {},
     "output_type": "display_data"
    }
   ],
   "source": [
    "def processBatch(data_frame, batchId):\n",
    "    if (data_frame.count() > 0):\n",
    "        dynamic_frame = DynamicFrame.fromDF(data_frame, glueContext, \"from_data_frame\")\n",
    "        apply_mapping = ApplyMapping.apply(frame=dynamic_frame, mappings=[\n",
    "            (\"uuid\", \"string\", \"uuid\", \"string\"),\n",
    "            (\"country\", \"string\", \"country\", \"string\"),\n",
    "            (\"itemtype\", \"string\", \"itemtype\", \"string\"),\n",
    "            (\"saleschannel\", \"string\", \"saleschannel\", \"string\"),\n",
    "            (\"orderpriority\", \"string\", \"orderpriority\", \"string\"),\n",
    "            (\"orderdate\", \"string\", \"orderdate\", \"string\"),\n",
    "            (\"region\", \"string\", \"region\", \"string\"),\n",
    "            (\"shipdate\", \"string\", \"shipdate\", \"string\"),\n",
    "            (\"unitssold\", \"string\", \"unitssold\", \"string\"),\n",
    "            (\"unitprice\", \"string\", \"unitprice\", \"string\"),\n",
    "            (\"unitcost\", \"string\", \"unitcost\", \"string\"),\n",
    "            (\"totalrevenue\", \"string\", \"totalrevenue\", \"string\"),\n",
    "            (\"totalcost\", \"string\", \"totalcost\", \"string\"),\n",
    "            (\"totalprofit\", \"string\", \"totalprofit\", \"string\")],\n",
    "                                           transformation_ctx=\"apply_mapping\")\n",
    "\n",
    "        final_frame = Join.apply(apply_mapping, country_lookup_frame, 'country', 'CountryName').drop_fields(\n",
    "            ['CountryName', 'country', 'unitprice', 'unitcost', 'totalrevenue', 'totalcost', 'total profit'])\n",
    "\n",
    "        s3sink = glueContext.write_dynamic_frame.from_options(frame=final_frame,\n",
    "                                                              connection_type=\"s3\",\n",
    "                                                              connection_options={\"path\": s3_target},\n",
    "                                                              format=\"csv\",\n",
    "                                                              transformation_ctx=\"s3sink\")"
   ]
  },
  {
   "cell_type": "code",
   "execution_count": 4,
   "id": "6aa56272",
   "metadata": {},
   "outputs": [
    {
     "data": {
      "application/vnd.jupyter.widget-view+json": {
       "model_id": "",
       "version_major": 2,
       "version_minor": 0
      },
      "text/plain": [
       "FloatProgress(value=0.0, bar_style='info', description='Progress:', layout=Layout(height='25px', width='50%'),…"
      ]
     },
     "metadata": {},
     "output_type": "display_data"
    }
   ],
   "source": [
    "dynaFrame = glueContext.create_dynamic_frame.from_catalog(database=\"glueworkshop-cloudformation\", \n",
    "                                                          table_name=\"json-static-table\")\n",
    "processBatch(dynaFrame.toDF(), \"12\")"
   ]
  },
  {
   "cell_type": "code",
   "execution_count": null,
   "id": "0734f3b9",
   "metadata": {},
   "outputs": [],
   "source": []
  }
 ],
 "metadata": {
  "kernelspec": {
   "display_name": "Sparkmagic (PySpark)",
   "language": "python",
   "name": "pysparkkernel"
  },
  "language_info": {
   "codemirror_mode": {
    "name": "python",
    "version": 3
   },
   "file_extension": ".py",
   "mimetype": "text/x-python",
   "name": "pyspark",
   "pygments_lexer": "python3"
  }
 },
 "nbformat": 4,
 "nbformat_minor": 5
}
