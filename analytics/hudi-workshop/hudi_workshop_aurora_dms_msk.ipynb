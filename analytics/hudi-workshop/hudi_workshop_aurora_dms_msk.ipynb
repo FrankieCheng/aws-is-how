{
 "cells": [
  {
   "cell_type": "markdown",
   "metadata": {},
   "source": [
    "# 实验1-AURORA+DMS+MSK数据流"
   ]
  },
  {
   "cell_type": "markdown",
   "metadata": {},
   "source": [
    "## Aurora MySQL作为源数据库"
   ]
  },
  {
   "cell_type": "code",
   "execution_count": 1,
   "metadata": {},
   "outputs": [
    {
     "name": "stdout",
     "output_type": "stream",
     "text": [
      "(('CUSTOMER',),)\n",
      "(('CUSTOMER_SITE',),)\n",
      "(('PRODUCT',),)\n",
      "(('PRODUCT_CATEGORY',),)\n",
      "(('SALES_ORDER',),)\n",
      "(('SALES_ORDER_ALL',),)\n",
      "(('SALES_ORDER_DETAIL',),)\n",
      "(('SALES_ORDER_DETAIL_DS',),)\n",
      "(('SALES_ORDER_V',),)\n",
      "(('SUPPLIER',),)\n"
     ]
    }
   ],
   "source": [
    "import MySQLdb,random,time\n",
    "\n",
    "host = 'hudi-workshop-auroracluster-1sq2oz2vmrcll.cluster-cznqsqgcjv3s.rds.cn-northwest-1.amazonaws.com.cn'\n",
    "user = 'master'\n",
    "password = 'S3cretPwd99'\n",
    "port = 3306\n",
    "db = 'salesdb'\n",
    "\n",
    "conn = MySQLdb.Connection(\n",
    "    host=host,\n",
    "    user=user,\n",
    "    passwd=password,\n",
    "    port=port,\n",
    "    db=db\n",
    ")\n",
    "\n",
    "def execute_sql(sql):\n",
    "    conn.query(sql)\n",
    "    result = conn.store_result()\n",
    "    for i in range(result.num_rows()):\n",
    "        print(result.fetch_row())\n",
    "        \n",
    "def execute_dml(sql):\n",
    "    conn.query(sql)\n",
    "    rowcount = conn.affected_rows()\n",
    "    print (\"Rows updated: %d\"%rowcount)\n",
    "    conn.commit()\n",
    "\n",
    "execute_sql(\"show tables\")\n"
   ]
  },
  {
   "cell_type": "markdown",
   "metadata": {},
   "source": [
    "这是一个通用的SALES OLTP模式。在上面的表中，SALES_ORDER_DETAIL是我们将模拟更新的表。\n",
    "\n",
    "让我们以SALES_ORDER_DETAIL表中的随机顺序执行一次更新。"
   ]
  },
  {
   "cell_type": "code",
   "execution_count": 2,
   "metadata": {},
   "outputs": [
    {
     "name": "stdout",
     "output_type": "stream",
     "text": [
      "Original Values: \n",
      "((20153, 1, 111),)\n",
      "((20153, 1, 60),)\n",
      "((20153, 1, 52),)\n",
      "((20153, 1, 101),)\n",
      "Rows updated: 4\n",
      "Updated Values: \n",
      "((20153, 1, 112),)\n",
      "((20153, 1, 61),)\n",
      "((20153, 1, 53),)\n",
      "((20153, 1, 102),)\n"
     ]
    }
   ],
   "source": [
    "# Example of how to update a random order.\n",
    "order_id=random.randint(1,29000)\n",
    "print (\"Original Values: \")\n",
    "\n",
    "execute_sql(\"SELECT ORDER_ID, LINE_NUMBER, QUANTITY FROM SALES_ORDER_DETAIL WHERE ORDER_ID = %d\"%order_id)\n",
    "execute_dml(\"UPDATE SALES_ORDER_DETAIL set QUANTITY = QUANTITY + 1 WHERE ORDER_ID = %d\"%order_id)\n",
    "print (\"Updated Values: \")\n",
    "\n",
    "execute_sql(\"SELECT ORDER_ID, LINE_NUMBER, QUANTITY FROM SALES_ORDER_DETAIL WHERE ORDER_ID = %d\"%order_id)\n"
   ]
  },
  {
   "cell_type": "code",
   "execution_count": null,
   "metadata": {},
   "outputs": [],
   "source": []
  }
 ],
 "metadata": {
  "kernelspec": {
   "display_name": "conda_python3",
   "language": "python",
   "name": "conda_python3"
  },
  "language_info": {
   "codemirror_mode": {
    "name": "ipython",
    "version": 3
   },
   "file_extension": ".py",
   "mimetype": "text/x-python",
   "name": "python",
   "nbconvert_exporter": "python",
   "pygments_lexer": "ipython3",
   "version": "3.6.10"
  }
 },
 "nbformat": 4,
 "nbformat_minor": 4
}
