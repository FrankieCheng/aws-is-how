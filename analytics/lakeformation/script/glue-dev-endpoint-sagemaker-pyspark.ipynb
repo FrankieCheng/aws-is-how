{
 "cells": [
  {
   "cell_type": "code",
   "execution_count": 1,
   "metadata": {},
   "outputs": [
    {
     "name": "stdout",
     "output_type": "stream",
     "text": [
      "Starting Spark application\n"
     ]
    },
    {
     "data": {
      "text/html": [
       "<table>\n",
       "<tr><th>ID</th><th>YARN Application ID</th><th>Kind</th><th>State</th><th>Spark UI</th><th>Driver log</th><th>Current session?</th></tr><tr><td>0</td><td>application_1609997071184_0001</td><td>pyspark</td><td>idle</td><td><a target=\"_blank\" href=\"http://ip-10-0-0-62.us-west-1.compute.internal:20888/proxy/application_1609997071184_0001/\">Link</a></td><td><a target=\"_blank\" href=\"http://ip-10-0-0-125.us-west-1.compute.internal:8042/node/containerlogs/container_1609997071184_0001_01_000001/livy\">Link</a></td><td>✔</td></tr></table>"
      ],
      "text/plain": [
       "<IPython.core.display.HTML object>"
      ]
     },
     "metadata": {},
     "output_type": "display_data"
    },
    {
     "data": {
      "application/vnd.jupyter.widget-view+json": {
       "model_id": "",
       "version_major": 2,
       "version_minor": 0
      },
      "text/plain": [
       "FloatProgress(value=0.0, bar_style='info', description='Progress:', layout=Layout(height='25px', width='50%'),…"
      ]
     },
     "metadata": {},
     "output_type": "display_data"
    },
    {
     "name": "stdout",
     "output_type": "stream",
     "text": [
      "SparkSession available as 'spark'.\n"
     ]
    },
    {
     "data": {
      "application/vnd.jupyter.widget-view+json": {
       "model_id": "",
       "version_major": 2,
       "version_minor": 0
      },
      "text/plain": [
       "FloatProgress(value=0.0, bar_style='info', description='Progress:', layout=Layout(height='25px', width='50%'),…"
      ]
     },
     "metadata": {},
     "output_type": "display_data"
    }
   ],
   "source": [
    "from awsglue.transforms import *\n",
    "from awsglue.utils import getResolvedOptions\n",
    "from pyspark.context import SparkContext\n",
    "from awsglue.context import GlueContext\n",
    "from awsglue.job import Job\n",
    "\n",
    "glueContext = GlueContext(SparkContext.getOrCreate())"
   ]
  },
  {
   "cell_type": "code",
   "execution_count": 2,
   "metadata": {},
   "outputs": [
    {
     "data": {
      "application/vnd.jupyter.widget-view+json": {
       "model_id": "",
       "version_major": 2,
       "version_minor": 0
      },
      "text/plain": [
       "FloatProgress(value=0.0, bar_style='info', description='Progress:', layout=Layout(height='25px', width='50%'),…"
      ]
     },
     "metadata": {},
     "output_type": "display_data"
    },
    {
     "name": "stdout",
     "output_type": "stream",
     "text": [
      "Count:  19999\n",
      "root\n",
      "|-- vendorid: long\n",
      "|-- lpep_pickup_datetime: string\n",
      "|-- lpep_dropoff_datetime: string\n",
      "|-- store_and_fwd_flag: string\n",
      "|-- ratecodeid: long\n",
      "|-- pulocationid: long\n",
      "|-- dolocationid: long\n",
      "|-- passenger_count: long\n",
      "|-- trip_distance: double\n",
      "|-- fare_amount: double\n",
      "|-- extra: double\n",
      "|-- mta_tax: double\n",
      "|-- tip_amount: double\n",
      "|-- tolls_amount: double\n",
      "|-- ehail_fee: string\n",
      "|-- improvement_surcharge: double\n",
      "|-- total_amount: double\n",
      "|-- payment_type: long\n",
      "|-- trip_type: long"
     ]
    }
   ],
   "source": [
    "nyctaxi = glueContext.create_dynamic_frame.from_catalog(database=\"glue-demo\", table_name=\"s3_nyctaxi\")\n",
    "print('Count: ', nyctaxi.count())\n",
    "nyctaxi.printSchema()"
   ]
  },
  {
   "cell_type": "code",
   "execution_count": 14,
   "metadata": {},
   "outputs": [
    {
     "data": {
      "application/vnd.jupyter.widget-view+json": {
       "model_id": "",
       "version_major": 2,
       "version_minor": 0
      },
      "text/plain": [
       "FloatProgress(value=0.0, bar_style='info', description='Progress:', layout=Layout(height='25px', width='50%'),…"
      ]
     },
     "metadata": {},
     "output_type": "display_data"
    },
    {
     "name": "stdout",
     "output_type": "stream",
     "text": [
      "+--------+--------------------+---------------------+------------------+----------+------------+------------+---------------+-------------+-----------+-----+-------+----------+------------+---------+---------------------+------------+------------+---------+\n",
      "|vendorid|lpep_pickup_datetime|lpep_dropoff_datetime|store_and_fwd_flag|ratecodeid|pulocationid|dolocationid|passenger_count|trip_distance|fare_amount|extra|mta_tax|tip_amount|tolls_amount|ehail_fee|improvement_surcharge|total_amount|payment_type|trip_type|\n",
      "+--------+--------------------+---------------------+------------------+----------+------------+------------+---------------+-------------+-----------+-----+-------+----------+------------+---------+---------------------+------------+------------+---------+\n",
      "|       2| 2017-01-01 00:01:15|  2017-01-01 00:11:05|                 N|         1|          42|         166|              1|         1.71|        9.0|  0.0|    0.5|       0.0|         0.0|         |                  0.3|         9.8|           2|        1|\n",
      "|       2| 2017-01-01 00:03:34|  2017-01-01 00:09:00|                 N|         1|          75|          74|              1|         1.44|        6.5|  0.5|    0.5|       0.0|         0.0|         |                  0.3|         7.8|           2|        1|\n",
      "|       2| 2017-01-01 00:04:02|  2017-01-01 00:12:55|                 N|         1|          82|          70|              5|         3.45|       12.0|  0.5|    0.5|      2.66|         0.0|         |                  0.3|       15.96|           1|        1|\n",
      "|       2| 2017-01-01 00:01:40|  2017-01-01 00:14:23|                 N|         1|         255|         232|              1|         2.11|       10.5|  0.5|    0.5|       0.0|         0.0|         |                  0.3|        11.8|           2|        1|\n",
      "|       2| 2017-01-01 00:00:51|  2017-01-01 00:18:55|                 N|         1|         166|         239|              1|         2.76|       11.5|  0.5|    0.5|       0.0|         0.0|         |                  0.3|        12.8|           2|        1|\n",
      "|       2| 2017-01-01 00:00:28|  2017-01-01 00:13:31|                 N|         1|         179|         226|              1|         4.14|       15.0|  0.5|    0.5|       0.0|         0.0|         |                  0.3|        16.3|           1|        1|\n",
      "|       2| 2017-01-01 00:02:39|  2017-01-01 00:26:28|                 N|         1|          74|         167|              1|         4.22|       19.0|  0.5|    0.5|       0.0|         0.0|         |                  0.3|        20.3|           2|        1|\n",
      "|       2| 2017-01-01 00:15:21|  2017-01-01 00:28:06|                 N|         1|         112|          37|              1|         2.83|       11.0|  0.5|    0.5|       0.0|         0.0|         |                  0.3|        12.3|           2|        1|\n",
      "|       2| 2017-01-01 00:06:49|  2017-01-01 00:11:57|                 N|         1|          36|          37|              1|         0.78|        5.0|  0.5|    0.5|       0.0|         0.0|         |                  0.3|         6.3|           2|        1|\n",
      "|       2| 2017-01-01 00:14:34|  2017-01-01 00:28:57|                 N|         1|         127|         174|              5|         3.49|       13.5|  0.5|    0.5|       0.0|         0.0|         |                  0.3|        14.8|           2|        1|\n",
      "|       2| 2017-01-01 00:01:17|  2017-01-01 00:09:38|                 N|         1|          41|         238|              1|         1.61|        8.5|  0.5|    0.5|      1.96|         0.0|         |                  0.3|       11.76|           1|        1|\n",
      "|       2| 2017-01-01 00:31:46|  2017-01-01 00:52:13|                 N|         1|          97|         228|              1|         5.63|       21.0|  0.5|    0.5|       1.0|         0.0|         |                  0.3|        23.3|           1|        1|\n",
      "|       2| 2017-01-01 00:01:03|  2017-01-01 00:22:33|                 N|         1|         255|          26|              5|        10.24|       30.0|  0.5|    0.5|       0.0|         0.0|         |                  0.3|        31.3|           2|        1|\n",
      "|       2| 2017-01-01 00:00:39|  2017-01-01 00:09:08|                 N|         1|          70|         173|              1|         0.97|        7.0|  0.5|    0.5|       0.0|         0.0|         |                  0.3|         8.3|           1|        1|\n",
      "|       2| 2017-01-01 00:03:20|  2017-01-01 00:18:16|                 N|         1|         255|          40|              1|         5.56|       18.5|  0.5|    0.5|      5.94|         0.0|         |                  0.3|       25.74|           1|        1|\n",
      "|       2| 2017-01-01 00:03:28|  2017-01-01 00:03:28|                 N|         1|          82|         260|              1|         1.75|       10.0|  0.5|    0.5|       0.0|         0.0|         |                  0.3|        11.3|           2|        1|\n",
      "|       2| 2017-01-01 00:00:01|  2017-01-01 00:00:05|                 N|         5|          36|          36|              1|          0.0|        3.0|  0.0|    0.0|       0.0|         0.0|         |                  0.0|         3.0|           1|        2|\n",
      "|       2| 2017-01-01 00:01:51|  2017-01-01 00:11:48|                 N|         1|           7|         223|              1|          2.0|        9.0|  0.5|    0.5|      2.06|         0.0|         |                  0.3|       12.36|           1|        1|\n",
      "|       2| 2017-01-01 00:26:09|  2017-01-01 00:38:03|                 N|         1|         256|         106|              1|         5.48|       17.0|  0.5|    0.5|      3.29|         0.0|         |                  0.3|       21.59|           1|        1|\n",
      "|       2| 2017-01-01 00:49:08|  2017-01-01 01:00:54|                 N|         1|         181|         228|              1|          2.0|       10.5|  0.5|    0.5|       0.0|         0.0|         |                  0.3|        11.8|           2|        1|\n",
      "+--------+--------------------+---------------------+------------------+----------+------------+------------+---------------+-------------+-----------+-----+-------+----------+------------+---------+---------------------+------------+------------+---------+\n",
      "only showing top 20 rows"
     ]
    }
   ],
   "source": [
    "nyctaxi.toDF().show()"
   ]
  },
  {
   "cell_type": "code",
   "execution_count": 13,
   "metadata": {},
   "outputs": [
    {
     "data": {
      "application/vnd.jupyter.widget-view+json": {
       "model_id": "",
       "version_major": 2,
       "version_minor": 0
      },
      "text/plain": [
       "FloatProgress(value=0.0, bar_style='info', description='Progress:', layout=Layout(height='25px', width='50%'),…"
      ]
     },
     "metadata": {},
     "output_type": "display_data"
    },
    {
     "name": "stdout",
     "output_type": "stream",
     "text": [
      "+--------------------+---------------------+------------------+---------------+-------------+-----------+-----+-------+----------+------------+---------+---------------------+------------+------------+---------+-----------+---------+\n",
      "|lpep_pickup_datetime|lpep_dropoff_datetime|store_and_fwd_flag|passenger_count|trip_distance|fare_amount|extra|mta_tax|tip_amount|tolls_amount|ehail_fee|improvement_surcharge|total_amount|payment_type|trip_type|vendor_name|rate_code|\n",
      "+--------------------+---------------------+------------------+---------------+-------------+-----------+-----+-------+----------+------------+---------+---------------------+------------+------------+---------+-----------+---------+\n",
      "| 2017-01-01 00:01:15|  2017-01-01 00:11:05|                 N|              1|         1.71|        9.0|  0.0|    0.5|       0.0|         0.0|         |                  0.3|         9.8|           2|        1|          2|        1|\n",
      "| 2017-01-01 00:03:34|  2017-01-01 00:09:00|                 N|              1|         1.44|        6.5|  0.5|    0.5|       0.0|         0.0|         |                  0.3|         7.8|           2|        1|          2|        1|\n",
      "| 2017-01-01 00:04:02|  2017-01-01 00:12:55|                 N|              5|         3.45|       12.0|  0.5|    0.5|      2.66|         0.0|         |                  0.3|       15.96|           1|        1|          2|        1|\n",
      "| 2017-01-01 00:01:40|  2017-01-01 00:14:23|                 N|              1|         2.11|       10.5|  0.5|    0.5|       0.0|         0.0|         |                  0.3|        11.8|           2|        1|          2|        1|\n",
      "| 2017-01-01 00:00:51|  2017-01-01 00:18:55|                 N|              1|         2.76|       11.5|  0.5|    0.5|       0.0|         0.0|         |                  0.3|        12.8|           2|        1|          2|        1|\n",
      "| 2017-01-01 00:00:28|  2017-01-01 00:13:31|                 N|              1|         4.14|       15.0|  0.5|    0.5|       0.0|         0.0|         |                  0.3|        16.3|           1|        1|          2|        1|\n",
      "| 2017-01-01 00:02:39|  2017-01-01 00:26:28|                 N|              1|         4.22|       19.0|  0.5|    0.5|       0.0|         0.0|         |                  0.3|        20.3|           2|        1|          2|        1|\n",
      "| 2017-01-01 00:15:21|  2017-01-01 00:28:06|                 N|              1|         2.83|       11.0|  0.5|    0.5|       0.0|         0.0|         |                  0.3|        12.3|           2|        1|          2|        1|\n",
      "| 2017-01-01 00:06:49|  2017-01-01 00:11:57|                 N|              1|         0.78|        5.0|  0.5|    0.5|       0.0|         0.0|         |                  0.3|         6.3|           2|        1|          2|        1|\n",
      "| 2017-01-01 00:14:34|  2017-01-01 00:28:57|                 N|              5|         3.49|       13.5|  0.5|    0.5|       0.0|         0.0|         |                  0.3|        14.8|           2|        1|          2|        1|\n",
      "| 2017-01-01 00:01:17|  2017-01-01 00:09:38|                 N|              1|         1.61|        8.5|  0.5|    0.5|      1.96|         0.0|         |                  0.3|       11.76|           1|        1|          2|        1|\n",
      "| 2017-01-01 00:31:46|  2017-01-01 00:52:13|                 N|              1|         5.63|       21.0|  0.5|    0.5|       1.0|         0.0|         |                  0.3|        23.3|           1|        1|          2|        1|\n",
      "| 2017-01-01 00:01:03|  2017-01-01 00:22:33|                 N|              5|        10.24|       30.0|  0.5|    0.5|       0.0|         0.0|         |                  0.3|        31.3|           2|        1|          2|        1|\n",
      "| 2017-01-01 00:00:39|  2017-01-01 00:09:08|                 N|              1|         0.97|        7.0|  0.5|    0.5|       0.0|         0.0|         |                  0.3|         8.3|           1|        1|          2|        1|\n",
      "| 2017-01-01 00:03:20|  2017-01-01 00:18:16|                 N|              1|         5.56|       18.5|  0.5|    0.5|      5.94|         0.0|         |                  0.3|       25.74|           1|        1|          2|        1|\n",
      "| 2017-01-01 00:03:28|  2017-01-01 00:03:28|                 N|              1|         1.75|       10.0|  0.5|    0.5|       0.0|         0.0|         |                  0.3|        11.3|           2|        1|          2|        1|\n",
      "| 2017-01-01 00:00:01|  2017-01-01 00:00:05|                 N|              1|          0.0|        3.0|  0.0|    0.0|       0.0|         0.0|         |                  0.0|         3.0|           1|        2|          2|        5|\n",
      "| 2017-01-01 00:01:51|  2017-01-01 00:11:48|                 N|              1|          2.0|        9.0|  0.5|    0.5|      2.06|         0.0|         |                  0.3|       12.36|           1|        1|          2|        1|\n",
      "| 2017-01-01 00:26:09|  2017-01-01 00:38:03|                 N|              1|         5.48|       17.0|  0.5|    0.5|      3.29|         0.0|         |                  0.3|       21.59|           1|        1|          2|        1|\n",
      "| 2017-01-01 00:49:08|  2017-01-01 01:00:54|                 N|              1|          2.0|       10.5|  0.5|    0.5|       0.0|         0.0|         |                  0.3|        11.8|           2|        1|          2|        1|\n",
      "+--------------------+---------------------+------------------+---------------+-------------+-----------+-----+-------+----------+------------+---------+---------------------+------------+------------+---------+-----------+---------+\n",
      "only showing top 20 rows"
     ]
    }
   ],
   "source": [
    "nyctaxi_filter = nyctaxi.drop_fields(['pulocationid',\n",
    "                        'dolocationid']).rename_field(\n",
    "                            'vendorid', 'vendor_name').rename_field(\n",
    "                               'ratecodeid', 'rate_code')\n",
    "nyctaxi_filter.toDF().show()"
   ]
  },
  {
   "cell_type": "code",
   "execution_count": null,
   "metadata": {},
   "outputs": [],
   "source": []
  }
 ],
 "metadata": {
  "kernelspec": {
   "display_name": "Sparkmagic (PySpark)",
   "language": "",
   "name": "pysparkkernel"
  },
  "language_info": {
   "codemirror_mode": {
    "name": "python",
    "version": 3
   },
   "mimetype": "text/x-python",
   "name": "pyspark",
   "pygments_lexer": "python3"
  }
 },
 "nbformat": 4,
 "nbformat_minor": 4
}
